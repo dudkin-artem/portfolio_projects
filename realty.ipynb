{
 "cells": [
  {
   "cell_type": "markdown",
   "id": "281f4c77-429f-4e65-9e27-8d8d1fc2c4fc",
   "metadata": {},
   "source": [
    "## Оглавление:\n",
    "1. Обработка пропусков\n",
    "2. Анализ пропусков\n",
    "3. Добавление данных в таблицу\n",
    "4. Исследовательский анализ данных:\n",
    "    - 4.1 Анализ параметров\n",
    "    - 4.2 Анализ времени продажи квартиры\n",
    "    - 4.3 Анализ факторов, влияющих на цену квартиры\n",
    "    - 4.4 Анализ места продажи квартиры.\n",
    "    - 4.5 Анализ предложения квартир\n",
    "    - 4.6 Анализ сегмента \"квартиры в центре\"\n",
    "5. Общий вывод\n",
    "\n",
    "\n",
    "\n",
    "\n",
    "\n",
    "\n",
    "\n",
    "\n"
   ]
  },
  {
   "cell_type": "markdown",
   "id": "2550d8c7-a504-4022-8237-f2c1af184aaa",
   "metadata": {},
   "source": [
    "### 1. Обработка пропусков\n",
    "\n",
    "Были поставлены следующие задачи:\n",
    "- Добавить в таблицу: цену квадратного метра; день недели, месяц и год публикации объявления; этаж квартиры; варианты — первый, последний, другой; соотношение жилой и общей площади, а также отношение площади кухни к общей.\n",
    "- Изучить параметры: площадь, цена, число комнат, высота потолков.\n",
    "- Выбрать 10 населённых пунктов с наибольшим числом объявлений."
   ]
  },
  {
   "cell_type": "code",
   "execution_count": 2,
   "id": "2af5e231-a178-4fad-910f-745f349709ae",
   "metadata": {},
   "outputs": [],
   "source": [
    "import pandas as pd\n",
    "import numpy as np\n",
    "import seaborn as sns"
   ]
  },
  {
   "cell_type": "code",
   "execution_count": 6,
   "id": "14b01161-4765-449e-8551-dbae7b015a58",
   "metadata": {
    "tags": []
   },
   "outputs": [
    {
     "data": {
      "text/html": [
       "<div>\n",
       "<style scoped>\n",
       "    .dataframe tbody tr th:only-of-type {\n",
       "        vertical-align: middle;\n",
       "    }\n",
       "\n",
       "    .dataframe tbody tr th {\n",
       "        vertical-align: top;\n",
       "    }\n",
       "\n",
       "    .dataframe thead th {\n",
       "        text-align: right;\n",
       "    }\n",
       "</style>\n",
       "<table border=\"1\" class=\"dataframe\">\n",
       "  <thead>\n",
       "    <tr style=\"text-align: right;\">\n",
       "      <th></th>\n",
       "      <th>total_images</th>\n",
       "      <th>last_price</th>\n",
       "      <th>total_area</th>\n",
       "      <th>first_day_exposition</th>\n",
       "      <th>rooms</th>\n",
       "      <th>ceiling_height</th>\n",
       "      <th>floors_total</th>\n",
       "      <th>living_area</th>\n",
       "      <th>floor</th>\n",
       "      <th>is_apartment</th>\n",
       "      <th>...</th>\n",
       "      <th>kitchen_area</th>\n",
       "      <th>balcony</th>\n",
       "      <th>locality_name</th>\n",
       "      <th>airports_nearest</th>\n",
       "      <th>cityCenters_nearest</th>\n",
       "      <th>parks_around3000</th>\n",
       "      <th>parks_nearest</th>\n",
       "      <th>ponds_around3000</th>\n",
       "      <th>ponds_nearest</th>\n",
       "      <th>days_exposition</th>\n",
       "    </tr>\n",
       "  </thead>\n",
       "  <tbody>\n",
       "    <tr>\n",
       "      <th>0</th>\n",
       "      <td>20</td>\n",
       "      <td>13000000.0</td>\n",
       "      <td>108.0</td>\n",
       "      <td>2019-03-07T00:00:00</td>\n",
       "      <td>3</td>\n",
       "      <td>2.70</td>\n",
       "      <td>16.0</td>\n",
       "      <td>51.0</td>\n",
       "      <td>8</td>\n",
       "      <td>NaN</td>\n",
       "      <td>...</td>\n",
       "      <td>25.0</td>\n",
       "      <td>NaN</td>\n",
       "      <td>Санкт-Петербург</td>\n",
       "      <td>18863.0</td>\n",
       "      <td>16028.0</td>\n",
       "      <td>1.0</td>\n",
       "      <td>482.0</td>\n",
       "      <td>2.0</td>\n",
       "      <td>755.0</td>\n",
       "      <td>NaN</td>\n",
       "    </tr>\n",
       "    <tr>\n",
       "      <th>1</th>\n",
       "      <td>7</td>\n",
       "      <td>3350000.0</td>\n",
       "      <td>40.4</td>\n",
       "      <td>2018-12-04T00:00:00</td>\n",
       "      <td>1</td>\n",
       "      <td>NaN</td>\n",
       "      <td>11.0</td>\n",
       "      <td>18.6</td>\n",
       "      <td>1</td>\n",
       "      <td>NaN</td>\n",
       "      <td>...</td>\n",
       "      <td>11.0</td>\n",
       "      <td>2.0</td>\n",
       "      <td>посёлок Шушары</td>\n",
       "      <td>12817.0</td>\n",
       "      <td>18603.0</td>\n",
       "      <td>0.0</td>\n",
       "      <td>NaN</td>\n",
       "      <td>0.0</td>\n",
       "      <td>NaN</td>\n",
       "      <td>81.0</td>\n",
       "    </tr>\n",
       "    <tr>\n",
       "      <th>2</th>\n",
       "      <td>10</td>\n",
       "      <td>5196000.0</td>\n",
       "      <td>56.0</td>\n",
       "      <td>2015-08-20T00:00:00</td>\n",
       "      <td>2</td>\n",
       "      <td>NaN</td>\n",
       "      <td>5.0</td>\n",
       "      <td>34.3</td>\n",
       "      <td>4</td>\n",
       "      <td>NaN</td>\n",
       "      <td>...</td>\n",
       "      <td>8.3</td>\n",
       "      <td>0.0</td>\n",
       "      <td>Санкт-Петербург</td>\n",
       "      <td>21741.0</td>\n",
       "      <td>13933.0</td>\n",
       "      <td>1.0</td>\n",
       "      <td>90.0</td>\n",
       "      <td>2.0</td>\n",
       "      <td>574.0</td>\n",
       "      <td>558.0</td>\n",
       "    </tr>\n",
       "    <tr>\n",
       "      <th>3</th>\n",
       "      <td>0</td>\n",
       "      <td>64900000.0</td>\n",
       "      <td>159.0</td>\n",
       "      <td>2015-07-24T00:00:00</td>\n",
       "      <td>3</td>\n",
       "      <td>NaN</td>\n",
       "      <td>14.0</td>\n",
       "      <td>NaN</td>\n",
       "      <td>9</td>\n",
       "      <td>NaN</td>\n",
       "      <td>...</td>\n",
       "      <td>NaN</td>\n",
       "      <td>0.0</td>\n",
       "      <td>Санкт-Петербург</td>\n",
       "      <td>28098.0</td>\n",
       "      <td>6800.0</td>\n",
       "      <td>2.0</td>\n",
       "      <td>84.0</td>\n",
       "      <td>3.0</td>\n",
       "      <td>234.0</td>\n",
       "      <td>424.0</td>\n",
       "    </tr>\n",
       "    <tr>\n",
       "      <th>4</th>\n",
       "      <td>2</td>\n",
       "      <td>10000000.0</td>\n",
       "      <td>100.0</td>\n",
       "      <td>2018-06-19T00:00:00</td>\n",
       "      <td>2</td>\n",
       "      <td>3.03</td>\n",
       "      <td>14.0</td>\n",
       "      <td>32.0</td>\n",
       "      <td>13</td>\n",
       "      <td>NaN</td>\n",
       "      <td>...</td>\n",
       "      <td>41.0</td>\n",
       "      <td>NaN</td>\n",
       "      <td>Санкт-Петербург</td>\n",
       "      <td>31856.0</td>\n",
       "      <td>8098.0</td>\n",
       "      <td>2.0</td>\n",
       "      <td>112.0</td>\n",
       "      <td>1.0</td>\n",
       "      <td>48.0</td>\n",
       "      <td>121.0</td>\n",
       "    </tr>\n",
       "  </tbody>\n",
       "</table>\n",
       "<p>5 rows × 22 columns</p>\n",
       "</div>"
      ],
      "text/plain": [
       "   total_images  last_price  total_area first_day_exposition  rooms  \\\n",
       "0            20  13000000.0       108.0  2019-03-07T00:00:00      3   \n",
       "1             7   3350000.0        40.4  2018-12-04T00:00:00      1   \n",
       "2            10   5196000.0        56.0  2015-08-20T00:00:00      2   \n",
       "3             0  64900000.0       159.0  2015-07-24T00:00:00      3   \n",
       "4             2  10000000.0       100.0  2018-06-19T00:00:00      2   \n",
       "\n",
       "   ceiling_height  floors_total  living_area  floor is_apartment  ...  \\\n",
       "0            2.70          16.0         51.0      8          NaN  ...   \n",
       "1             NaN          11.0         18.6      1          NaN  ...   \n",
       "2             NaN           5.0         34.3      4          NaN  ...   \n",
       "3             NaN          14.0          NaN      9          NaN  ...   \n",
       "4            3.03          14.0         32.0     13          NaN  ...   \n",
       "\n",
       "   kitchen_area  balcony    locality_name  airports_nearest  \\\n",
       "0          25.0      NaN  Санкт-Петербург           18863.0   \n",
       "1          11.0      2.0   посёлок Шушары           12817.0   \n",
       "2           8.3      0.0  Санкт-Петербург           21741.0   \n",
       "3           NaN      0.0  Санкт-Петербург           28098.0   \n",
       "4          41.0      NaN  Санкт-Петербург           31856.0   \n",
       "\n",
       "  cityCenters_nearest  parks_around3000  parks_nearest  ponds_around3000  \\\n",
       "0             16028.0               1.0          482.0               2.0   \n",
       "1             18603.0               0.0            NaN               0.0   \n",
       "2             13933.0               1.0           90.0               2.0   \n",
       "3              6800.0               2.0           84.0               3.0   \n",
       "4              8098.0               2.0          112.0               1.0   \n",
       "\n",
       "   ponds_nearest  days_exposition  \n",
       "0          755.0              NaN  \n",
       "1            NaN             81.0  \n",
       "2          574.0            558.0  \n",
       "3          234.0            424.0  \n",
       "4           48.0            121.0  \n",
       "\n",
       "[5 rows x 22 columns]"
      ]
     },
     "execution_count": 6,
     "metadata": {},
     "output_type": "execute_result"
    }
   ],
   "source": [
    "data = pd.read_csv('/Users/artem/Desktop/Работы Юпитер/Проект 2 - Яндекс Недвижимость/real_estate_data.csv', sep='\\t') #решаем через разделитель\n",
    "data.head(5)"
   ]
  },
  {
   "cell_type": "code",
   "execution_count": 7,
   "id": "566bd568-a35e-4bc8-90f6-58e364d521b6",
   "metadata": {
    "tags": []
   },
   "outputs": [
    {
     "name": "stdout",
     "output_type": "stream",
     "text": [
      "<class 'pandas.core.frame.DataFrame'>\n",
      "RangeIndex: 23699 entries, 0 to 23698\n",
      "Data columns (total 22 columns):\n",
      " #   Column                Non-Null Count  Dtype  \n",
      "---  ------                --------------  -----  \n",
      " 0   total_images          23699 non-null  int64  \n",
      " 1   last_price            23699 non-null  float64\n",
      " 2   total_area            23699 non-null  float64\n",
      " 3   first_day_exposition  23699 non-null  object \n",
      " 4   rooms                 23699 non-null  int64  \n",
      " 5   ceiling_height        14504 non-null  float64\n",
      " 6   floors_total          23613 non-null  float64\n",
      " 7   living_area           21796 non-null  float64\n",
      " 8   floor                 23699 non-null  int64  \n",
      " 9   is_apartment          2775 non-null   object \n",
      " 10  studio                23699 non-null  bool   \n",
      " 11  open_plan             23699 non-null  bool   \n",
      " 12  kitchen_area          21421 non-null  float64\n",
      " 13  balcony               12180 non-null  float64\n",
      " 14  locality_name         23650 non-null  object \n",
      " 15  airports_nearest      18157 non-null  float64\n",
      " 16  cityCenters_nearest   18180 non-null  float64\n",
      " 17  parks_around3000      18181 non-null  float64\n",
      " 18  parks_nearest         8079 non-null   float64\n",
      " 19  ponds_around3000      18181 non-null  float64\n",
      " 20  ponds_nearest         9110 non-null   float64\n",
      " 21  days_exposition       20518 non-null  float64\n",
      "dtypes: bool(2), float64(14), int64(3), object(3)\n",
      "memory usage: 3.7+ MB\n"
     ]
    }
   ],
   "source": [
    "data.info() # оценка количества пропусков по столбцам"
   ]
  },
  {
   "cell_type": "markdown",
   "id": "4b818106-2d33-4446-88c6-fe84df1de13c",
   "metadata": {},
   "source": [
    "Определим список столбцов, критичных для дальнейшего исследования: в нашем случае это: \n",
    "\n",
    "- last_price (расчет цены кв/м)\n",
    "- total_area (расчет цены кв/м)\n",
    "- first_day_exposition - день недели, месяц и год публикации объявления - важен для последующего анализа\n",
    "- floor - этаж - важен для последующего анализа\n",
    "- floors_total - определяем, последний ли этаж\n",
    "- living_area, kitchen_area - соотношение жилой и общей площади, а также отношение площади кухни к общей\n",
    "- rooms - число комнат - важен для последующего анализа\n",
    "- ceiling_height - высота потолков - важен для последующего анализа\n",
    "- locality_name - расположение: критично для дальнейшего анализа"
   ]
  },
  {
   "cell_type": "code",
   "execution_count": 4,
   "id": "11fd9144-1341-4e43-ae78-65f46c71d866",
   "metadata": {
    "tags": []
   },
   "outputs": [
    {
     "data": {
      "text/plain": [
       "430000.0"
      ]
     },
     "execution_count": 4,
     "metadata": {},
     "output_type": "execute_result"
    }
   ],
   "source": [
    "#data.info() # пропусков в столбце last_price нет, тип данных подходящий\n",
    "data['last_price'].max() #763000000.0 - вопросов нет\n",
    "data['last_price'].min() #12190.0 - явно занижено на три нуля - квартиры подобной площади стоят 12-13 миллионов, заменим значение\n",
    "data.query('last_price == 12190.0')\n",
    "data = data.query('last_price != 12190.0')\n",
    "data['last_price'].min()\n",
    "# в остальном минимумы объясняются неудачным расположением, площадью и тд"
   ]
  },
  {
   "cell_type": "code",
   "execution_count": 6,
   "id": "9818d0ac-c213-4442-afd8-64e0ea75f05f",
   "metadata": {
    "tags": []
   },
   "outputs": [
    {
     "data": {
      "text/plain": [
       "0.0"
      ]
     },
     "execution_count": 6,
     "metadata": {},
     "output_type": "execute_result"
    }
   ],
   "source": [
    "data['floor'].value_counts() # аномалий (отрицательных, нулевых) нет\n",
    "data['floor'].isna().mean() # пропусков нет"
   ]
  },
  {
   "cell_type": "code",
   "execution_count": 7,
   "id": "1504a4e0-c838-47d1-87ae-ea5ec0a1e041",
   "metadata": {
    "tags": []
   },
   "outputs": [],
   "source": [
    "data['floors_total'].value_counts() #зачем-то указаны дробные числа, хотя этаж дробным быть не может\n",
    "data['floors_total'].isna().sum() #3% пропусков\n",
    "data['floors_total'] = data['floors_total'].fillna(data['floors_total'].median()) # пропусков мало, заменим на медиану, чтобы не создавать в будущем проблем с нулевым значением \n",
    "data['floors_total'] = data['floors_total'].astype('int64')\n",
    "#data.info() # замена успешна"
   ]
  },
  {
   "cell_type": "code",
   "execution_count": 8,
   "id": "d34d37ab-51e2-41cd-85be-1c9723670b30",
   "metadata": {
    "tags": []
   },
   "outputs": [
    {
     "data": {
      "text/html": [
       "<div>\n",
       "<style scoped>\n",
       "    .dataframe tbody tr th:only-of-type {\n",
       "        vertical-align: middle;\n",
       "    }\n",
       "\n",
       "    .dataframe tbody tr th {\n",
       "        vertical-align: top;\n",
       "    }\n",
       "\n",
       "    .dataframe thead th {\n",
       "        text-align: right;\n",
       "    }\n",
       "</style>\n",
       "<table border=\"1\" class=\"dataframe\">\n",
       "  <thead>\n",
       "    <tr style=\"text-align: right;\">\n",
       "      <th></th>\n",
       "      <th>total_images</th>\n",
       "      <th>last_price</th>\n",
       "      <th>total_area</th>\n",
       "      <th>first_day_exposition</th>\n",
       "      <th>rooms</th>\n",
       "      <th>ceiling_height</th>\n",
       "      <th>floors_total</th>\n",
       "      <th>living_area</th>\n",
       "      <th>floor</th>\n",
       "      <th>is_apartment</th>\n",
       "      <th>...</th>\n",
       "      <th>kitchen_area</th>\n",
       "      <th>balcony</th>\n",
       "      <th>locality_name</th>\n",
       "      <th>airports_nearest</th>\n",
       "      <th>cityCenters_nearest</th>\n",
       "      <th>parks_around3000</th>\n",
       "      <th>parks_nearest</th>\n",
       "      <th>ponds_around3000</th>\n",
       "      <th>ponds_nearest</th>\n",
       "      <th>days_exposition</th>\n",
       "    </tr>\n",
       "  </thead>\n",
       "  <tbody>\n",
       "    <tr>\n",
       "      <th>114</th>\n",
       "      <td>5</td>\n",
       "      <td>4000000.0</td>\n",
       "      <td>21.4</td>\n",
       "      <td>2019-02-07T00:00:00</td>\n",
       "      <td>1</td>\n",
       "      <td>2.9</td>\n",
       "      <td>8</td>\n",
       "      <td>8.3</td>\n",
       "      <td>7</td>\n",
       "      <td>NaN</td>\n",
       "      <td>...</td>\n",
       "      <td>6.3</td>\n",
       "      <td>NaN</td>\n",
       "      <td>Санкт-Петербург</td>\n",
       "      <td>27089.0</td>\n",
       "      <td>5791.0</td>\n",
       "      <td>2.0</td>\n",
       "      <td>488.0</td>\n",
       "      <td>1.0</td>\n",
       "      <td>286.0</td>\n",
       "      <td>NaN</td>\n",
       "    </tr>\n",
       "    <tr>\n",
       "      <th>680</th>\n",
       "      <td>14</td>\n",
       "      <td>7200000.0</td>\n",
       "      <td>43.0</td>\n",
       "      <td>2017-10-31T00:00:00</td>\n",
       "      <td>1</td>\n",
       "      <td>NaN</td>\n",
       "      <td>8</td>\n",
       "      <td>9.0</td>\n",
       "      <td>2</td>\n",
       "      <td>NaN</td>\n",
       "      <td>...</td>\n",
       "      <td>23.0</td>\n",
       "      <td>NaN</td>\n",
       "      <td>Санкт-Петербург</td>\n",
       "      <td>23900.0</td>\n",
       "      <td>5232.0</td>\n",
       "      <td>1.0</td>\n",
       "      <td>2137.0</td>\n",
       "      <td>1.0</td>\n",
       "      <td>933.0</td>\n",
       "      <td>296.0</td>\n",
       "    </tr>\n",
       "    <tr>\n",
       "      <th>1326</th>\n",
       "      <td>8</td>\n",
       "      <td>8100000.0</td>\n",
       "      <td>52.0</td>\n",
       "      <td>2017-01-29T00:00:00</td>\n",
       "      <td>2</td>\n",
       "      <td>2.7</td>\n",
       "      <td>25</td>\n",
       "      <td>9.0</td>\n",
       "      <td>15</td>\n",
       "      <td>NaN</td>\n",
       "      <td>...</td>\n",
       "      <td>32.0</td>\n",
       "      <td>2.0</td>\n",
       "      <td>Санкт-Петербург</td>\n",
       "      <td>35555.0</td>\n",
       "      <td>15561.0</td>\n",
       "      <td>0.0</td>\n",
       "      <td>NaN</td>\n",
       "      <td>1.0</td>\n",
       "      <td>1180.0</td>\n",
       "      <td>337.0</td>\n",
       "    </tr>\n",
       "    <tr>\n",
       "      <th>2309</th>\n",
       "      <td>10</td>\n",
       "      <td>4200000.0</td>\n",
       "      <td>62.4</td>\n",
       "      <td>2017-06-15T00:00:00</td>\n",
       "      <td>2</td>\n",
       "      <td>2.6</td>\n",
       "      <td>9</td>\n",
       "      <td>8.4</td>\n",
       "      <td>6</td>\n",
       "      <td>NaN</td>\n",
       "      <td>...</td>\n",
       "      <td>41.0</td>\n",
       "      <td>2.0</td>\n",
       "      <td>посёлок Шушары</td>\n",
       "      <td>23662.0</td>\n",
       "      <td>29448.0</td>\n",
       "      <td>0.0</td>\n",
       "      <td>NaN</td>\n",
       "      <td>0.0</td>\n",
       "      <td>NaN</td>\n",
       "      <td>111.0</td>\n",
       "    </tr>\n",
       "    <tr>\n",
       "      <th>3242</th>\n",
       "      <td>7</td>\n",
       "      <td>4440000.0</td>\n",
       "      <td>41.0</td>\n",
       "      <td>2017-07-02T00:00:00</td>\n",
       "      <td>1</td>\n",
       "      <td>NaN</td>\n",
       "      <td>17</td>\n",
       "      <td>3.0</td>\n",
       "      <td>17</td>\n",
       "      <td>NaN</td>\n",
       "      <td>...</td>\n",
       "      <td>11.0</td>\n",
       "      <td>NaN</td>\n",
       "      <td>Санкт-Петербург</td>\n",
       "      <td>19272.0</td>\n",
       "      <td>13073.0</td>\n",
       "      <td>0.0</td>\n",
       "      <td>NaN</td>\n",
       "      <td>0.0</td>\n",
       "      <td>NaN</td>\n",
       "      <td>216.0</td>\n",
       "    </tr>\n",
       "  </tbody>\n",
       "</table>\n",
       "<p>5 rows × 22 columns</p>\n",
       "</div>"
      ],
      "text/plain": [
       "      total_images  last_price  total_area first_day_exposition  rooms  \\\n",
       "114              5   4000000.0        21.4  2019-02-07T00:00:00      1   \n",
       "680             14   7200000.0        43.0  2017-10-31T00:00:00      1   \n",
       "1326             8   8100000.0        52.0  2017-01-29T00:00:00      2   \n",
       "2309            10   4200000.0        62.4  2017-06-15T00:00:00      2   \n",
       "3242             7   4440000.0        41.0  2017-07-02T00:00:00      1   \n",
       "\n",
       "      ceiling_height  floors_total  living_area  floor is_apartment  ...  \\\n",
       "114              2.9             8          8.3      7          NaN  ...   \n",
       "680              NaN             8          9.0      2          NaN  ...   \n",
       "1326             2.7            25          9.0     15          NaN  ...   \n",
       "2309             2.6             9          8.4      6          NaN  ...   \n",
       "3242             NaN            17          3.0     17          NaN  ...   \n",
       "\n",
       "      kitchen_area  balcony    locality_name  airports_nearest  \\\n",
       "114            6.3      NaN  Санкт-Петербург           27089.0   \n",
       "680           23.0      NaN  Санкт-Петербург           23900.0   \n",
       "1326          32.0      2.0  Санкт-Петербург           35555.0   \n",
       "2309          41.0      2.0   посёлок Шушары           23662.0   \n",
       "3242          11.0      NaN  Санкт-Петербург           19272.0   \n",
       "\n",
       "     cityCenters_nearest  parks_around3000  parks_nearest  ponds_around3000  \\\n",
       "114               5791.0               2.0          488.0               1.0   \n",
       "680               5232.0               1.0         2137.0               1.0   \n",
       "1326             15561.0               0.0            NaN               1.0   \n",
       "2309             29448.0               0.0            NaN               0.0   \n",
       "3242             13073.0               0.0            NaN               0.0   \n",
       "\n",
       "      ponds_nearest  days_exposition  \n",
       "114           286.0              NaN  \n",
       "680           933.0            296.0  \n",
       "1326         1180.0            337.0  \n",
       "2309            NaN            111.0  \n",
       "3242            NaN            216.0  \n",
       "\n",
       "[5 rows x 22 columns]"
      ]
     },
     "execution_count": 8,
     "metadata": {},
     "output_type": "execute_result"
    }
   ],
   "source": [
    "#data.hist('living_area', bins=1000) # смотрим, как распределены площади. пики в районе 20-50кв.м понятны, но много близких к нулю значений. \n",
    "#data['living_area'].describe() # медиана равна 30.000000, минимальная площадь - 2 метра, вызывает вопрос\n",
    "data.query('living_area < 10.000000').head(5)\n",
    "# жилая площадь менее 10кв/м - ошибка, т.к значений всего 25, и находятся они в квартирах большой площади. "
   ]
  },
  {
   "cell_type": "code",
   "execution_count": 9,
   "id": "fe06a914-0540-4ac4-a1ba-4b2f3938d6db",
   "metadata": {
    "tags": []
   },
   "outputs": [
    {
     "data": {
      "text/plain": [
       "0"
      ]
     },
     "execution_count": 9,
     "metadata": {},
     "output_type": "execute_result"
    }
   ],
   "source": [
    "data['kitchen_area'].isna().mean() # 9,5% данных - пропуски. \n",
    "data['kitchen_area'].describe() # анализ данных, видно огромное максимальное значение 112 - для кухни это очень много\n",
    "data.query('kitchen_area > 70') #интересная особенность - есть ошибки, где площадь кухни больше жилой площади квартиры\n",
    "# обнаружились огромные квартиры (>400м) с кухнями по 100+ метров - предположим, что это пентхаузы, \n",
    "# целые этажи или коммерческие помещения\n",
    "# заменим пропуски на медиану, чтобы не портить данные средней\n",
    "data['kitchen_area'] = data['kitchen_area'].fillna(data['kitchen_area'].median())\n",
    "data['kitchen_area'].isna().sum() #проверка"
   ]
  },
  {
   "cell_type": "code",
   "execution_count": 10,
   "id": "90c09f8d-961f-461c-be3d-e72bdf5e37ec",
   "metadata": {
    "tags": []
   },
   "outputs": [
    {
     "data": {
      "text/plain": [
       "count    23698.000000\n",
       "mean         2.078952\n",
       "std          1.066219\n",
       "min          1.000000\n",
       "25%          1.000000\n",
       "50%          2.000000\n",
       "75%          3.000000\n",
       "max         19.000000\n",
       "Name: rooms, dtype: float64"
      ]
     },
     "execution_count": 10,
     "metadata": {},
     "output_type": "execute_result"
    }
   ],
   "source": [
    "data['rooms'].describe() #минимальное значение - ноль, ошибка?\n",
    "# data.info() #23699 общее количество значений по столбцу\n",
    "data.query('rooms < 1')['rooms'].count() #195 нулевых значений, подсчитал через count().\n",
    "#гипотеза - нули - это квартиры-комнаты, студии. могут быть любой площади, просто без перегородок, либо без возведенных перегородок\n",
    "def roomer(row):\n",
    "    if row == 0:\n",
    "        row = row + 1\n",
    "    return row\n",
    "data['rooms'] = data['rooms'].apply(roomer)\n",
    "data['rooms'].describe() #проверка"
   ]
  },
  {
   "cell_type": "code",
   "execution_count": 11,
   "id": "3b0725b1-2a94-45d9-a09a-0ea2b62afebe",
   "metadata": {
    "tags": []
   },
   "outputs": [
    {
     "data": {
      "text/plain": [
       "count    23698.000000\n",
       "mean         2.638034\n",
       "std          0.238573\n",
       "min          2.500000\n",
       "25%          2.500000\n",
       "50%          2.500000\n",
       "75%          2.700000\n",
       "max          5.000000\n",
       "Name: ceiling_height, dtype: float64"
      ]
     },
     "execution_count": 11,
     "metadata": {},
     "output_type": "execute_result"
    }
   ],
   "source": [
    "data['ceiling_height'].isna().mean() #38.28% пропусков, значительная часть\n",
    "data['ceiling_height'].describe() #минимальное =1, потолок 1 метр? \n",
    "# анализ планирую проводить по тем данным, что есть, т.к заменять на любое расчетное \n",
    "# значение почти 40% данных - дико\n",
    "def ceiling_heighter(row):\n",
    "    if row < 2.5:\n",
    "        row = 2.5 # заменил с 2 на 2.5 по САНПИН\n",
    "    if row > 5:\n",
    "        row = data['ceiling_height'].median()\n",
    "    return row\n",
    "#data['ceiling_height'] = data['ceiling_height'].apply(ceiling_heighter) #замена нереального 1м потолка на медиану\n",
    "data['ceiling_height'] = data['ceiling_height'].fillna(0)\n",
    "data['ceiling_height'] = data['ceiling_height'].astype('float64')\n",
    "#data.query('ceiling_height !=0')['ceiling_height'].apply(ceiling_heighter)\n",
    "data['ceiling_height'] = data['ceiling_height'].apply(ceiling_heighter)\n",
    "data['ceiling_height'].describe() #проверка\n",
    "# убрали нереальные максимумы и минимумы, в дальнейшем исследовании будем отсекать нули через query"
   ]
  },
  {
   "cell_type": "code",
   "execution_count": 12,
   "id": "34e30404-75e1-4911-97c2-e7e1abe1c38f",
   "metadata": {
    "tags": []
   },
   "outputs": [
    {
     "data": {
      "text/plain": [
       "0"
      ]
     },
     "execution_count": 12,
     "metadata": {},
     "output_type": "execute_result"
    }
   ],
   "source": [
    "data['balcony'].value_counts() # есть нули, скорее всего - просто отсутствует балкон.\n",
    "data['balcony'].isna().sum() # количество пропусков - 11519 / 48.6 процента от общего числа\n",
    "#data['balcony'].isna().mean()\n",
    "#если человек не указал число балконов — скорее всего, их нет. (c)\n",
    "#заменяем пустые ячейки на нули\n",
    "data['balcony'] = data['balcony'].fillna(0)\n",
    "data['balcony'].isna().sum() #проверка\n",
    "# расчет добавил только потому, что об этом прямо говорилось в описании задания.\n",
    "# столбец балконы нам дальше не понадобится, работа ради работы"
   ]
  },
  {
   "cell_type": "markdown",
   "id": "377e94eb-1197-4fc7-aa58-2336d3e51e78",
   "metadata": {},
   "source": [
    "### 2. Анализ пропусков: \n",
    "\n",
    "- ceiling_height - критично для будущих расчетов, заменить на медиану либо 0 нельзя, скорее всего, люди просто ленятся заполнять этот параметр. Убрали нереальные максимумы и минимумы, в дальнейшем исследовании будем отсекать нули через query\n",
    "- floors_total - незначительное количество пропусков, пропусков мало, заменил на медиану, чтобы не создавать в будущем проблем с нулевым значением.\n",
    "- living_area - есть пропуски, вероятно влияющие на точность данных, т.к есть в дальнейшем задании. Нужно обработать. Ошибка в заполнении. \n",
    "- kitchen_area - есть пропуски, могут влиять на вывод, т.к используются в дальнейшем задании. \n",
    "- balcony - есть пропуски, столбец балконы нам дальше не понадобится;\n",
    "- locality_name - есть пропуски, будет целиком обработан в дальнейшем.\n",
    "- cityCenters_nearest - есть пропуски, аналогично locality_name.\n",
    "- parks_around3000, parks_nearest, ponds_around3000, ponds_nearest - пропуски есть, но на ход исследования не влияют\n",
    "- days_exposition - \n",
    "- rooms - число комнат - важен для последующего анализа, убраны нули, заменены на 1. "
   ]
  },
  {
   "cell_type": "code",
   "execution_count": 13,
   "id": "c877b613-6e68-4a01-a3b3-c7baead6f75f",
   "metadata": {},
   "outputs": [],
   "source": [
    "data['last_price'] = data['last_price'].astype('float32')\n",
    "data['total_area'] = data['total_area'].astype('float32')\n",
    "data['ceiling_height'] = data['ceiling_height'].astype('float32')\n",
    "data['living_area'] = data['living_area'].astype('float32')\n",
    "data['kitchen_area'] = data['kitchen_area'].astype('float32')\n",
    "data['balcony'] = data['balcony'].astype('float32')\n",
    "data['airports_nearest'] = data['airports_nearest'].astype('float32')\n",
    "data['cityCenters_nearest'] = data['cityCenters_nearest'].astype('float32')\n",
    "data['parks_around3000'] = data['parks_around3000'].astype('float32')\n",
    "data['parks_nearest'] = data['parks_nearest'].astype('float32')\n",
    "data['ponds_around3000'] = data['ponds_around3000'].astype('float32')\n",
    "data['ponds_nearest'] = data['ponds_nearest'].astype('float32')\n",
    "data['days_exposition'] = data['days_exposition'].astype('float32')\n",
    "#data.info()"
   ]
  },
  {
   "cell_type": "markdown",
   "id": "f14dc41b-3751-4be0-b64a-21f75dba587c",
   "metadata": {},
   "source": [
    "### 3. Добавление данных в таблицу:\n",
    "- цену квадратного метра;\n",
    "- день недели, месяц и год публикации объявления;\n",
    "- этаж квартиры; варианты — первый, последний, другой;\n",
    "- соотношение жилой и общей площади, а также отношение площади кухни к общей."
   ]
  },
  {
   "cell_type": "code",
   "execution_count": 14,
   "id": "6980efa8-7a64-4528-a47c-bf0a525f08cc",
   "metadata": {},
   "outputs": [
    {
     "data": {
      "text/html": [
       "<div>\n",
       "<style scoped>\n",
       "    .dataframe tbody tr th:only-of-type {\n",
       "        vertical-align: middle;\n",
       "    }\n",
       "\n",
       "    .dataframe tbody tr th {\n",
       "        vertical-align: top;\n",
       "    }\n",
       "\n",
       "    .dataframe thead th {\n",
       "        text-align: right;\n",
       "    }\n",
       "</style>\n",
       "<table border=\"1\" class=\"dataframe\">\n",
       "  <thead>\n",
       "    <tr style=\"text-align: right;\">\n",
       "      <th></th>\n",
       "      <th>total_images</th>\n",
       "      <th>last_price</th>\n",
       "      <th>total_area</th>\n",
       "      <th>first_day_exposition</th>\n",
       "      <th>rooms</th>\n",
       "      <th>ceiling_height</th>\n",
       "      <th>floors_total</th>\n",
       "      <th>living_area</th>\n",
       "      <th>floor</th>\n",
       "      <th>is_apartment</th>\n",
       "      <th>...</th>\n",
       "      <th>ponds_around3000</th>\n",
       "      <th>ponds_nearest</th>\n",
       "      <th>days_exposition</th>\n",
       "      <th>price_sm</th>\n",
       "      <th>weekday</th>\n",
       "      <th>month</th>\n",
       "      <th>year</th>\n",
       "      <th>floor_name</th>\n",
       "      <th>living_to_total_area</th>\n",
       "      <th>kitchen_to_total_area</th>\n",
       "    </tr>\n",
       "  </thead>\n",
       "  <tbody>\n",
       "    <tr>\n",
       "      <th>0</th>\n",
       "      <td>20</td>\n",
       "      <td>13000000.0</td>\n",
       "      <td>108.000000</td>\n",
       "      <td>2019-03-07</td>\n",
       "      <td>3</td>\n",
       "      <td>2.70</td>\n",
       "      <td>16</td>\n",
       "      <td>51.000000</td>\n",
       "      <td>8</td>\n",
       "      <td>NaN</td>\n",
       "      <td>...</td>\n",
       "      <td>2.0</td>\n",
       "      <td>755.0</td>\n",
       "      <td>NaN</td>\n",
       "      <td>120370.367188</td>\n",
       "      <td>3</td>\n",
       "      <td>3</td>\n",
       "      <td>2019</td>\n",
       "      <td>другой</td>\n",
       "      <td>0.472222</td>\n",
       "      <td>0.231481</td>\n",
       "    </tr>\n",
       "    <tr>\n",
       "      <th>1</th>\n",
       "      <td>7</td>\n",
       "      <td>3350000.0</td>\n",
       "      <td>40.400002</td>\n",
       "      <td>2018-12-04</td>\n",
       "      <td>1</td>\n",
       "      <td>2.50</td>\n",
       "      <td>11</td>\n",
       "      <td>18.600000</td>\n",
       "      <td>1</td>\n",
       "      <td>NaN</td>\n",
       "      <td>...</td>\n",
       "      <td>0.0</td>\n",
       "      <td>NaN</td>\n",
       "      <td>81.0</td>\n",
       "      <td>82920.789062</td>\n",
       "      <td>1</td>\n",
       "      <td>12</td>\n",
       "      <td>2018</td>\n",
       "      <td>первый</td>\n",
       "      <td>0.460396</td>\n",
       "      <td>0.272277</td>\n",
       "    </tr>\n",
       "    <tr>\n",
       "      <th>2</th>\n",
       "      <td>10</td>\n",
       "      <td>5196000.0</td>\n",
       "      <td>56.000000</td>\n",
       "      <td>2015-08-20</td>\n",
       "      <td>2</td>\n",
       "      <td>2.50</td>\n",
       "      <td>5</td>\n",
       "      <td>34.299999</td>\n",
       "      <td>4</td>\n",
       "      <td>NaN</td>\n",
       "      <td>...</td>\n",
       "      <td>2.0</td>\n",
       "      <td>574.0</td>\n",
       "      <td>558.0</td>\n",
       "      <td>92785.710938</td>\n",
       "      <td>3</td>\n",
       "      <td>8</td>\n",
       "      <td>2015</td>\n",
       "      <td>другой</td>\n",
       "      <td>0.612500</td>\n",
       "      <td>0.148214</td>\n",
       "    </tr>\n",
       "    <tr>\n",
       "      <th>3</th>\n",
       "      <td>0</td>\n",
       "      <td>64900000.0</td>\n",
       "      <td>159.000000</td>\n",
       "      <td>2015-07-24</td>\n",
       "      <td>3</td>\n",
       "      <td>2.50</td>\n",
       "      <td>14</td>\n",
       "      <td>NaN</td>\n",
       "      <td>9</td>\n",
       "      <td>NaN</td>\n",
       "      <td>...</td>\n",
       "      <td>3.0</td>\n",
       "      <td>234.0</td>\n",
       "      <td>424.0</td>\n",
       "      <td>408176.093750</td>\n",
       "      <td>4</td>\n",
       "      <td>7</td>\n",
       "      <td>2015</td>\n",
       "      <td>другой</td>\n",
       "      <td>NaN</td>\n",
       "      <td>0.057233</td>\n",
       "    </tr>\n",
       "    <tr>\n",
       "      <th>4</th>\n",
       "      <td>2</td>\n",
       "      <td>10000000.0</td>\n",
       "      <td>100.000000</td>\n",
       "      <td>2018-06-19</td>\n",
       "      <td>2</td>\n",
       "      <td>3.03</td>\n",
       "      <td>14</td>\n",
       "      <td>32.000000</td>\n",
       "      <td>13</td>\n",
       "      <td>NaN</td>\n",
       "      <td>...</td>\n",
       "      <td>1.0</td>\n",
       "      <td>48.0</td>\n",
       "      <td>121.0</td>\n",
       "      <td>100000.000000</td>\n",
       "      <td>1</td>\n",
       "      <td>6</td>\n",
       "      <td>2018</td>\n",
       "      <td>другой</td>\n",
       "      <td>0.320000</td>\n",
       "      <td>0.410000</td>\n",
       "    </tr>\n",
       "  </tbody>\n",
       "</table>\n",
       "<p>5 rows × 29 columns</p>\n",
       "</div>"
      ],
      "text/plain": [
       "   total_images  last_price  total_area first_day_exposition  rooms  \\\n",
       "0            20  13000000.0  108.000000           2019-03-07      3   \n",
       "1             7   3350000.0   40.400002           2018-12-04      1   \n",
       "2            10   5196000.0   56.000000           2015-08-20      2   \n",
       "3             0  64900000.0  159.000000           2015-07-24      3   \n",
       "4             2  10000000.0  100.000000           2018-06-19      2   \n",
       "\n",
       "   ceiling_height  floors_total  living_area  floor is_apartment  ...  \\\n",
       "0            2.70            16    51.000000      8          NaN  ...   \n",
       "1            2.50            11    18.600000      1          NaN  ...   \n",
       "2            2.50             5    34.299999      4          NaN  ...   \n",
       "3            2.50            14          NaN      9          NaN  ...   \n",
       "4            3.03            14    32.000000     13          NaN  ...   \n",
       "\n",
       "   ponds_around3000  ponds_nearest  days_exposition       price_sm weekday  \\\n",
       "0               2.0          755.0              NaN  120370.367188       3   \n",
       "1               0.0            NaN             81.0   82920.789062       1   \n",
       "2               2.0          574.0            558.0   92785.710938       3   \n",
       "3               3.0          234.0            424.0  408176.093750       4   \n",
       "4               1.0           48.0            121.0  100000.000000       1   \n",
       "\n",
       "   month  year  floor_name  living_to_total_area  kitchen_to_total_area  \n",
       "0      3  2019      другой              0.472222               0.231481  \n",
       "1     12  2018      первый              0.460396               0.272277  \n",
       "2      8  2015      другой              0.612500               0.148214  \n",
       "3      7  2015      другой                   NaN               0.057233  \n",
       "4      6  2018      другой              0.320000               0.410000  \n",
       "\n",
       "[5 rows x 29 columns]"
      ]
     },
     "execution_count": 14,
     "metadata": {},
     "output_type": "execute_result"
    }
   ],
   "source": [
    "#цена за метр = стоимость/общая площадь\n",
    "data['price_sm'] = data['last_price']/data['total_area'] #добавили стоимость за метр\n",
    "\n",
    "data['first_day_exposition'].isna().sum() #0.0 процентов пропусков\n",
    "data['first_day_exposition'] = pd.to_datetime(data['first_day_exposition'], format='%Y-%m-%dT%H:%M:%S')\n",
    "\n",
    "#вводим день недели, месяц и год\n",
    "data['weekday'] = data['first_day_exposition'].dt.weekday \n",
    "#data['month'] = data['first_day_exposition'].astype('datetime64[M]') # попробовал новый метод\n",
    "data['month'] = data['first_day_exposition'].dt.month\n",
    "data['year'] = data['first_day_exposition'].dt.year\n",
    "\n",
    "#альтернативный способ \n",
    "data.loc[(data['floor'] == data['floors_total']), 'floor_name'] = 'последний'\n",
    "data.loc[(data['floor'] == 1), 'floor_name'] = 'первый'\n",
    "data['floor_name'] = data['floor_name'].fillna('другой')\n",
    "\n",
    "#вводим соотношение жилой площади к общей:  \n",
    "data['living_to_total_area'] = data['living_area']/data['total_area']\n",
    "#вводим соотношение площади кухни к общей:  \n",
    "data['kitchen_to_total_area'] = data['kitchen_area']/data['total_area']\n",
    "\n",
    "\n",
    "data.head(5) # проверка"
   ]
  },
  {
   "cell_type": "markdown",
   "id": "c3f9bc11-242c-413e-a6a4-c92c2084e054",
   "metadata": {},
   "source": [
    "### 4. Исследовательский анализ данных:\n",
    "\n",
    "#### 4.1 Анализ параметров\n",
    "- Площадь\n",
    "- Цена\n",
    "- Число комнат \n",
    "- Высота потолков "
   ]
  },
  {
   "cell_type": "code",
   "execution_count": 15,
   "id": "c60d577f-a111-4164-98f2-eb51900b4fa0",
   "metadata": {},
   "outputs": [
    {
     "data": {
      "text/plain": [
       "<AxesSubplot:>"
      ]
     },
     "execution_count": 15,
     "metadata": {},
     "output_type": "execute_result"
    },
    {
     "data": {
      "image/png": "[encoded data removed]",
      "text/plain": [
       "<Figure size 432x288 with 1 Axes>"
      ]
     },
     "metadata": {
      "needs_background": "light"
     },
     "output_type": "display_data"
    }
   ],
   "source": [
    "data['total_area'].describe()\n",
    "data['total_area'].hist(bins=100) #распределение по площади близко к нормальному"
   ]
  },
  {
   "cell_type": "code",
   "execution_count": 16,
   "id": "360a71d8-33a5-4805-8f88-1c1fd8fe37e9",
   "metadata": {},
   "outputs": [
    {
     "data": {
      "text/plain": [
       "<AxesSubplot:xlabel='last_price', ylabel='total_area'>"
      ]
     },
     "execution_count": 16,
     "metadata": {},
     "output_type": "execute_result"
    },
    {
     "data": {
      "image/png": "[encoded data removed]",
      "text/plain": [
       "<Figure size 432x288 with 1 Axes>"
      ]
     },
     "metadata": {
      "needs_background": "light"
     },
     "output_type": "display_data"
    },
    {
     "data": {
      "image/png": "[encoded data removed]",
      "text/plain": [
       "<Figure size 432x288 with 1 Axes>"
      ]
     },
     "metadata": {
      "needs_background": "light"
     },
     "output_type": "display_data"
    }
   ],
   "source": [
    "data['last_price'].describe() #цифры не очень читаемы\n",
    "data['last_price_in_mil'] = data['last_price']/1000000\n",
    "data['last_price_in_mil'].describe() #выбивается минимальное значение\n",
    "data.sort_values('last_price').head(15) #визуально не сопоставить, где расположены объекты с такими ценами, не ясно, ошибка это или нет\n",
    "df = pd.DataFrame(data=data, columns=['last_price', 'locality_name']) #создаем датафрейм для сопоставления\n",
    "df.sort_values('last_price').head(15) #минимумы - цена за деревенские постройки, в принципе ничего криминального не видно\n",
    "data['last_price_in_mil'].hist(bins=10, range=(1, 763.000000))\n",
    "\n",
    "data['last_price'].hist(bins=30, range=(0, 30000000)) #цены выше 30 миллионов за квартиру начинают портить график\n",
    "data['last_price'].median()\n",
    "data.plot(x='last_price', y='total_area', kind='scatter') "
   ]
  },
  {
   "cell_type": "code",
   "execution_count": 17,
   "id": "845e9ca7-9805-4981-aaab-58401deb0296",
   "metadata": {},
   "outputs": [
    {
     "data": {
      "text/plain": [
       "<AxesSubplot:>"
      ]
     },
     "execution_count": 17,
     "metadata": {},
     "output_type": "execute_result"
    },
    {
     "data": {
      "image/png": "[encoded data removed]",
      "text/plain": [
       "<Figure size 432x288 with 1 Axes>"
      ]
     },
     "metadata": {
      "needs_background": "light"
     },
     "output_type": "display_data"
    }
   ],
   "source": [
    "data['rooms'].describe()\n",
    "data['rooms'].hist(bins=50) #с учетом того, что однокомнатных квартир всегда больше - график выглядит нормальным"
   ]
  },
  {
   "cell_type": "code",
   "execution_count": 18,
   "id": "a65373fb-2137-4137-9f9f-ac5e93907d42",
   "metadata": {},
   "outputs": [
    {
     "data": {
      "text/plain": [
       "<AxesSubplot:>"
      ]
     },
     "execution_count": 18,
     "metadata": {},
     "output_type": "execute_result"
    },
    {
     "data": {
      "image/png": "[encoded data removed]",
      "text/plain": [
       "<Figure size 432x288 with 1 Axes>"
      ]
     },
     "metadata": {
      "needs_background": "light"
     },
     "output_type": "display_data"
    }
   ],
   "source": [
    "data['ceiling_height'].describe()\n",
    "#data['ceiling_height'].hist(bins=100)\n",
    "#data.plot(x='ceiling_height', y='ceiling_height', kind='scatter') # виден пик в 100м - явно ошибка\n",
    "data.query('ceiling_height < 5')['ceiling_height'].hist(bins=30) # нормальное распределение, если отсечь ошибки"
   ]
  },
  {
   "cell_type": "code",
   "execution_count": 19,
   "id": "ca9d01e6-0644-4a3a-aaa7-2615ef7e0055",
   "metadata": {},
   "outputs": [
    {
     "data": {
      "text/plain": [
       "1    8244\n",
       "2    7939\n",
       "3    5814\n",
       "4    1180\n",
       "5     326\n",
       "6     105\n",
       "7      59\n",
       "8      12\n",
       "Name: rooms, dtype: int64"
      ]
     },
     "execution_count": 19,
     "metadata": {},
     "output_type": "execute_result"
    }
   ],
   "source": [
    "#анализ по количеству комнат\n",
    "data['rooms'].value_counts()\n",
    "data.query('rooms > 9') #квартиры как квартиры - огромная площадь, много комнат, высокие потолки. \n",
    "# На графике такие квартиры будут выбросами - они очень дорогие, очень большие и комнат в них больше чем в других. Значей очень мало, их проще удалить\n",
    "data = data.query('rooms < 9')\n",
    "data['rooms'].value_counts()"
   ]
  },
  {
   "cell_type": "markdown",
   "id": "998494d6-6a3d-4060-9916-1d86f6ecf4cd",
   "metadata": {},
   "source": [
    "#### 4.2 Анализ времени продажи квартиры\n"
   ]
  },
  {
   "cell_type": "code",
   "execution_count": 20,
   "id": "fabccb17-f529-4a21-a7ef-227fa168bbfa",
   "metadata": {},
   "outputs": [
    {
     "data": {
      "text/plain": [
       "42.000000     87\n",
       "45.000000     84\n",
       "60.000000     75\n",
       "31.000000     73\n",
       "32.000000     66\n",
       "              ..\n",
       "81.099998      1\n",
       "237.000000     1\n",
       "90.019997      1\n",
       "122.300003     1\n",
       "76.750000      1\n",
       "Name: total_area, Length: 1149, dtype: int64"
      ]
     },
     "execution_count": 20,
     "metadata": {},
     "output_type": "execute_result"
    },
    {
     "data": {
      "image/png": "[encoded data removed]",
      "text/plain": [
       "<Figure size 432x288 with 1 Axes>"
      ]
     },
     "metadata": {
      "needs_background": "light"
     },
     "output_type": "display_data"
    }
   ],
   "source": [
    "#data['days_exposition'].hist(bins=250)\n",
    "#data['days_exposition'].median() #95.0 - обычно продажа занимает около 3 месяцев\n",
    "#data['days_exposition'].mean() #180 дней в среднем\n",
    "data['days_exposition'].describe() #минимум - единица, интересно - кому-то повезло за сутки продать квартиру\n",
    "#list(data.sort_values(by='days_exposition',ascending=True)['days_exposition'].drop_duplicates()) #визуально определить максимумы и их распределение\n",
    "data['days_exposition'].hist(bins=9, range=(0, 232)) #в принципе видно даже почти нормальное распределение, если убрать значения выше третьего квартиля - что вообще-то логично\n",
    "data['days_exposition'].describe()\n",
    "#print(data.corr()) # единственный параметр, с которым у дня продажи есть хоть какая-то связь - это год продажи: в какие-то годы люди активнее покупали квартиры, чем в иные\n",
    "# вывод - время продажи распределено нормально, за исключением аномалий выше 232 дней\n",
    "data.query('days_exposition>232').corr() #смотрим корреляцию высокого времени продажи с другими данными. ничего. \n",
    "data.query('days_exposition>232')['locality_name'].value_counts() #предположение, что долго продаются квартиры в захолустье. не оправдалось. \n",
    "data.query('days_exposition>232')['total_area'].value_counts() #предположение, что долго продаются квартиры огромной/мелкой площади. не оправдалось."
   ]
  },
  {
   "cell_type": "markdown",
   "id": "52a945d6-a9fc-4da5-b3ed-6c22f97da350",
   "metadata": {},
   "source": [
    "#### 4.3 Анализ факторов, влияющих на цену квартиры\n"
   ]
  },
  {
   "cell_type": "code",
   "execution_count": 21,
   "id": "fa129439-6635-4eee-82b0-7dc3b1ddce9e",
   "metadata": {},
   "outputs": [
    {
     "data": {
      "text/plain": [
       "-0.21112186724841453"
      ]
     },
     "execution_count": 21,
     "metadata": {},
     "output_type": "execute_result"
    }
   ],
   "source": [
    "#Какие факторы больше всего влияют на стоимость квартиры? \n",
    "#Изучите, зависит ли цена от площади, числа комнат, удалённости от центра. \n",
    "#Изучите зависимость цены от того, на каком этаже расположена квартира: первом, последнем или другом. \n",
    "#Также изучите зависимость от даты размещения: дня недели, месяца и года.\n",
    "\n",
    "data['last_price'].describe()\n",
    "data['last_price'].corr(data['total_area']) # 0.65 заметная связь площади с ценой\n",
    "data['last_price'].corr(data['rooms']) # 0.36 связь не велика, можно сказать отсутствует\n",
    "data['last_price'].corr(data['cityCenters_nearest'])# -0.20 отрицательная связь\n",
    "#data.corr()['last_price'] # интересна свясь с ценой за кв.м, и с жилой площадью. в принципе - логично. \n",
    "#зависимости от дня недели, месяца и года - нет"
   ]
  },
  {
   "cell_type": "code",
   "execution_count": 22,
   "id": "cfdb4d2b-d8be-425e-ade3-0232c155d2f3",
   "metadata": {},
   "outputs": [
    {
     "name": "stdout",
     "output_type": "stream",
     "text": [
      "                     last_price  price_sm  total_area     rooms  \\\n",
      "last_price             1.000000  0.750499    0.643577  0.358373   \n",
      "price_sm               0.750499  1.000000    0.304315  0.055968   \n",
      "total_area             0.643577  0.304315    1.000000  0.753564   \n",
      "rooms                  0.358373  0.055968    0.753564  1.000000   \n",
      "cityCenters_nearest   -0.211122 -0.318450   -0.233656 -0.186399   \n",
      "\n",
      "                     cityCenters_nearest  \n",
      "last_price                     -0.211122  \n",
      "price_sm                       -0.318450  \n",
      "total_area                     -0.233656  \n",
      "rooms                          -0.186399  \n",
      "cityCenters_nearest             1.000000  \n"
     ]
    },
    {
     "data": {
      "text/plain": [
       "<seaborn.axisgrid.PairGrid at 0x7ff6979b1a00>"
      ]
     },
     "execution_count": 22,
     "metadata": {},
     "output_type": "execute_result"
    },
    {
     "data": {
      "image/png": "[encoded data removed]",
      "text/plain": [
       "<Figure size 900x900 with 30 Axes>"
      ]
     },
     "metadata": {
      "needs_background": "light"
     },
     "output_type": "display_data"
    }
   ],
   "source": [
    "print(data[['last_price', 'price_sm', 'total_area', 'rooms', 'cityCenters_nearest']].corr())\n",
    "# видим что цена зависит от общей площади и немного от количества комнат\n",
    "sns.pairplot(data[['last_price', 'price_sm', 'total_area', 'rooms', 'cityCenters_nearest']].corr())"
   ]
  },
  {
   "cell_type": "code",
   "execution_count": 23,
   "id": "3b2dd1fa-9da0-44af-9dfc-8087fe4f7972",
   "metadata": {},
   "outputs": [
    {
     "name": "stdout",
     "output_type": "stream",
     "text": [
      "Видим, что квартира на первом этаже в среднем стоит на 24 % дешевле, чем на \"другом\", а квартира на последнем - на 12% дешевле, чем на другом\n"
     ]
    }
   ],
   "source": [
    "#связь типа этажа и цены\n",
    "data.columns\n",
    "data.pivot_table(index='floor_name', values='last_price', aggfunc='median')\n",
    "lpf = data.pivot_table(index='floor_name', values='last_price', aggfunc='median')['last_price'][1]\n",
    "lpl = data.pivot_table(index='floor_name', values='last_price', aggfunc='median')['last_price'][2]\n",
    "lpo = data.pivot_table(index='floor_name', values='last_price', aggfunc='median')['last_price'][0]\n",
    "# видим, что разница в цене присутствует: \n",
    "print(f'Видим, что квартира на первом этаже в среднем стоит на {int((lpo/lpf)*100-100)} % дешевле, чем на \"другом\", а квартира на последнем - на {int((lpo/lpl)*100-100)}% дешевле, чем на другом')\n"
   ]
  },
  {
   "cell_type": "code",
   "execution_count": 24,
   "id": "edd0e6df-ef0a-47c3-964f-8ec57c29937f",
   "metadata": {},
   "outputs": [
    {
     "data": {
      "text/plain": [
       "<AxesSubplot:xlabel='year'>"
      ]
     },
     "execution_count": 24,
     "metadata": {},
     "output_type": "execute_result"
    },
    {
     "data": {
      "image/png": "[encoded data removed]",
      "text/plain": [
       "<Figure size 432x288 with 1 Axes>"
      ]
     },
     "metadata": {
      "needs_background": "light"
     },
     "output_type": "display_data"
    },
    {
     "data": {
      "image/png": "[encoded data removed]",
      "text/plain": [
       "<Figure size 432x288 with 1 Axes>"
      ]
     },
     "metadata": {
      "needs_background": "light"
     },
     "output_type": "display_data"
    }
   ],
   "source": [
    "#связь года с ценой продажи\n",
    "data.head(5)\n",
    "\n",
    "#data.pivot_table(index='year', values='last_price', aggfunc=['mean', 'count']).reset_index().plot(x='year', y='last_price', kind='scatter')  # видим, что средняя цена в 2014 году максимальна\n",
    "data.pivot_table(index='year', values='last_price', aggfunc=['mean', 'count']).reset_index() \n",
    "#видно, что в 2014 году количество сделок минимально, но их средняя - самая крупная из всех годов\n",
    "\n",
    "# построим два графика, количество сделок и средняя их цена:\n",
    "data.pivot_table(index='year', values='last_price', aggfunc='mean').reset_index().plot(x='year', y='last_price')\n",
    "data.pivot_table(index='year', values='last_price', aggfunc='count').reset_index().plot(x='year', y='last_price')\n",
    "\n",
    "# видно, что с годами жилье сильно дешевело, а количество сделок - росло\n",
    "# соответственно, вывод - пусть и косвенно, но год влияет на стоимость продажи - отрицательно. "
   ]
  },
  {
   "cell_type": "code",
   "execution_count": 25,
   "id": "11554846-b1e2-4b08-ad68-f38ca27868e7",
   "metadata": {},
   "outputs": [
    {
     "data": {
      "text/plain": [
       "<AxesSubplot:xlabel='month'>"
      ]
     },
     "execution_count": 25,
     "metadata": {},
     "output_type": "execute_result"
    },
    {
     "data": {
      "image/png": "[encoded data removed]",
      "text/plain": [
       "<Figure size 720x360 with 1 Axes>"
      ]
     },
     "metadata": {
      "needs_background": "light"
     },
     "output_type": "display_data"
    }
   ],
   "source": [
    "# связь конкретного месяца со средней ценой продажи\n",
    "data.columns\n",
    "data.pivot_table(index='month', values='last_price').plot(figsize=(10, 5))\n",
    "# видим, что средняя цена колеблется: \n",
    "# январь-март: падение, нижняя точка - март\n",
    "# март-апрель: рост до позиций января\n",
    "# апрель-июнь: снова падение до уровня марта\n",
    "# июнь-июль-август: незначительный отскок цены вверх с аналогичным паденим в августе\n",
    "# август-сентябрь: резкий рост до максимального значения\n",
    "# сентябрь-октябрь: резкий спад до минимума в течение года\n",
    "# октябрь-декабрь: стабильный рост до около-январьского значения"
   ]
  },
  {
   "cell_type": "code",
   "execution_count": 26,
   "id": "d054d00e-b962-4d5f-90f9-170535002e1f",
   "metadata": {},
   "outputs": [
    {
     "data": {
      "text/plain": [
       "<AxesSubplot:xlabel='month'>"
      ]
     },
     "execution_count": 26,
     "metadata": {},
     "output_type": "execute_result"
    },
    {
     "data": {
      "image/png": "[encoded data removed]",
      "text/plain": [
       "<Figure size 720x360 with 1 Axes>"
      ]
     },
     "metadata": {
      "needs_background": "light"
     },
     "output_type": "display_data"
    }
   ],
   "source": [
    "# проверим влияние месяца через медиану чтобы исключить выбросы \n",
    "data.pivot_table(index='month', values='last_price', aggfunc='median').plot(figsize=(10, 5))\n",
    "# в целом данные подтвердились, но график стал гораздо менее \"скачущим\", но при этом границы сдвинулись с 6,3-6,8млн до 4.4-4.8млн. \n",
    "# можно говорить, что самая низкая цена за год - в июне, самая высокая - в апреле, с некоторым отрывом - в сентябре. "
   ]
  },
  {
   "cell_type": "code",
   "execution_count": 27,
   "id": "82408563-f925-411f-a8ba-d6c5552d4243",
   "metadata": {},
   "outputs": [
    {
     "name": "stdout",
     "output_type": "stream",
     "text": [
      "Видим, что квартира с \"высоким\" потолком на 94% выше, чем со \"стандартным.\n",
      "Квартира с низким потолком на 17% дешевле, чем квартира со стандартной высотой потолка\n"
     ]
    }
   ],
   "source": [
    "#опыт с анализом зависимости цены от высоты потолка\n",
    "data['ceiling_height_index'] = data['ceiling_height'] # создаем копию столбца \"высота потолка\"\n",
    "\n",
    "def ceiling_height_index(row): #в зависимости от высоты функция присваивает одно из 3 типовых обозначений в столбец \"индекс высоты потолка\"\n",
    "    if row == 2.5:\n",
    "        row = 'низкий';\n",
    "    elif row > 2.5 and row <= 3:\n",
    "        row = 'стандартный';\n",
    "    elif row > 3:\n",
    "        row = 'высокий';\n",
    "    return row\n",
    "data['ceiling_height_index'] = data['ceiling_height_index'].apply(ceiling_height_index)\n",
    "\n",
    "data.pivot_table(index='ceiling_height_index', values='last_price', aggfunc='median') #раньше тут была функция mean, но я решил избавиться от сильного влияния выбросов, поэтому медиана\n",
    "#видим что разница в медианной цене квартиры с потолком >3 метров разница почти в два раза выше, в сравнении с ценами за стандартный и низкий потолки.\n",
    "h = data.pivot_table(index='ceiling_height_index', values='last_price', aggfunc='median').reset_index()['last_price'][0]\n",
    "l = data.pivot_table(index='ceiling_height_index', values='last_price', aggfunc='median').reset_index()['last_price'][1]\n",
    "s= data.pivot_table(index='ceiling_height_index', values='last_price', aggfunc='median').reset_index()['last_price'][2]\n",
    "\n",
    "print(f'Видим, что квартира с \"высоким\" потолком на {int((h/s)*100-100)}% выше, чем со \"стандартным.') #\n",
    "print(f'Квартира с низким потолком на {int(100-(l/s)*100)}% дешевле, чем квартира со стандартной высотой потолка')"
   ]
  },
  {
   "cell_type": "markdown",
   "id": "cdb29fba-4772-4208-9406-dd164e1b9ea0",
   "metadata": {},
   "source": [
    "#### 4.4 Анализ места продажи квартиры.\n"
   ]
  },
  {
   "cell_type": "code",
   "execution_count": 28,
   "id": "410284af-7ee1-4adf-a2f4-3ff25f0f2a6e",
   "metadata": {},
   "outputs": [
    {
     "data": {
      "text/html": [
       "<div>\n",
       "<style scoped>\n",
       "    .dataframe tbody tr th:only-of-type {\n",
       "        vertical-align: middle;\n",
       "    }\n",
       "\n",
       "    .dataframe tbody tr th {\n",
       "        vertical-align: top;\n",
       "    }\n",
       "\n",
       "    .dataframe thead tr th {\n",
       "        text-align: left;\n",
       "    }\n",
       "\n",
       "    .dataframe thead tr:last-of-type th {\n",
       "        text-align: right;\n",
       "    }\n",
       "</style>\n",
       "<table border=\"1\" class=\"dataframe\">\n",
       "  <thead>\n",
       "    <tr>\n",
       "      <th></th>\n",
       "      <th>mean</th>\n",
       "      <th>count</th>\n",
       "    </tr>\n",
       "    <tr>\n",
       "      <th></th>\n",
       "      <th>price_sm</th>\n",
       "      <th>price_sm</th>\n",
       "    </tr>\n",
       "    <tr>\n",
       "      <th>locality_name</th>\n",
       "      <th></th>\n",
       "      <th></th>\n",
       "    </tr>\n",
       "  </thead>\n",
       "  <tbody>\n",
       "    <tr>\n",
       "      <th>Санкт-Петербург</th>\n",
       "      <td>114845.390625</td>\n",
       "      <td>15701</td>\n",
       "    </tr>\n",
       "    <tr>\n",
       "      <th>посёлок Мурино</th>\n",
       "      <td>85752.187500</td>\n",
       "      <td>522</td>\n",
       "    </tr>\n",
       "    <tr>\n",
       "      <th>посёлок Шушары</th>\n",
       "      <td>78677.367188</td>\n",
       "      <td>440</td>\n",
       "    </tr>\n",
       "    <tr>\n",
       "      <th>Всеволожск</th>\n",
       "      <td>68654.476562</td>\n",
       "      <td>398</td>\n",
       "    </tr>\n",
       "    <tr>\n",
       "      <th>Пушкин</th>\n",
       "      <td>103125.820312</td>\n",
       "      <td>369</td>\n",
       "    </tr>\n",
       "    <tr>\n",
       "      <th>Колпино</th>\n",
       "      <td>75424.578125</td>\n",
       "      <td>338</td>\n",
       "    </tr>\n",
       "    <tr>\n",
       "      <th>посёлок Парголово</th>\n",
       "      <td>90175.914062</td>\n",
       "      <td>327</td>\n",
       "    </tr>\n",
       "    <tr>\n",
       "      <th>Гатчина</th>\n",
       "      <td>68746.148438</td>\n",
       "      <td>307</td>\n",
       "    </tr>\n",
       "    <tr>\n",
       "      <th>деревня Кудрово</th>\n",
       "      <td>92473.546875</td>\n",
       "      <td>299</td>\n",
       "    </tr>\n",
       "    <tr>\n",
       "      <th>Выборг</th>\n",
       "      <td>58141.910156</td>\n",
       "      <td>237</td>\n",
       "    </tr>\n",
       "  </tbody>\n",
       "</table>\n",
       "</div>"
      ],
      "text/plain": [
       "                            mean    count\n",
       "                        price_sm price_sm\n",
       "locality_name                            \n",
       "Санкт-Петербург    114845.390625    15701\n",
       "посёлок Мурино      85752.187500      522\n",
       "посёлок Шушары      78677.367188      440\n",
       "Всеволожск          68654.476562      398\n",
       "Пушкин             103125.820312      369\n",
       "Колпино             75424.578125      338\n",
       "посёлок Парголово   90175.914062      327\n",
       "Гатчина             68746.148438      307\n",
       "деревня Кудрово     92473.546875      299\n",
       "Выборг              58141.910156      237"
      ]
     },
     "execution_count": 28,
     "metadata": {},
     "output_type": "execute_result"
    }
   ],
   "source": [
    "# Выберите 10 населённых пунктов с наибольшим числом объявлений. Посчитайте среднюю цену квадратного метра в этих населённых пунктах. \n",
    "# Выделите среди них населённые пункты с самой высокой и низкой стоимостью жилья. Эти данные можно найти по имени в столбце\n",
    "data.pivot_table(index='locality_name',values='price_sm', aggfunc=['mean', 'count']).sort_values([('count','price_sm')], ascending=False).head(10)\n",
    "\n",
    "#в нашем случае минимальное и максимальные значения находятся на последнем и первом местах соответственно, так уж вышло"
   ]
  },
  {
   "cell_type": "markdown",
   "id": "5cb857da-562c-4c84-9151-6a64b2b7428c",
   "metadata": {},
   "source": [
    "#### 4.5 Анализ предложения квартир\n",
    "\n",
    "- Выделить квартиры в Санкт-Петербурге. \n",
    "- Определить, какая область входит в центр. \n",
    "- Определить среднюю цену для каждого километра. \n",
    "- Определить \"центральную зону\"."
   ]
  },
  {
   "cell_type": "code",
   "execution_count": 29,
   "id": "0ec85329-3df5-4385-81a6-0fdc58fb055d",
   "metadata": {},
   "outputs": [
    {
     "data": {
      "text/plain": [
       "array([[<AxesSubplot:title={'center':'last_price_in_mil'}>]], dtype=object)"
      ]
     },
     "execution_count": 29,
     "metadata": {},
     "output_type": "execute_result"
    },
    {
     "data": {
      "image/png": "[encoded data removed]",
      "text/plain": [
       "<Figure size 432x288 with 1 Axes>"
      ]
     },
     "metadata": {
      "needs_background": "light"
     },
     "output_type": "display_data"
    }
   ],
   "source": [
    "data.head(15)\n",
    "data_cityCenters_nearest = pd.DataFrame(data=data, columns=('last_price', 'cityCenters_nearest', 'locality_name', 'last_price_in_mil', 'total_area', 'rooms', 'ceiling_height', 'first_day_exposition', 'year', 'month'))\n",
    "data_cityCenters_nearest['cityCenters_nearest'].isna().sum() #пропуски удалим, потому что медианой/средней их не заполнишь\n",
    "data_cityCenters_nearest = data_cityCenters_nearest.dropna(subset=['cityCenters_nearest'], how='any', axis=0)\n",
    "data_cityCenters_nearest['range_in_km'] = (data_cityCenters_nearest['cityCenters_nearest']/1000).round() #хотя изначально я округлил через int(), это ведь допустимо???\n",
    "data_cityCenters_nearest.pivot_table(index='range_in_km', values='last_price_in_mil', sort=True).head(20) #анализируем цифры\n",
    "data_cityCenters_nearest.pivot_table(index='range_in_km', values='last_price_in_mil', sort=True).hist(bins=100) #визуализация, явно пик на 7км\n",
    "# 7 километров от центра - дальше идет резкий спад в стоимости средней цены квартир почти на 4млн "
   ]
  },
  {
   "cell_type": "markdown",
   "id": "4227c517-8df4-49d1-8965-e36f87ac380f",
   "metadata": {},
   "source": [
    "#### 4.6 Анализ сегмента \"квартиры в центре\".\n",
    "- Выделить сегмент квартир в центре. \n",
    "- Проанализировать эту территорию и следующие параметры: площадь, цена, число комнат, высота потолков. \n",
    "- Определить факторы, которые влияют на стоимость квартиры (число комнат, этаж, удалённость от центра, дата размещения объявления). \n",
    "- Вывод."
   ]
  },
  {
   "cell_type": "code",
   "execution_count": 30,
   "id": "9a92f17d-95ac-4ac5-bbf6-92dc1ec6b3b0",
   "metadata": {},
   "outputs": [
    {
     "data": {
      "text/html": [
       "<div>\n",
       "<style scoped>\n",
       "    .dataframe tbody tr th:only-of-type {\n",
       "        vertical-align: middle;\n",
       "    }\n",
       "\n",
       "    .dataframe tbody tr th {\n",
       "        vertical-align: top;\n",
       "    }\n",
       "\n",
       "    .dataframe thead th {\n",
       "        text-align: right;\n",
       "    }\n",
       "</style>\n",
       "<table border=\"1\" class=\"dataframe\">\n",
       "  <thead>\n",
       "    <tr style=\"text-align: right;\">\n",
       "      <th></th>\n",
       "      <th>last_price</th>\n",
       "      <th>cityCenters_nearest</th>\n",
       "      <th>locality_name</th>\n",
       "      <th>last_price_in_mil</th>\n",
       "      <th>total_area</th>\n",
       "      <th>rooms</th>\n",
       "      <th>ceiling_height</th>\n",
       "      <th>first_day_exposition</th>\n",
       "      <th>year</th>\n",
       "      <th>month</th>\n",
       "      <th>range_in_km</th>\n",
       "    </tr>\n",
       "  </thead>\n",
       "  <tbody>\n",
       "    <tr>\n",
       "      <th>3</th>\n",
       "      <td>64900000.0</td>\n",
       "      <td>6800.0</td>\n",
       "      <td>Санкт-Петербург</td>\n",
       "      <td>64.900000</td>\n",
       "      <td>159.000000</td>\n",
       "      <td>3</td>\n",
       "      <td>2.50</td>\n",
       "      <td>2015-07-24</td>\n",
       "      <td>2015</td>\n",
       "      <td>7</td>\n",
       "      <td>7.0</td>\n",
       "    </tr>\n",
       "    <tr>\n",
       "      <th>35</th>\n",
       "      <td>15500000.0</td>\n",
       "      <td>3502.0</td>\n",
       "      <td>Санкт-Петербург</td>\n",
       "      <td>15.500000</td>\n",
       "      <td>149.000000</td>\n",
       "      <td>5</td>\n",
       "      <td>2.50</td>\n",
       "      <td>2017-06-26</td>\n",
       "      <td>2017</td>\n",
       "      <td>6</td>\n",
       "      <td>4.0</td>\n",
       "    </tr>\n",
       "    <tr>\n",
       "      <th>42</th>\n",
       "      <td>22000000.0</td>\n",
       "      <td>30605.0</td>\n",
       "      <td>Петергоф</td>\n",
       "      <td>22.000000</td>\n",
       "      <td>161.800003</td>\n",
       "      <td>4</td>\n",
       "      <td>2.80</td>\n",
       "      <td>2015-07-08</td>\n",
       "      <td>2015</td>\n",
       "      <td>7</td>\n",
       "      <td>31.0</td>\n",
       "    </tr>\n",
       "    <tr>\n",
       "      <th>51</th>\n",
       "      <td>45000000.0</td>\n",
       "      <td>6589.0</td>\n",
       "      <td>Санкт-Петербург</td>\n",
       "      <td>45.000000</td>\n",
       "      <td>161.000000</td>\n",
       "      <td>3</td>\n",
       "      <td>3.20</td>\n",
       "      <td>2017-10-17</td>\n",
       "      <td>2017</td>\n",
       "      <td>10</td>\n",
       "      <td>7.0</td>\n",
       "    </tr>\n",
       "    <tr>\n",
       "      <th>63</th>\n",
       "      <td>20000000.0</td>\n",
       "      <td>4800.0</td>\n",
       "      <td>Санкт-Петербург</td>\n",
       "      <td>20.000000</td>\n",
       "      <td>118.000000</td>\n",
       "      <td>3</td>\n",
       "      <td>3.00</td>\n",
       "      <td>2018-09-11</td>\n",
       "      <td>2018</td>\n",
       "      <td>9</td>\n",
       "      <td>5.0</td>\n",
       "    </tr>\n",
       "    <tr>\n",
       "      <th>...</th>\n",
       "      <td>...</td>\n",
       "      <td>...</td>\n",
       "      <td>...</td>\n",
       "      <td>...</td>\n",
       "      <td>...</td>\n",
       "      <td>...</td>\n",
       "      <td>...</td>\n",
       "      <td>...</td>\n",
       "      <td>...</td>\n",
       "      <td>...</td>\n",
       "      <td>...</td>\n",
       "    </tr>\n",
       "    <tr>\n",
       "      <th>23555</th>\n",
       "      <td>15350000.0</td>\n",
       "      <td>3088.0</td>\n",
       "      <td>Санкт-Петербург</td>\n",
       "      <td>15.350000</td>\n",
       "      <td>158.500000</td>\n",
       "      <td>7</td>\n",
       "      <td>2.95</td>\n",
       "      <td>2019-03-07</td>\n",
       "      <td>2019</td>\n",
       "      <td>3</td>\n",
       "      <td>3.0</td>\n",
       "    </tr>\n",
       "    <tr>\n",
       "      <th>23574</th>\n",
       "      <td>64990000.0</td>\n",
       "      <td>5975.0</td>\n",
       "      <td>Санкт-Петербург</td>\n",
       "      <td>64.990000</td>\n",
       "      <td>139.000000</td>\n",
       "      <td>3</td>\n",
       "      <td>3.00</td>\n",
       "      <td>2015-11-24</td>\n",
       "      <td>2015</td>\n",
       "      <td>11</td>\n",
       "      <td>6.0</td>\n",
       "    </tr>\n",
       "    <tr>\n",
       "      <th>23590</th>\n",
       "      <td>21187872.0</td>\n",
       "      <td>4529.0</td>\n",
       "      <td>Санкт-Петербург</td>\n",
       "      <td>21.187872</td>\n",
       "      <td>123.300003</td>\n",
       "      <td>3</td>\n",
       "      <td>2.50</td>\n",
       "      <td>2017-04-25</td>\n",
       "      <td>2017</td>\n",
       "      <td>4</td>\n",
       "      <td>5.0</td>\n",
       "    </tr>\n",
       "    <tr>\n",
       "      <th>23631</th>\n",
       "      <td>14799000.0</td>\n",
       "      <td>13944.0</td>\n",
       "      <td>Санкт-Петербург</td>\n",
       "      <td>14.799000</td>\n",
       "      <td>104.000000</td>\n",
       "      <td>3</td>\n",
       "      <td>3.10</td>\n",
       "      <td>2018-11-18</td>\n",
       "      <td>2018</td>\n",
       "      <td>11</td>\n",
       "      <td>14.0</td>\n",
       "    </tr>\n",
       "    <tr>\n",
       "      <th>23684</th>\n",
       "      <td>21400000.0</td>\n",
       "      <td>11459.0</td>\n",
       "      <td>Санкт-Петербург</td>\n",
       "      <td>21.400000</td>\n",
       "      <td>145.000000</td>\n",
       "      <td>4</td>\n",
       "      <td>3.00</td>\n",
       "      <td>2018-11-02</td>\n",
       "      <td>2018</td>\n",
       "      <td>11</td>\n",
       "      <td>11.0</td>\n",
       "    </tr>\n",
       "  </tbody>\n",
       "</table>\n",
       "<p>1275 rows × 11 columns</p>\n",
       "</div>"
      ],
      "text/plain": [
       "       last_price  cityCenters_nearest    locality_name  last_price_in_mil  \\\n",
       "3      64900000.0               6800.0  Санкт-Петербург          64.900000   \n",
       "35     15500000.0               3502.0  Санкт-Петербург          15.500000   \n",
       "42     22000000.0              30605.0         Петергоф          22.000000   \n",
       "51     45000000.0               6589.0  Санкт-Петербург          45.000000   \n",
       "63     20000000.0               4800.0  Санкт-Петербург          20.000000   \n",
       "...           ...                  ...              ...                ...   \n",
       "23555  15350000.0               3088.0  Санкт-Петербург          15.350000   \n",
       "23574  64990000.0               5975.0  Санкт-Петербург          64.990000   \n",
       "23590  21187872.0               4529.0  Санкт-Петербург          21.187872   \n",
       "23631  14799000.0              13944.0  Санкт-Петербург          14.799000   \n",
       "23684  21400000.0              11459.0  Санкт-Петербург          21.400000   \n",
       "\n",
       "       total_area  rooms  ceiling_height first_day_exposition  year  month  \\\n",
       "3      159.000000      3            2.50           2015-07-24  2015      7   \n",
       "35     149.000000      5            2.50           2017-06-26  2017      6   \n",
       "42     161.800003      4            2.80           2015-07-08  2015      7   \n",
       "51     161.000000      3            3.20           2017-10-17  2017     10   \n",
       "63     118.000000      3            3.00           2018-09-11  2018      9   \n",
       "...           ...    ...             ...                  ...   ...    ...   \n",
       "23555  158.500000      7            2.95           2019-03-07  2019      3   \n",
       "23574  139.000000      3            3.00           2015-11-24  2015     11   \n",
       "23590  123.300003      3            2.50           2017-04-25  2017      4   \n",
       "23631  104.000000      3            3.10           2018-11-18  2018     11   \n",
       "23684  145.000000      4            3.00           2018-11-02  2018     11   \n",
       "\n",
       "       range_in_km  \n",
       "3              7.0  \n",
       "35             4.0  \n",
       "42            31.0  \n",
       "51             7.0  \n",
       "63             5.0  \n",
       "...            ...  \n",
       "23555          3.0  \n",
       "23574          6.0  \n",
       "23590          5.0  \n",
       "23631         14.0  \n",
       "23684         11.0  \n",
       "\n",
       "[1275 rows x 11 columns]"
      ]
     },
     "execution_count": 30,
     "metadata": {},
     "output_type": "execute_result"
    }
   ],
   "source": [
    "#data_cityCenters_nearest.query('range_in_km <= 7').pivot_table(index='last_price_in_mil', values='total_area', sort=False)\n",
    "data_cityCenters_nearest.query('range_in_km <= 7').corr()\n",
    "data_ceiling_height = data_cityCenters_nearest.dropna(subset=['ceiling_height'], axis=0)\n",
    "data_cityCenters_nearest.query('range_in_km <= 7').sort_values('last_price', ascending=False).head(20)\n",
    "data_cityCenters_nearest.query('range_in_km <= 7')['last_price_in_mil'].describe() #14.500000 - третий квартиль\n",
    "data_cityCenters_nearest.query('last_price_in_mil > 14.500000') #1294 значения"
   ]
  },
  {
   "cell_type": "code",
   "execution_count": 31,
   "id": "ed0f0d5f-4ac6-4bf2-a715-b3dbb6b2c54f",
   "metadata": {},
   "outputs": [
    {
     "data": {
      "text/html": [
       "<div>\n",
       "<style scoped>\n",
       "    .dataframe tbody tr th:only-of-type {\n",
       "        vertical-align: middle;\n",
       "    }\n",
       "\n",
       "    .dataframe tbody tr th {\n",
       "        vertical-align: top;\n",
       "    }\n",
       "\n",
       "    .dataframe thead th {\n",
       "        text-align: right;\n",
       "    }\n",
       "</style>\n",
       "<table border=\"1\" class=\"dataframe\">\n",
       "  <thead>\n",
       "    <tr style=\"text-align: right;\">\n",
       "      <th></th>\n",
       "      <th>last_price</th>\n",
       "      <th>total_area</th>\n",
       "    </tr>\n",
       "  </thead>\n",
       "  <tbody>\n",
       "    <tr>\n",
       "      <th>last_price</th>\n",
       "      <td>1.000000</td>\n",
       "      <td>0.641529</td>\n",
       "    </tr>\n",
       "    <tr>\n",
       "      <th>total_area</th>\n",
       "      <td>0.641529</td>\n",
       "      <td>1.000000</td>\n",
       "    </tr>\n",
       "  </tbody>\n",
       "</table>\n",
       "</div>"
      ],
      "text/plain": [
       "            last_price  total_area\n",
       "last_price    1.000000    0.641529\n",
       "total_area    0.641529    1.000000"
      ]
     },
     "execution_count": 31,
     "metadata": {},
     "output_type": "execute_result"
    }
   ],
   "source": [
    "# Проанализировать эту территорию и следующие параметры: площадь и цена. \n",
    "\n",
    "data_cityCenters_nearest[['last_price', 'total_area']].corr() # связь цены и количества метров очевидна, проверяем через корреляцию"
   ]
  },
  {
   "cell_type": "code",
   "execution_count": 32,
   "id": "776c8fdc-2705-437f-9025-ef3cd29ec765",
   "metadata": {},
   "outputs": [
    {
     "data": {
      "text/plain": [
       "<AxesSubplot:xlabel='rooms'>"
      ]
     },
     "execution_count": 32,
     "metadata": {},
     "output_type": "execute_result"
    },
    {
     "data": {
      "image/png": "[encoded data removed]",
      "text/plain": [
       "<Figure size 432x288 with 1 Axes>"
      ]
     },
     "metadata": {
      "needs_background": "light"
     },
     "output_type": "display_data"
    }
   ],
   "source": [
    "# число комнат\n",
    "realty_in_center = data_cityCenters_nearest.query('range_in_km <= 7') # создадим новый фрейм для работы только с квартирами в центре\n",
    "\n",
    "# связь количества комнат с ценой по общему датафрейму и только по квартирам в центре:\n",
    "realty_in_center.pivot_table(index='rooms', values='last_price_in_mil').merge(data.pivot_table(index='rooms', values='last_price_in_mil'), on='rooms').plot()\n",
    "# видно что цена в зависимости от количества комнат растет в одинаковой пропорции как для квартир в центре, так и для остальных. Зависимость везде прямая. "
   ]
  },
  {
   "cell_type": "code",
   "execution_count": 33,
   "id": "8d55211a-b1fc-4545-b5cd-fc7880396e02",
   "metadata": {},
   "outputs": [
    {
     "data": {
      "text/plain": [
       "<AxesSubplot:xlabel='ceiling_height'>"
      ]
     },
     "execution_count": 33,
     "metadata": {},
     "output_type": "execute_result"
    },
    {
     "data": {
      "image/png": "[encoded data removed]",
      "text/plain": [
       "<Figure size 432x288 with 1 Axes>"
      ]
     },
     "metadata": {
      "needs_background": "light"
     },
     "output_type": "display_data"
    },
    {
     "data": {
      "image/png": "[encoded data removed]",
      "text/plain": [
       "<Figure size 432x288 with 1 Axes>"
      ]
     },
     "metadata": {
      "needs_background": "light"
     },
     "output_type": "display_data"
    }
   ],
   "source": [
    "# связь высоты потолка с ценой по общему датафрейму и только по квартирам в центре:\n",
    "\n",
    "data_cityCenters_nearest.query('range_in_km <= 7').pivot_table(index='ceiling_height', values='last_price_in_mil', aggfunc='median').plot()  #связь высоты потолка с ценой квартиры\n",
    "\n",
    "data.query('cityCenters_nearest > 7000').pivot_table(index='ceiling_height', values='last_price_in_mil', aggfunc='median').plot()\n",
    "\n",
    "# цена в зависимости от высоты потолка имеет явные пики ближе к 4 метрам в центре и около 2.9-3м в остальных вариантах. \n",
    "# вывод - в центре люди платят за высокие потолки чаще и охотнее, что в целом логично для Петербурга - исторические здания, большие окна, высокие потолки. "
   ]
  },
  {
   "cell_type": "code",
   "execution_count": 34,
   "id": "bfca9746-8bc9-404a-a394-917a7f095735",
   "metadata": {},
   "outputs": [
    {
     "data": {
      "text/plain": [
       "<AxesSubplot:xlabel='year'>"
      ]
     },
     "execution_count": 34,
     "metadata": {},
     "output_type": "execute_result"
    },
    {
     "data": {
      "image/png": "[encoded data removed]",
      "text/plain": [
       "<Figure size 432x288 with 1 Axes>"
      ]
     },
     "metadata": {
      "needs_background": "light"
     },
     "output_type": "display_data"
    }
   ],
   "source": [
    "data_cityCenters_nearest.query('range_in_km <= 7').pivot_table(index='year', values='last_price_in_mil').sort_values('last_price_in_mil', ascending=False)\n",
    "# видно что средняя цена объекта в центре с годами лишь падает. Странно. \n",
    "# Нам наоборот отовсюду говорят, что недвижимость только дорожает, а тут средняя цена сделки наоборот падает. \n",
    "\n",
    "df_1=data_cityCenters_nearest.query('range_in_km <= 7').pivot_table(index='year', values='last_price_in_mil', aggfunc=('mean', 'count'), sort=True)\n",
    "# проверяем, смотрим на среднее количество сделок с недвижимостью в центре по годам\n",
    "# видим, что был пик спроса в 2017 годах, и резкий провал в 2019\n",
    "# проверим, как было с остальной частью рынка недвижимости\n",
    "df_2=data_cityCenters_nearest.query('range_in_km > 7').pivot_table(index='year', values='last_price_in_mil', aggfunc=('mean', 'count'), sort=True)\n",
    "# видим что спад в 2019 году был во всей отрасли - надо смотреть, какие события были в городе, стране и мире, которые привели к такому\n",
    "df_2['all_count']=df_1['count']\n",
    "df_2['all_mean']=df_1['mean']\n",
    "df_2.sort_values(by='year').plot() # видно что тенденция везде одна - рост количества сделок с 2016 по 2017 и их спад с 2018 по 2019\n",
    "# что точно влияет на стоимость и количество продаж - так это расположение. \n",
    "# В Санкт-Петербурге количество сделок и цена квартир на порядок выше, чем в области. "
   ]
  },
  {
   "cell_type": "code",
   "execution_count": 35,
   "id": "ca03b6c2-ddd8-4173-beaa-1f89ad246b57",
   "metadata": {},
   "outputs": [
    {
     "data": {
      "text/html": [
       "<div>\n",
       "<style scoped>\n",
       "    .dataframe tbody tr th:only-of-type {\n",
       "        vertical-align: middle;\n",
       "    }\n",
       "\n",
       "    .dataframe tbody tr th {\n",
       "        vertical-align: top;\n",
       "    }\n",
       "\n",
       "    .dataframe thead th {\n",
       "        text-align: right;\n",
       "    }\n",
       "</style>\n",
       "<table border=\"1\" class=\"dataframe\">\n",
       "  <thead>\n",
       "    <tr style=\"text-align: right;\">\n",
       "      <th></th>\n",
       "      <th>count</th>\n",
       "      <th>mean</th>\n",
       "    </tr>\n",
       "    <tr>\n",
       "      <th>year</th>\n",
       "      <th></th>\n",
       "      <th></th>\n",
       "    </tr>\n",
       "  </thead>\n",
       "  <tbody>\n",
       "    <tr>\n",
       "      <th>2014</th>\n",
       "      <td>115</td>\n",
       "      <td>13.774813</td>\n",
       "    </tr>\n",
       "    <tr>\n",
       "      <th>2015</th>\n",
       "      <td>979</td>\n",
       "      <td>9.724753</td>\n",
       "    </tr>\n",
       "    <tr>\n",
       "      <th>2016</th>\n",
       "      <td>2186</td>\n",
       "      <td>7.820909</td>\n",
       "    </tr>\n",
       "    <tr>\n",
       "      <th>2017</th>\n",
       "      <td>6425</td>\n",
       "      <td>7.453797</td>\n",
       "    </tr>\n",
       "    <tr>\n",
       "      <th>2018</th>\n",
       "      <td>6257</td>\n",
       "      <td>6.971809</td>\n",
       "    </tr>\n",
       "    <tr>\n",
       "      <th>2019</th>\n",
       "      <td>2198</td>\n",
       "      <td>7.716481</td>\n",
       "    </tr>\n",
       "  </tbody>\n",
       "</table>\n",
       "</div>"
      ],
      "text/plain": [
       "      count       mean\n",
       "year                  \n",
       "2014    115  13.774813\n",
       "2015    979   9.724753\n",
       "2016   2186   7.820909\n",
       "2017   6425   7.453797\n",
       "2018   6257   6.971809\n",
       "2019   2198   7.716481"
      ]
     },
     "execution_count": 35,
     "metadata": {},
     "output_type": "execute_result"
    }
   ],
   "source": [
    "data_cityCenters_nearest.pivot_table(index='year', values='last_price_in_mil', aggfunc=('mean', 'count'), sort=True)"
   ]
  },
  {
   "cell_type": "code",
   "execution_count": 36,
   "id": "25debc0a-8f08-444a-abd9-b28a96b9db92",
   "metadata": {},
   "outputs": [
    {
     "data": {
      "text/plain": [
       "count    323.000000\n",
       "mean      17.050341\n",
       "std       22.658400\n",
       "min        3.299000\n",
       "25%        6.975000\n",
       "50%       10.150000\n",
       "75%       15.650000\n",
       "max      180.000000\n",
       "Name: last_price_in_mil, dtype: float64"
      ]
     },
     "execution_count": 36,
     "metadata": {},
     "output_type": "execute_result"
    },
    {
     "data": {
      "image/png": "[encoded data removed]",
      "text/plain": [
       "<Figure size 432x288 with 1 Axes>"
      ]
     },
     "metadata": {
      "needs_background": "light"
     },
     "output_type": "display_data"
    }
   ],
   "source": [
    "data_cityCenters_nearest.query('year == 2015 and range_in_km <= 7').sort_values('last_price_in_mil', ascending=False)['last_price_in_mil'].hist(bins=100)\n",
    "data_cityCenters_nearest.query('year == 2015 and range_in_km <= 7')['last_price_in_mil'].describe()"
   ]
  },
  {
   "cell_type": "code",
   "execution_count": 37,
   "id": "038daeaa-fae8-47af-b76b-e868b7b1ed84",
   "metadata": {},
   "outputs": [
    {
     "name": "stdout",
     "output_type": "stream",
     "text": [
      "count    3530.000000\n",
      "mean       92.488663\n",
      "std        57.997486\n",
      "min        12.000000\n",
      "25%        56.925001\n",
      "50%        78.599998\n",
      "75%       109.924999\n",
      "max       631.200012\n",
      "Name: total_area, dtype: float64\n",
      "count    15050.000000\n",
      "mean        56.707794\n",
      "std         27.240557\n",
      "min         13.000000\n",
      "25%         39.900002\n",
      "50%         50.000000\n",
      "75%         66.000000\n",
      "max        494.100006\n",
      "Name: total_area, dtype: float64\n"
     ]
    }
   ],
   "source": [
    "print(data_cityCenters_nearest.query('range_in_km <= 7')['total_area'].describe())\n",
    "print(data_cityCenters_nearest.query('range_in_km >= 7')['total_area'].describe())\n",
    "\n",
    "# в центре в среднем продаются квартиры большей площади, чем не в центре"
   ]
  },
  {
   "cell_type": "code",
   "execution_count": 38,
   "id": "b8b8a4e7-023f-4f50-b3b3-ac3cb53bf198",
   "metadata": {},
   "outputs": [
    {
     "name": "stdout",
     "output_type": "stream",
     "text": [
      "count    3530.000000\n",
      "mean       14.806720\n",
      "std        24.251949\n",
      "min         1.600000\n",
      "25%         6.650000\n",
      "50%         9.195000\n",
      "75%        14.375000\n",
      "max       763.000000\n",
      "Name: last_price_in_mil, dtype: float64\n",
      "count    15050.000000\n",
      "mean         6.020802\n",
      "std          4.795817\n",
      "min          1.190000\n",
      "25%          3.850000\n",
      "50%          4.850000\n",
      "75%          6.500000\n",
      "max        135.000000\n",
      "Name: last_price_in_mil, dtype: float64\n"
     ]
    }
   ],
   "source": [
    "print(data_cityCenters_nearest.query('range_in_km <= 7')['last_price_in_mil'].describe())\n",
    "print(data_cityCenters_nearest.query('range_in_km >= 7')['last_price_in_mil'].describe())\n",
    "\n",
    "#в среднем в центре объект в 2 раза дороже, чем в остальных областях, связано с пиками - ультра-дорогим жильем большой площади"
   ]
  },
  {
   "cell_type": "code",
   "execution_count": 39,
   "id": "d6c2e02a-8dd0-4f9d-b8f8-2b2a76838f71",
   "metadata": {},
   "outputs": [
    {
     "name": "stdout",
     "output_type": "stream",
     "text": [
      "count    3530.000000\n",
      "mean        2.810765\n",
      "std         1.333951\n",
      "min         1.000000\n",
      "25%         2.000000\n",
      "50%         3.000000\n",
      "75%         3.000000\n",
      "max         8.000000\n",
      "Name: rooms, dtype: float64\n",
      "count    15050.000000\n",
      "mean         1.986578\n",
      "std          0.931264\n",
      "min          1.000000\n",
      "25%          1.000000\n",
      "50%          2.000000\n",
      "75%          3.000000\n",
      "max          8.000000\n",
      "Name: rooms, dtype: float64\n"
     ]
    }
   ],
   "source": [
    "print(data_cityCenters_nearest.query('range_in_km <= 7')['rooms'].describe())\n",
    "print(data_cityCenters_nearest.query('range_in_km >= 7')['rooms'].describe())\n",
    "#количество комнат по объектам примерно одинаково распределено"
   ]
  },
  {
   "cell_type": "markdown",
   "id": "36473d81-1a91-429d-a7ec-76467c0d1815",
   "metadata": {},
   "source": [
    "#### 5. Общий вывод\n",
    "\n"
   ]
  },
  {
   "cell_type": "markdown",
   "id": "ab012288-8aed-4007-9b72-612fbb08ff20",
   "metadata": {},
   "source": [
    "От заказчика была получена таблица с данными, описывающими продажу недвижимости в городе Санкт-Петербурге и области за 2014-2019 годы для анализа и поставлена следующая задача: установить параметры, влияющие на цену объекта недвижимости.\n",
    "\n",
    "Дополнительно были поставлены локальные задачи: \n",
    " - цену квадратного метра;\n",
    " - день недели, месяц и год публикации объявления;\n",
    " - этаж квартиры; варианты — первый, последний, другой;\n",
    " - соотношение жилой и общей площади, а также отношение площади кухни к общей;\n",
    " - изучить параметры: площадь, цена, число комнат, высота потолков;\n",
    " - определить факторы, которые больше всего влияют на стоимость квартиры;\n",
    " - отобрать и проанализировать 10 населённых пунктов с наибольшим числом объявлений; \n",
    " - выделить и проанализировать квартиры в центре Санкт-Петербурга; \n",
    " \n",
    "\n",
    "Таблица содержит следующие столбцы: 'total_images', 'last_price', 'total_area', 'first_day_exposition','rooms', 'ceiling_height', 'floors_total', 'living_area', 'floor','is_apartment', 'studio', 'open_plan', 'kitchen_area', 'balcony', 'locality_name', 'airports_nearest', 'cityCenters_nearest', 'parks_around3000', 'parks_nearest', 'ponds_around3000', 'ponds_nearest', 'days_exposition', 'price_sm', 'weekday', 'month', 'year', 'floor_name','living_to_total_area', 'kitchen_to_total_area','last_price_in_mil', 'ceiling_height_index'. \n",
    "\n",
    "Для работы по определению параметров были отобраны и проанализированы следующие столбцы: \n",
    "- last_price: важен для расчета цены кв/м;\n",
    "- total_area: важен для расчета цены кв/м;\n",
    "- first_day_exposition - день недели, месяц и год публикации объявления - важен для последующего анализа;\n",
    "- floor - этаж - важен для последующего анализа и решения локальной задачи;\n",
    "- floors_total - важен для определения, последний ли этаж;\n",
    "- living_area, kitchen_area - важны для расчета соотношения жилой и общей площади, а также отношение площади кухни к общей;\n",
    "- rooms - число комнат - важен для последующего анализа;\n",
    "- ceiling_height - высота потолков - важен для последующего анализа;\n",
    "- locality_name - расположение: критично для дальнейшего анализа;\n",
    "\n",
    "В процессе анализа отдельных столбцов были выявлены следующие аномалии и ошибки: \n",
    "- столбец last_price: ошибочное минимальное значение, в дальнейшем анализе будет выбросом. Значение удалено. \n",
    "- столбец floors_total: указаны дробные числа, хотя этаж дробным быть не может. Приведены к целочисленным значениям. Также обнаружены 3% пропусков, заменены на медиану. \n",
    "- столбец kitchen_area: пропуски, замена произведена на медиану; \n",
    "- столбец rooms: некоторое количество нулевых значений, заменены медианным значением; \n",
    "- столбец ceiling_height: большое количество пропусков, много значений меньше минимально возможной высоты потолка. Заменены на медиану и 2.5м соответственно. \n",
    "\n",
    "В процессе решения локальных задач были добавлены следующие столбцы: \n",
    "- цена за квадратный метр: price_sm;\n",
    "- день недели, месяц и год публикации объявления: 'weekday', 'month', 'year';\n",
    "- этаж квартиры; варианты — первый, последний, другой: floor_name;\n",
    "- соотношение жилой и общей площади, а также отношение площади кухни к общей: 'living_to_total_area', 'kitchen_to_total_area';\n",
    "\n",
    "Был проведен анализ данных, показавших следующее: \n",
    "- анализ площади квартир показал, что, за исключением редких выбросов, распределение близко к нормальному, а значит, выборка соответствует действительности; \n",
    "- анализ цен на недвижимость показал, что, несмотря на наличие экстремальных минимумов и максимумов это не ошибки базы, а реальные предложения. Цены объясняются расположением, площадью, уникальностью самих объектов.\n",
    "- были обнаружены аномалии в столбце rooms, квартиры с количеством комнат более 9 было решено удалить по следующим причинам: недвижимость очень дорогая, будет выбросом на любом графике; количество комнат нереалистично большое - больше 10, это показатели загородных домов, что может быть ошибкой. \n",
    "- высоты потолков после предобработки распределены нормально, без явных выбросов и аномалий; \n",
    "- анализ столбца days_exposition показал, что обычно продажа занимает около 3 месяцев (или 180 дней) в среднем. Есть интересный случай, когда кому-то повезло за сутки продать квартиру; \n",
    "\n",
    "Далее, был проведен анализ факторов, влияющих на цену квартиры, показавший следующее: \n",
    "- напрямую цена зависит от общей площади, несколько слабее - от количества комнат. Это достаточно очевидный факт; \n",
    "- обнаружена связь между этажом и ценой: квартира на первом этаже в среднем стоит на 24 % дешевле, чем на \"другом\", а квартира на последнем - на 12% дешевле, чем на \"другом\";\n",
    "- связь года продажи и стоимости нельзя назвать однозначной:  с годами жилье сильно дешевело, а количество сделок - росло; соответственно, вывод - пусть и косвенно, но год влияет на стоимость продажи - отрицательно. Однако, ввиду того, что год - не количественная и не качественная характеристика, нельзя сказать, что она объективно влияет на стоимость. Мы не можем продавать квартиру дороже лишь потому, что \"мы ее покупали в 2014 году, когда цена была максимальна\"; в 2019 году был резкий спад продаж во всей таблице - для понимания, нужно смотреть, какие события внутри страны, города, могли этому способствовать.\n",
    "- с зависимостью цены от месяца следующая: можно говорить, что самая низкая цена за год - в июне, самая высокая - в апреле, с некоторым отрывом - в сентябре. Возможны уже какие-то выводы, так как продавать квартиру в апреле - выгоднее всего; \n",
    "- в зависимости от высоты потолка можно сделать вывод, что цена на квартиры с \"высоким\" потолком на 94% выше, чем со \"стандартным. Квартира с низким потолком на 17% дешевле, чем квартира со стандартной высотой потолка. Стандартным приняли высоту от 2.5 до 3 метров, низким - 2.5 (ниже после предобработки высоты в базе нет), а высоким - выше 3 метров. Наиболее дорогими оказались объявления с высотой от 3 метров - конечно, тут влияют и исторические дома в центре, и просто дорогие дома, но логически это обосновано: высокий потолок всегда стоит дороже низкого; \n",
    "\n",
    "По количеству объявлений и по средней цене недвижимости однозначным лидером является город Санкт-Петербург. \n",
    "\n",
    "- Имеется явный и очевидный перекос в большую сторону по геолокации - в городе объявлений больше, чем в области.\n",
    "- в Санкт-Петербурге количество сделок и цена квартир на порядок выше, чем в области.\n",
    "- В среднем, в центре Санкт-Петербурга объект стоит в 2 раза дороже, чем в остальных областях, связано это с пиками - ультра-дорогим жильем большой площади. \"Центром\" люди считают зону радиусом 7км от исторического центра города, дальше объекты резко дешевеют. \n",
    "- \"внутри\" центра города на жилье влияют те же факторы, что и в остальном городе/области: площадь, количество комнат, высота потолка. Распределение в целом аналогично. \n",
    "\n",
    "По итогу анализа можно сказать, что основными параметрами, влияющими на стоимость продажи, являются: \n",
    "- площадь\n",
    "- количество комнат\n",
    "- высота потолка\n",
    "- этаж, на котором находится квартира\n",
    "- расположение, город или область, центр или окраина;\n",
    "\n",
    "В связи с этим, можно сделать осторожный вывод, что, раз эти показатели являются \"основными\", то можно попробовать сделать лайт-версию сервиса, либо в самом сервисе сделать надстройку-фильтр (кнопка \"найди мне то, что мне надо\"), учитывающую только эти параметры.\n",
    "Таким образом, пользователям в своей массе не придется тратить время на поиск в списках среди \"близости к паркам\", \"близости к прудам\", и так далее. \n"
   ]
  }
 ],
 "metadata": {
  "kernelspec": {
   "display_name": "Python 3 (ipykernel)",
   "language": "python",
   "name": "python3"
  },
  "language_info": {
   "codemirror_mode": {
    "name": "ipython",
    "version": 3
   },
   "file_extension": ".py",
   "mimetype": "text/x-python",
   "name": "python",
   "nbconvert_exporter": "python",
   "pygments_lexer": "ipython3",
   "version": "3.9.12"
  },
  "toc": {
   "base_numbering": 1,
   "nav_menu": {},
   "number_sections": true,
   "sideBar": true,
   "skip_h1_title": true,
   "title_cell": "Table of Contents",
   "title_sidebar": "Contents",
   "toc_cell": false,
   "toc_position": {},
   "toc_section_display": true,
   "toc_window_display": false
  }
 },
 "nbformat": 4,
 "nbformat_minor": 5
}
