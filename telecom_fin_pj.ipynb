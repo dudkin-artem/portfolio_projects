{
 "cells": [
  {
   "cell_type": "markdown",
   "id": "82b5c6cd",
   "metadata": {},
   "source": [
    "## Телеком. Прогнозирование оттока клиентов в компании \"Ниединогоразрыва.ком\". "
   ]
  },
  {
   "cell_type": "markdown",
   "id": "ec040393-be17-43d2-8d92-0dab3a5eef8c",
   "metadata": {},
   "source": [
    "Заказчиком поставлена задача написать по имеющимся в компании данных модель предсказания оттока клиентов. \n",
    "\n",
    "Предоставлены следующие данные: 4 таблицы, в каждой из которых зафиксированы ID клиента и различные данные о них, пол, набор услуг которыми пользуется клиент, и факт ухода или продолжения сотрудничества с компанией. \n",
    "\n",
    "Требуется произвести первичный осмотр качества данных, там, где необходимо - преобработку, и провести тестирование на нескольких алгоритмах машинного обучения, как с бустингом, так и без него. "
   ]
  },
  {
   "cell_type": "markdown",
   "id": "06eedef5-7a98-49a2-913a-32f28a01d6a8",
   "metadata": {
    "tags": []
   },
   "source": [
    "Оглавление:\n",
    "\n",
    "1. Анализ таблиц:\n",
    "\n",
    "        1.1 Таблица contract\n",
    "    \n",
    "        1.2 Таблица internet\n",
    "    \n",
    "        1.3 Таблица personal\n",
    "    \n",
    "        1.4 Таблица phone\n",
    "        \n",
    "2. Промежуточные выводы по таблицам;\n",
    "\n",
    "3. План работы;\n",
    "\n",
    "4. Работа с таблицами по объединению и предобработке данных; расчет моделей.\n",
    "\n",
    "        4.1 Предобработка для моделей без градиентного бустинга\n",
    "        \n",
    "        4.2 Обучение и оценка моделей. Решающее дерево\n",
    "        \n",
    "        4.3 Обучение и оценка моделей. Случайный лес \n",
    "              \n",
    "        4.4 Предобработка для моделей с градиентным бустингом\n",
    "        \n",
    "        4.5 Модель CatboostClassifier\n",
    "         \n",
    "        4.6 Модель LGBMClassifier\n",
    "        \n",
    "5. Определяем лучшую модель: \n",
    "         \n",
    "         5.1 Расчет AUC-ROC по лучшей модели на тестовой выборке:\n",
    "         \n",
    "6. Краткий вывод по работе.\n",
    "\n",
    "7. Отчет о проделанной работе. "
   ]
  },
  {
   "cell_type": "markdown",
   "id": "588547f5-baba-4142-865c-98883f39934f",
   "metadata": {},
   "source": [
    "### 1. Анализ таблиц"
   ]
  },
  {
   "cell_type": "code",
   "execution_count": 1,
   "id": "13c39225-9b0d-46bd-93eb-3624c04bf15c",
   "metadata": {},
   "outputs": [],
   "source": [
    "import pandas as pd\n",
    "import matplotlib.pyplot as plt\n",
    "from sklearn.preprocessing import StandardScaler\n",
    "from sklearn.model_selection import train_test_split\n",
    "from sklearn.metrics import accuracy_score\n",
    "from sklearn.ensemble import RandomForestClassifier\n",
    "from sklearn.tree import DecisionTreeClassifier\n",
    "from sklearn.metrics import roc_curve\n",
    "from sklearn.metrics import roc_auc_score\n",
    "from catboost import CatBoostClassifier\n",
    "from lightgbm import LGBMClassifier\n",
    "import lightgbm as lgb\n",
    "from sklearn.metrics import accuracy_score\n",
    "from sklearn.preprocessing import OrdinalEncoder\n",
    "from sklearn.model_selection import cross_val_score\n",
    "from sklearn.model_selection import GridSearchCV\n",
    "from catboost import cv\n",
    "from catboost import * \n",
    "from catboost import datasets"
   ]
  },
  {
   "cell_type": "code",
   "execution_count": 2,
   "id": "67ca1a3f-63a7-435d-a88e-fa7bdb3551f3",
   "metadata": {},
   "outputs": [],
   "source": [
    "contract = pd.read_csv('/Users/artem/Desktop/Работы Юпитер/Финальный проект/final_provider/contract.csv')\n",
    "internet = pd.read_csv('/Users/artem/Desktop/Работы Юпитер/Финальный проект/final_provider/internet.csv')\n",
    "personal = pd.read_csv('/Users/artem/Desktop/Работы Юпитер/Финальный проект/final_provider/personal.csv')\n",
    "phone = pd.read_csv('/Users/artem/Desktop/Работы Юпитер/Финальный проект/final_provider/phone.csv')"
   ]
  },
  {
   "cell_type": "markdown",
   "id": "815a0722-f6af-475b-8d5d-77b59a65885f",
   "metadata": {
    "tags": []
   },
   "source": [
    "1.1 Анализируем первую таблицу"
   ]
  },
  {
   "cell_type": "code",
   "execution_count": 3,
   "id": "15fb780e-d5c3-4bdf-b7f2-ece76b7db064",
   "metadata": {
    "tags": []
   },
   "outputs": [
    {
     "name": "stdout",
     "output_type": "stream",
     "text": [
      "<class 'pandas.core.frame.DataFrame'>\n",
      "RangeIndex: 7043 entries, 0 to 7042\n",
      "Data columns (total 8 columns):\n",
      " #   Column            Non-Null Count  Dtype  \n",
      "---  ------            --------------  -----  \n",
      " 0   customerID        7043 non-null   object \n",
      " 1   BeginDate         7043 non-null   object \n",
      " 2   EndDate           7043 non-null   object \n",
      " 3   Type              7043 non-null   object \n",
      " 4   PaperlessBilling  7043 non-null   object \n",
      " 5   PaymentMethod     7043 non-null   object \n",
      " 6   MonthlyCharges    7043 non-null   float64\n",
      " 7   TotalCharges      7043 non-null   object \n",
      "dtypes: float64(1), object(7)\n",
      "memory usage: 440.3+ KB\n"
     ]
    }
   ],
   "source": [
    "contract.info() # предварительно пропусков нет\n",
    "# в некоторых столбцах тип данных не соответствует предполагаемому содержанию"
   ]
  },
  {
   "cell_type": "code",
   "execution_count": 4,
   "id": "68649acf-f8bb-4943-b700-bb77e75f135b",
   "metadata": {
    "tags": []
   },
   "outputs": [
    {
     "data": {
      "text/html": [
       "<div>\n",
       "<style scoped>\n",
       "    .dataframe tbody tr th:only-of-type {\n",
       "        vertical-align: middle;\n",
       "    }\n",
       "\n",
       "    .dataframe tbody tr th {\n",
       "        vertical-align: top;\n",
       "    }\n",
       "\n",
       "    .dataframe thead th {\n",
       "        text-align: right;\n",
       "    }\n",
       "</style>\n",
       "<table border=\"1\" class=\"dataframe\">\n",
       "  <thead>\n",
       "    <tr style=\"text-align: right;\">\n",
       "      <th></th>\n",
       "      <th>customerID</th>\n",
       "      <th>BeginDate</th>\n",
       "      <th>EndDate</th>\n",
       "      <th>Type</th>\n",
       "      <th>PaperlessBilling</th>\n",
       "      <th>PaymentMethod</th>\n",
       "      <th>MonthlyCharges</th>\n",
       "      <th>TotalCharges</th>\n",
       "    </tr>\n",
       "  </thead>\n",
       "  <tbody>\n",
       "    <tr>\n",
       "      <th>0</th>\n",
       "      <td>7590-VHVEG</td>\n",
       "      <td>2020-01-01</td>\n",
       "      <td>No</td>\n",
       "      <td>Month-to-month</td>\n",
       "      <td>Yes</td>\n",
       "      <td>Electronic check</td>\n",
       "      <td>29.85</td>\n",
       "      <td>29.85</td>\n",
       "    </tr>\n",
       "    <tr>\n",
       "      <th>1</th>\n",
       "      <td>5575-GNVDE</td>\n",
       "      <td>2017-04-01</td>\n",
       "      <td>No</td>\n",
       "      <td>One year</td>\n",
       "      <td>No</td>\n",
       "      <td>Mailed check</td>\n",
       "      <td>56.95</td>\n",
       "      <td>1889.5</td>\n",
       "    </tr>\n",
       "    <tr>\n",
       "      <th>2</th>\n",
       "      <td>3668-QPYBK</td>\n",
       "      <td>2019-10-01</td>\n",
       "      <td>2019-12-01 00:00:00</td>\n",
       "      <td>Month-to-month</td>\n",
       "      <td>Yes</td>\n",
       "      <td>Mailed check</td>\n",
       "      <td>53.85</td>\n",
       "      <td>108.15</td>\n",
       "    </tr>\n",
       "    <tr>\n",
       "      <th>3</th>\n",
       "      <td>7795-CFOCW</td>\n",
       "      <td>2016-05-01</td>\n",
       "      <td>No</td>\n",
       "      <td>One year</td>\n",
       "      <td>No</td>\n",
       "      <td>Bank transfer (automatic)</td>\n",
       "      <td>42.30</td>\n",
       "      <td>1840.75</td>\n",
       "    </tr>\n",
       "    <tr>\n",
       "      <th>4</th>\n",
       "      <td>9237-HQITU</td>\n",
       "      <td>2019-09-01</td>\n",
       "      <td>2019-11-01 00:00:00</td>\n",
       "      <td>Month-to-month</td>\n",
       "      <td>Yes</td>\n",
       "      <td>Electronic check</td>\n",
       "      <td>70.70</td>\n",
       "      <td>151.65</td>\n",
       "    </tr>\n",
       "  </tbody>\n",
       "</table>\n",
       "</div>"
      ],
      "text/plain": [
       "   customerID   BeginDate              EndDate            Type  \\\n",
       "0  7590-VHVEG  2020-01-01                   No  Month-to-month   \n",
       "1  5575-GNVDE  2017-04-01                   No        One year   \n",
       "2  3668-QPYBK  2019-10-01  2019-12-01 00:00:00  Month-to-month   \n",
       "3  7795-CFOCW  2016-05-01                   No        One year   \n",
       "4  9237-HQITU  2019-09-01  2019-11-01 00:00:00  Month-to-month   \n",
       "\n",
       "  PaperlessBilling              PaymentMethod  MonthlyCharges TotalCharges  \n",
       "0              Yes           Electronic check           29.85        29.85  \n",
       "1               No               Mailed check           56.95       1889.5  \n",
       "2              Yes               Mailed check           53.85       108.15  \n",
       "3               No  Bank transfer (automatic)           42.30      1840.75  \n",
       "4              Yes           Electronic check           70.70       151.65  "
      ]
     },
     "execution_count": 4,
     "metadata": {},
     "output_type": "execute_result"
    }
   ],
   "source": [
    "contract.head() # смотрим на данные"
   ]
  },
  {
   "cell_type": "code",
   "execution_count": 5,
   "id": "9d4ae8b5-e636-429b-ad0f-faed8ee8a559",
   "metadata": {
    "tags": []
   },
   "outputs": [
    {
     "name": "stdout",
     "output_type": "stream",
     "text": [
      "Количество уникальных ID пользователя =  7043 Общее количество значений user ID =  7043\n"
     ]
    }
   ],
   "source": [
    "# смотрим на дубликаты в колонке customerID\n",
    "\n",
    "print('Количество уникальных ID пользователя = ', len(contract['customerID'].unique()), 'Общее количество значений user ID = ', contract['customerID'].count())\n",
    "\n",
    "# количество совпадает, дубликатов по user ID нет"
   ]
  },
  {
   "cell_type": "code",
   "execution_count": 6,
   "id": "4c17f5eb-4a9c-4b4c-9eee-5b3de2c87c27",
   "metadata": {
    "tags": []
   },
   "outputs": [
    {
     "name": "stdout",
     "output_type": "stream",
     "text": [
      "1869\n",
      "5174\n",
      "Процент ушедших клиентов =  26.536987079369588\n",
      "Процент оставшихся клиентов =  73.4630129206304\n"
     ]
    }
   ],
   "source": [
    "# столбец EndDate - наш целевой признак, оценим распределение положительных/отрицательных значений\n",
    "print(contract.query('EndDate != \"No\"')['customerID'].count()) # количество ушедших юзеров 1869\n",
    "print(contract.query('EndDate == \"No\"')['customerID'].count()) # количество оставшихся пользователей 5174\n",
    "\n",
    "# подсчитаем отношение к общему количеству\n",
    "print('Процент ушедших клиентов = ', (contract.query('EndDate != \"No\"')['customerID'].count()/contract['customerID'].count())*100)\n",
    "print('Процент оставшихся клиентов = ', (contract.query('EndDate == \"No\"')['customerID'].count()/contract['customerID'].count())*100)\n",
    "\n",
    "# количество клиентов,ушедших из компании, почти в 3 раза меньше, чем оставшихся - необходимо будет уравнять данные в небольшое количество раз (1.5-2, чтобы избежать переобучения) в будущем для корректного обучения модели"
   ]
  },
  {
   "cell_type": "code",
   "execution_count": 7,
   "id": "104148d4-0759-4b4e-ba02-259ec5526b77",
   "metadata": {
    "tags": []
   },
   "outputs": [
    {
     "data": {
      "text/plain": [
       "array(['Yes', 'No'], dtype=object)"
      ]
     },
     "execution_count": 7,
     "metadata": {},
     "output_type": "execute_result"
    }
   ],
   "source": [
    "contract['PaperlessBilling'].unique() # аномальных значений нет"
   ]
  },
  {
   "cell_type": "code",
   "execution_count": 8,
   "id": "d3ad68c2-3dda-470f-9364-891d1f15f936",
   "metadata": {
    "tags": []
   },
   "outputs": [
    {
     "data": {
      "text/plain": [
       "array(['Electronic check', 'Mailed check', 'Bank transfer (automatic)',\n",
       "       'Credit card (automatic)'], dtype=object)"
      ]
     },
     "execution_count": 8,
     "metadata": {},
     "output_type": "execute_result"
    }
   ],
   "source": [
    "contract['PaymentMethod'].unique() # аномальных значений нет"
   ]
  },
  {
   "cell_type": "code",
   "execution_count": 9,
   "id": "30dce567-f11e-4aed-86c7-2e55face09f5",
   "metadata": {
    "tags": []
   },
   "outputs": [
    {
     "data": {
      "text/html": [
       "<div>\n",
       "<style scoped>\n",
       "    .dataframe tbody tr th:only-of-type {\n",
       "        vertical-align: middle;\n",
       "    }\n",
       "\n",
       "    .dataframe tbody tr th {\n",
       "        vertical-align: top;\n",
       "    }\n",
       "\n",
       "    .dataframe thead th {\n",
       "        text-align: right;\n",
       "    }\n",
       "</style>\n",
       "<table border=\"1\" class=\"dataframe\">\n",
       "  <thead>\n",
       "    <tr style=\"text-align: right;\">\n",
       "      <th></th>\n",
       "      <th>customerID</th>\n",
       "      <th>BeginDate</th>\n",
       "      <th>EndDate</th>\n",
       "      <th>Type</th>\n",
       "      <th>PaperlessBilling</th>\n",
       "      <th>PaymentMethod</th>\n",
       "      <th>MonthlyCharges</th>\n",
       "      <th>TotalCharges</th>\n",
       "    </tr>\n",
       "  </thead>\n",
       "  <tbody>\n",
       "    <tr>\n",
       "      <th>488</th>\n",
       "      <td>4472-LVYGI</td>\n",
       "      <td>2020-02-01</td>\n",
       "      <td>No</td>\n",
       "      <td>Two year</td>\n",
       "      <td>Yes</td>\n",
       "      <td>Bank transfer (automatic)</td>\n",
       "      <td>52.55</td>\n",
       "      <td></td>\n",
       "    </tr>\n",
       "    <tr>\n",
       "      <th>753</th>\n",
       "      <td>3115-CZMZD</td>\n",
       "      <td>2020-02-01</td>\n",
       "      <td>No</td>\n",
       "      <td>Two year</td>\n",
       "      <td>No</td>\n",
       "      <td>Mailed check</td>\n",
       "      <td>20.25</td>\n",
       "      <td></td>\n",
       "    </tr>\n",
       "    <tr>\n",
       "      <th>936</th>\n",
       "      <td>5709-LVOEQ</td>\n",
       "      <td>2020-02-01</td>\n",
       "      <td>No</td>\n",
       "      <td>Two year</td>\n",
       "      <td>No</td>\n",
       "      <td>Mailed check</td>\n",
       "      <td>80.85</td>\n",
       "      <td></td>\n",
       "    </tr>\n",
       "    <tr>\n",
       "      <th>1082</th>\n",
       "      <td>4367-NUYAO</td>\n",
       "      <td>2020-02-01</td>\n",
       "      <td>No</td>\n",
       "      <td>Two year</td>\n",
       "      <td>No</td>\n",
       "      <td>Mailed check</td>\n",
       "      <td>25.75</td>\n",
       "      <td></td>\n",
       "    </tr>\n",
       "    <tr>\n",
       "      <th>1340</th>\n",
       "      <td>1371-DWPAZ</td>\n",
       "      <td>2020-02-01</td>\n",
       "      <td>No</td>\n",
       "      <td>Two year</td>\n",
       "      <td>No</td>\n",
       "      <td>Credit card (automatic)</td>\n",
       "      <td>56.05</td>\n",
       "      <td></td>\n",
       "    </tr>\n",
       "    <tr>\n",
       "      <th>3331</th>\n",
       "      <td>7644-OMVMY</td>\n",
       "      <td>2020-02-01</td>\n",
       "      <td>No</td>\n",
       "      <td>Two year</td>\n",
       "      <td>No</td>\n",
       "      <td>Mailed check</td>\n",
       "      <td>19.85</td>\n",
       "      <td></td>\n",
       "    </tr>\n",
       "    <tr>\n",
       "      <th>3826</th>\n",
       "      <td>3213-VVOLG</td>\n",
       "      <td>2020-02-01</td>\n",
       "      <td>No</td>\n",
       "      <td>Two year</td>\n",
       "      <td>No</td>\n",
       "      <td>Mailed check</td>\n",
       "      <td>25.35</td>\n",
       "      <td></td>\n",
       "    </tr>\n",
       "    <tr>\n",
       "      <th>4380</th>\n",
       "      <td>2520-SGTTA</td>\n",
       "      <td>2020-02-01</td>\n",
       "      <td>No</td>\n",
       "      <td>Two year</td>\n",
       "      <td>No</td>\n",
       "      <td>Mailed check</td>\n",
       "      <td>20.00</td>\n",
       "      <td></td>\n",
       "    </tr>\n",
       "    <tr>\n",
       "      <th>5218</th>\n",
       "      <td>2923-ARZLG</td>\n",
       "      <td>2020-02-01</td>\n",
       "      <td>No</td>\n",
       "      <td>One year</td>\n",
       "      <td>Yes</td>\n",
       "      <td>Mailed check</td>\n",
       "      <td>19.70</td>\n",
       "      <td></td>\n",
       "    </tr>\n",
       "    <tr>\n",
       "      <th>6670</th>\n",
       "      <td>4075-WKNIU</td>\n",
       "      <td>2020-02-01</td>\n",
       "      <td>No</td>\n",
       "      <td>Two year</td>\n",
       "      <td>No</td>\n",
       "      <td>Mailed check</td>\n",
       "      <td>73.35</td>\n",
       "      <td></td>\n",
       "    </tr>\n",
       "    <tr>\n",
       "      <th>6754</th>\n",
       "      <td>2775-SEFEE</td>\n",
       "      <td>2020-02-01</td>\n",
       "      <td>No</td>\n",
       "      <td>Two year</td>\n",
       "      <td>Yes</td>\n",
       "      <td>Bank transfer (automatic)</td>\n",
       "      <td>61.90</td>\n",
       "      <td></td>\n",
       "    </tr>\n",
       "  </tbody>\n",
       "</table>\n",
       "</div>"
      ],
      "text/plain": [
       "      customerID   BeginDate EndDate      Type PaperlessBilling  \\\n",
       "488   4472-LVYGI  2020-02-01      No  Two year              Yes   \n",
       "753   3115-CZMZD  2020-02-01      No  Two year               No   \n",
       "936   5709-LVOEQ  2020-02-01      No  Two year               No   \n",
       "1082  4367-NUYAO  2020-02-01      No  Two year               No   \n",
       "1340  1371-DWPAZ  2020-02-01      No  Two year               No   \n",
       "3331  7644-OMVMY  2020-02-01      No  Two year               No   \n",
       "3826  3213-VVOLG  2020-02-01      No  Two year               No   \n",
       "4380  2520-SGTTA  2020-02-01      No  Two year               No   \n",
       "5218  2923-ARZLG  2020-02-01      No  One year              Yes   \n",
       "6670  4075-WKNIU  2020-02-01      No  Two year               No   \n",
       "6754  2775-SEFEE  2020-02-01      No  Two year              Yes   \n",
       "\n",
       "                  PaymentMethod  MonthlyCharges TotalCharges  \n",
       "488   Bank transfer (automatic)           52.55               \n",
       "753                Mailed check           20.25               \n",
       "936                Mailed check           80.85               \n",
       "1082               Mailed check           25.75               \n",
       "1340    Credit card (automatic)           56.05               \n",
       "3331               Mailed check           19.85               \n",
       "3826               Mailed check           25.35               \n",
       "4380               Mailed check           20.00               \n",
       "5218               Mailed check           19.70               \n",
       "6670               Mailed check           73.35               \n",
       "6754  Bank transfer (automatic)           61.90               "
      ]
     },
     "execution_count": 9,
     "metadata": {},
     "output_type": "execute_result"
    }
   ],
   "source": [
    "#contract['TotalCharges'].astype('float64') - выдает ошибку, в данных есть или пропуски или буквы\n",
    "contract.query('TotalCharges < \"1\"') # видим что есть пропуски, все данные датированы 01 февраля 2020г - поэтому нет базы для расчета общего расхода\n",
    "# данные стоит привести к цифровому типу, в месте пропусков поставить значение из MonthlyCharges или просто удалить данные, всего 11 строк"
   ]
  },
  {
   "cell_type": "markdown",
   "id": "5e22814a-3507-4d7c-9860-877c12a6a0cd",
   "metadata": {
    "tags": []
   },
   "source": [
    "Предварительные выводы по таблице 1: \n",
    "\n",
    "Дубликатов или задвоений в базе клиентов нет;\n",
    "\n",
    "дата BeginDate указана в неправильном формате;\n",
    "\n",
    "дата EndDate - наш целевой признак, даты стоит заполнить значением \"yes\" чтобы нормально обучить модель; для экономии памяти можно было бы привести данные столбца к типу категорий;\n",
    "\n",
    "TotalCharges имеет тип данных объект, хотя должен быть цифровым; есть пропуски из-за клиентов, которые зарегистрировались недавно - их всего 11 штук, можно удалить.\n",
    "\n",
    "Количество клиентов,ушедших из компании, почти в 3 раза меньше, чем оставшихся - необходимо будет уравнять данные в небольшое количество раз (1.5-2, чтобы избежать переобучения) в будущем для корректного обучения модели;"
   ]
  },
  {
   "cell_type": "markdown",
   "id": "65e8b2e1-dbfc-467c-8a90-26656ed41aba",
   "metadata": {
    "tags": []
   },
   "source": [
    "1.2 Таблица internet"
   ]
  },
  {
   "cell_type": "code",
   "execution_count": 10,
   "id": "84060605-e2d4-4e36-acc7-cb38b24ac1f6",
   "metadata": {
    "tags": []
   },
   "outputs": [
    {
     "name": "stdout",
     "output_type": "stream",
     "text": [
      "<class 'pandas.core.frame.DataFrame'>\n",
      "RangeIndex: 5517 entries, 0 to 5516\n",
      "Data columns (total 8 columns):\n",
      " #   Column            Non-Null Count  Dtype \n",
      "---  ------            --------------  ----- \n",
      " 0   customerID        5517 non-null   object\n",
      " 1   InternetService   5517 non-null   object\n",
      " 2   OnlineSecurity    5517 non-null   object\n",
      " 3   OnlineBackup      5517 non-null   object\n",
      " 4   DeviceProtection  5517 non-null   object\n",
      " 5   TechSupport       5517 non-null   object\n",
      " 6   StreamingTV       5517 non-null   object\n",
      " 7   StreamingMovies   5517 non-null   object\n",
      "dtypes: object(8)\n",
      "memory usage: 344.9+ KB\n"
     ]
    }
   ],
   "source": [
    "internet.info() # пропусков предварительно нет"
   ]
  },
  {
   "cell_type": "code",
   "execution_count": 11,
   "id": "53b94ee6-6adf-487a-ae7a-8082ad286595",
   "metadata": {
    "tags": []
   },
   "outputs": [
    {
     "data": {
      "text/html": [
       "<div>\n",
       "<style scoped>\n",
       "    .dataframe tbody tr th:only-of-type {\n",
       "        vertical-align: middle;\n",
       "    }\n",
       "\n",
       "    .dataframe tbody tr th {\n",
       "        vertical-align: top;\n",
       "    }\n",
       "\n",
       "    .dataframe thead th {\n",
       "        text-align: right;\n",
       "    }\n",
       "</style>\n",
       "<table border=\"1\" class=\"dataframe\">\n",
       "  <thead>\n",
       "    <tr style=\"text-align: right;\">\n",
       "      <th></th>\n",
       "      <th>customerID</th>\n",
       "      <th>InternetService</th>\n",
       "      <th>OnlineSecurity</th>\n",
       "      <th>OnlineBackup</th>\n",
       "      <th>DeviceProtection</th>\n",
       "      <th>TechSupport</th>\n",
       "      <th>StreamingTV</th>\n",
       "      <th>StreamingMovies</th>\n",
       "    </tr>\n",
       "  </thead>\n",
       "  <tbody>\n",
       "    <tr>\n",
       "      <th>0</th>\n",
       "      <td>7590-VHVEG</td>\n",
       "      <td>DSL</td>\n",
       "      <td>No</td>\n",
       "      <td>Yes</td>\n",
       "      <td>No</td>\n",
       "      <td>No</td>\n",
       "      <td>No</td>\n",
       "      <td>No</td>\n",
       "    </tr>\n",
       "    <tr>\n",
       "      <th>1</th>\n",
       "      <td>5575-GNVDE</td>\n",
       "      <td>DSL</td>\n",
       "      <td>Yes</td>\n",
       "      <td>No</td>\n",
       "      <td>Yes</td>\n",
       "      <td>No</td>\n",
       "      <td>No</td>\n",
       "      <td>No</td>\n",
       "    </tr>\n",
       "    <tr>\n",
       "      <th>2</th>\n",
       "      <td>3668-QPYBK</td>\n",
       "      <td>DSL</td>\n",
       "      <td>Yes</td>\n",
       "      <td>Yes</td>\n",
       "      <td>No</td>\n",
       "      <td>No</td>\n",
       "      <td>No</td>\n",
       "      <td>No</td>\n",
       "    </tr>\n",
       "    <tr>\n",
       "      <th>3</th>\n",
       "      <td>7795-CFOCW</td>\n",
       "      <td>DSL</td>\n",
       "      <td>Yes</td>\n",
       "      <td>No</td>\n",
       "      <td>Yes</td>\n",
       "      <td>Yes</td>\n",
       "      <td>No</td>\n",
       "      <td>No</td>\n",
       "    </tr>\n",
       "    <tr>\n",
       "      <th>4</th>\n",
       "      <td>9237-HQITU</td>\n",
       "      <td>Fiber optic</td>\n",
       "      <td>No</td>\n",
       "      <td>No</td>\n",
       "      <td>No</td>\n",
       "      <td>No</td>\n",
       "      <td>No</td>\n",
       "      <td>No</td>\n",
       "    </tr>\n",
       "  </tbody>\n",
       "</table>\n",
       "</div>"
      ],
      "text/plain": [
       "   customerID InternetService OnlineSecurity OnlineBackup DeviceProtection  \\\n",
       "0  7590-VHVEG             DSL             No          Yes               No   \n",
       "1  5575-GNVDE             DSL            Yes           No              Yes   \n",
       "2  3668-QPYBK             DSL            Yes          Yes               No   \n",
       "3  7795-CFOCW             DSL            Yes           No              Yes   \n",
       "4  9237-HQITU     Fiber optic             No           No               No   \n",
       "\n",
       "  TechSupport StreamingTV StreamingMovies  \n",
       "0          No          No              No  \n",
       "1          No          No              No  \n",
       "2          No          No              No  \n",
       "3         Yes          No              No  \n",
       "4          No          No              No  "
      ]
     },
     "execution_count": 11,
     "metadata": {},
     "output_type": "execute_result"
    }
   ],
   "source": [
    "internet.head()"
   ]
  },
  {
   "cell_type": "code",
   "execution_count": 12,
   "id": "f53c5a48-92af-4f51-9f1b-62334e78e442",
   "metadata": {
    "tags": []
   },
   "outputs": [
    {
     "data": {
      "text/plain": [
       "array(['DSL', 'Fiber optic'], dtype=object)"
      ]
     },
     "execution_count": 12,
     "metadata": {},
     "output_type": "execute_result"
    }
   ],
   "source": [
    "internet['InternetService'].unique() # аномальных значений нет"
   ]
  },
  {
   "cell_type": "code",
   "execution_count": 13,
   "id": "a9593f49-e4e9-498a-90c2-842af9944908",
   "metadata": {
    "tags": []
   },
   "outputs": [
    {
     "data": {
      "text/plain": [
       "array(['No', 'Yes'], dtype=object)"
      ]
     },
     "execution_count": 13,
     "metadata": {},
     "output_type": "execute_result"
    }
   ],
   "source": [
    "internet['OnlineSecurity'].unique() # аномальных значений нет"
   ]
  },
  {
   "cell_type": "code",
   "execution_count": 14,
   "id": "74884d90-b9f7-4eca-bbdf-c965ed214125",
   "metadata": {
    "tags": []
   },
   "outputs": [
    {
     "data": {
      "text/plain": [
       "array(['Yes', 'No'], dtype=object)"
      ]
     },
     "execution_count": 14,
     "metadata": {},
     "output_type": "execute_result"
    }
   ],
   "source": [
    "internet['OnlineBackup'].unique() # аномальных значений нет"
   ]
  },
  {
   "cell_type": "code",
   "execution_count": 15,
   "id": "79ee2b7c-d694-49ed-9444-6e2aec5a3e48",
   "metadata": {
    "tags": []
   },
   "outputs": [
    {
     "data": {
      "text/plain": [
       "array(['No', 'Yes'], dtype=object)"
      ]
     },
     "execution_count": 15,
     "metadata": {},
     "output_type": "execute_result"
    }
   ],
   "source": [
    "internet['DeviceProtection'].unique() # аномальных значений нет"
   ]
  },
  {
   "cell_type": "code",
   "execution_count": 16,
   "id": "de50b106-51bf-4a96-b343-7f669c54f9d2",
   "metadata": {
    "tags": []
   },
   "outputs": [
    {
     "data": {
      "text/plain": [
       "array(['No', 'Yes'], dtype=object)"
      ]
     },
     "execution_count": 16,
     "metadata": {},
     "output_type": "execute_result"
    }
   ],
   "source": [
    "internet['TechSupport'].unique() # аномальных значений нет"
   ]
  },
  {
   "cell_type": "code",
   "execution_count": 17,
   "id": "8ca6052a-790d-4cb5-903a-ab7e03ed1a89",
   "metadata": {
    "tags": []
   },
   "outputs": [
    {
     "data": {
      "text/plain": [
       "array(['No', 'Yes'], dtype=object)"
      ]
     },
     "execution_count": 17,
     "metadata": {},
     "output_type": "execute_result"
    }
   ],
   "source": [
    "internet['StreamingTV'].unique() # аномальных значений нет"
   ]
  },
  {
   "cell_type": "code",
   "execution_count": 18,
   "id": "84dba476-9de2-4aa1-a496-5a39a6210ebc",
   "metadata": {
    "tags": []
   },
   "outputs": [
    {
     "data": {
      "text/plain": [
       "array(['No', 'Yes'], dtype=object)"
      ]
     },
     "execution_count": 18,
     "metadata": {},
     "output_type": "execute_result"
    }
   ],
   "source": [
    "internet['StreamingMovies'].unique() # аномальных значений нет"
   ]
  },
  {
   "cell_type": "code",
   "execution_count": 19,
   "id": "8607c321-2d39-4d21-9aae-0883def06e95",
   "metadata": {
    "tags": []
   },
   "outputs": [
    {
     "data": {
      "text/plain": [
       "Text(0.5, 1.0, 'Распределение DSL и Fiber optic')"
      ]
     },
     "execution_count": 19,
     "metadata": {},
     "output_type": "execute_result"
    },
    {
     "data": {
      "image/png": "[encoded data removed]",
      "text/plain": [
       "<Figure size 432x288 with 1 Axes>"
      ]
     },
     "metadata": {
      "needs_background": "light"
     },
     "output_type": "display_data"
    }
   ],
   "source": [
    "internet.query('InternetService == \"DSL\"')['InternetService'].hist(bins=1)\n",
    "internet.query('InternetService == \"Fiber optic\"')['InternetService'].hist(bins=1)\n",
    "plt.xlabel('Типы соединения')\n",
    "plt.ylabel('Количество пользователей')\n",
    "plt.title('Распределение DSL и Fiber optic')"
   ]
  },
  {
   "cell_type": "code",
   "execution_count": 20,
   "id": "606bd2b6-72cf-47fb-8bbe-725fa7f23173",
   "metadata": {
    "tags": []
   },
   "outputs": [
    {
     "data": {
      "text/plain": [
       "Text(0.5, 1.0, 'Распределение пользователей услуги OnlineSecurity')"
      ]
     },
     "execution_count": 20,
     "metadata": {},
     "output_type": "execute_result"
    },
    {
     "data": {
      "image/png": "[encoded data removed]",
      "text/plain": [
       "<Figure size 432x288 with 1 Axes>"
      ]
     },
     "metadata": {
      "needs_background": "light"
     },
     "output_type": "display_data"
    }
   ],
   "source": [
    "internet.query('OnlineSecurity == \"Yes\"')['OnlineSecurity'].hist(bins=1)\n",
    "internet.query('OnlineSecurity == \"No\"')['OnlineSecurity'].hist(bins=1)\n",
    "plt.xlabel('Варианты пользования')\n",
    "plt.ylabel('Количество пользователей')\n",
    "plt.title('Распределение пользователей услуги OnlineSecurity')"
   ]
  },
  {
   "cell_type": "code",
   "execution_count": 21,
   "id": "a9c64eb1-4794-4542-8c47-de8e9c222dfa",
   "metadata": {
    "tags": []
   },
   "outputs": [
    {
     "data": {
      "text/plain": [
       "Text(0.5, 1.0, 'Распределение пользователей услуги OnlineBackup')"
      ]
     },
     "execution_count": 21,
     "metadata": {},
     "output_type": "execute_result"
    },
    {
     "data": {
      "image/png": "[encoded data removed]",
      "text/plain": [
       "<Figure size 432x288 with 1 Axes>"
      ]
     },
     "metadata": {
      "needs_background": "light"
     },
     "output_type": "display_data"
    }
   ],
   "source": [
    "internet.query('OnlineBackup == \"Yes\"')['OnlineBackup'].hist(bins=1)\n",
    "internet.query('OnlineBackup == \"No\"')['OnlineBackup'].hist(bins=1)\n",
    "plt.xlabel('Варианты пользования')\n",
    "plt.ylabel('Количество пользователей')\n",
    "plt.title('Распределение пользователей услуги OnlineBackup')"
   ]
  },
  {
   "cell_type": "code",
   "execution_count": 22,
   "id": "5c802b33-7547-45d8-9fa8-a5e53f7481d2",
   "metadata": {
    "tags": []
   },
   "outputs": [
    {
     "data": {
      "text/plain": [
       "Text(0.5, 1.0, 'Распределение пользователей услуги DeviceProtection')"
      ]
     },
     "execution_count": 22,
     "metadata": {},
     "output_type": "execute_result"
    },
    {
     "data": {
      "image/png": "[encoded data removed]",
      "text/plain": [
       "<Figure size 432x288 with 1 Axes>"
      ]
     },
     "metadata": {
      "needs_background": "light"
     },
     "output_type": "display_data"
    }
   ],
   "source": [
    "internet.query('DeviceProtection == \"Yes\"')['DeviceProtection'].hist(bins=1)\n",
    "internet.query('DeviceProtection == \"No\"')['DeviceProtection'].hist(bins=1)\n",
    "plt.xlabel('Варианты пользования')\n",
    "plt.ylabel('Количество пользователей')\n",
    "plt.title('Распределение пользователей услуги DeviceProtection')"
   ]
  },
  {
   "cell_type": "code",
   "execution_count": 23,
   "id": "4807cb4b-08d7-4313-ac55-e104d5571116",
   "metadata": {
    "tags": []
   },
   "outputs": [
    {
     "data": {
      "text/plain": [
       "Text(0.5, 1.0, 'Распределение пользователей услуги TechSupport')"
      ]
     },
     "execution_count": 23,
     "metadata": {},
     "output_type": "execute_result"
    },
    {
     "data": {
      "image/png": "[encoded data removed]",
      "text/plain": [
       "<Figure size 432x288 with 1 Axes>"
      ]
     },
     "metadata": {
      "needs_background": "light"
     },
     "output_type": "display_data"
    }
   ],
   "source": [
    "internet.query('TechSupport == \"Yes\"')['TechSupport'].hist(bins=1)\n",
    "internet.query('TechSupport == \"No\"')['TechSupport'].hist(bins=1)\n",
    "plt.xlabel('Варианты пользования')\n",
    "plt.ylabel('Количество пользователей')\n",
    "plt.title('Распределение пользователей услуги TechSupport')"
   ]
  },
  {
   "cell_type": "code",
   "execution_count": 24,
   "id": "edb5efec-8dc1-4c12-b2bb-749393c232d7",
   "metadata": {
    "tags": []
   },
   "outputs": [
    {
     "data": {
      "text/plain": [
       "Text(0.5, 1.0, 'Распределение пользователей с услугой StreamingTV')"
      ]
     },
     "execution_count": 24,
     "metadata": {},
     "output_type": "execute_result"
    },
    {
     "data": {
      "image/png": "[encoded data removed]",
      "text/plain": [
       "<Figure size 432x288 with 1 Axes>"
      ]
     },
     "metadata": {
      "needs_background": "light"
     },
     "output_type": "display_data"
    }
   ],
   "source": [
    "internet.query('StreamingTV == \"Yes\"')['StreamingTV'].hist(bins=1)\n",
    "internet.query('StreamingTV == \"No\"')['StreamingTV'].hist(bins=1)\n",
    "plt.xlabel('Варианты пользования')\n",
    "plt.ylabel('Количество пользователей')\n",
    "plt.title('Распределение пользователей с услугой StreamingTV')"
   ]
  },
  {
   "cell_type": "code",
   "execution_count": 25,
   "id": "241ad1d6-db47-48f3-8a9a-36d51ef9caec",
   "metadata": {
    "tags": []
   },
   "outputs": [
    {
     "data": {
      "text/plain": [
       "Text(0.5, 1.0, 'Распределение пользователей с услугой StreamingMovies')"
      ]
     },
     "execution_count": 25,
     "metadata": {},
     "output_type": "execute_result"
    },
    {
     "data": {
      "image/png": "[encoded data removed]",
      "text/plain": [
       "<Figure size 432x288 with 1 Axes>"
      ]
     },
     "metadata": {
      "needs_background": "light"
     },
     "output_type": "display_data"
    }
   ],
   "source": [
    "internet.query('StreamingMovies == \"Yes\"')['StreamingMovies'].hist(bins=1)\n",
    "internet.query('StreamingMovies == \"No\"')['StreamingMovies'].hist(bins=1)\n",
    "plt.xlabel('Варианты пользования')\n",
    "plt.ylabel('Количество пользователей')\n",
    "plt.title('Распределение пользователей с услугой StreamingMovies')"
   ]
  },
  {
   "cell_type": "code",
   "execution_count": 26,
   "id": "053383fa-d917-4751-b964-381c32bc1e82",
   "metadata": {
    "tags": []
   },
   "outputs": [
    {
     "data": {
      "text/plain": [
       "Text(0.5, 1.0, 'Распределение пользователей по типу подключения')"
      ]
     },
     "execution_count": 26,
     "metadata": {},
     "output_type": "execute_result"
    },
    {
     "data": {
      "image/png": "[encoded data removed]",
      "text/plain": [
       "<Figure size 432x288 with 1 Axes>"
      ]
     },
     "metadata": {
      "needs_background": "light"
     },
     "output_type": "display_data"
    }
   ],
   "source": [
    "internet.query('InternetService == \"Fiber optic\"')['InternetService'].hist(bins=1)\n",
    "internet.query('InternetService == \"DSL\"')['InternetService'].hist(bins=1)\n",
    "plt.xlabel('Варианты пользования')\n",
    "plt.ylabel('Количество пользователей')\n",
    "plt.title('Распределение пользователей по типу подключения')"
   ]
  },
  {
   "cell_type": "markdown",
   "id": "d65447aa-f085-4d87-8728-cd3a12ac03e5",
   "metadata": {
    "tags": []
   },
   "source": [
    "Предварительные выводы по таблице 2: \n",
    "\n",
    "Данные распределены без явных перекосов, дубликатов нет"
   ]
  },
  {
   "cell_type": "markdown",
   "id": "4baa1d5b-b730-4519-88f9-a47f47132626",
   "metadata": {
    "tags": []
   },
   "source": [
    "1.3 Таблица personal"
   ]
  },
  {
   "cell_type": "code",
   "execution_count": 27,
   "id": "f2c906ed-fae7-43dc-8b58-d2b67a722e5b",
   "metadata": {
    "tags": []
   },
   "outputs": [
    {
     "name": "stdout",
     "output_type": "stream",
     "text": [
      "<class 'pandas.core.frame.DataFrame'>\n",
      "RangeIndex: 7043 entries, 0 to 7042\n",
      "Data columns (total 5 columns):\n",
      " #   Column         Non-Null Count  Dtype \n",
      "---  ------         --------------  ----- \n",
      " 0   customerID     7043 non-null   object\n",
      " 1   gender         7043 non-null   object\n",
      " 2   SeniorCitizen  7043 non-null   int64 \n",
      " 3   Partner        7043 non-null   object\n",
      " 4   Dependents     7043 non-null   object\n",
      "dtypes: int64(1), object(4)\n",
      "memory usage: 275.2+ KB\n"
     ]
    }
   ],
   "source": [
    "personal.info() # пропусков предварительно нет"
   ]
  },
  {
   "cell_type": "code",
   "execution_count": 28,
   "id": "31175b3f-cd4d-4828-ae0a-23b0dd9a60e7",
   "metadata": {
    "jupyter": {
     "source_hidden": true
    },
    "tags": []
   },
   "outputs": [
    {
     "name": "stdout",
     "output_type": "stream",
     "text": [
      "[0 1]\n"
     ]
    },
    {
     "data": {
      "image/png": "[encoded data removed]",
      "text/plain": [
       "<Figure size 432x288 with 1 Axes>"
      ]
     },
     "metadata": {
      "needs_background": "light"
     },
     "output_type": "display_data"
    }
   ],
   "source": [
    "print(personal['SeniorCitizen'].unique()) # аномальных значений нет\n",
    "\n",
    "fig = plt.figure()\n",
    "ax = fig.add_axes([0,0,1,1])\n",
    "\n",
    "personal.query('SeniorCitizen == 1')['SeniorCitizen'].plot(kind='hist', bins=1, label='Yes')\n",
    "personal.query('SeniorCitizen == 0')['SeniorCitizen'].plot(kind='hist', bins=1, label='No')\n",
    "plt.title('Является ли клиент пенсионером')\n",
    "plt.xlabel('Количество клиентов')\n",
    "plt.ylabel('Является ли пенсионером')\n",
    "\n",
    "ax.legend();"
   ]
  },
  {
   "cell_type": "code",
   "execution_count": 29,
   "id": "98386cd4-9ae0-4fdb-a5fb-458c43aba755",
   "metadata": {
    "jupyter": {
     "source_hidden": true
    },
    "tags": []
   },
   "outputs": [
    {
     "name": "stdout",
     "output_type": "stream",
     "text": [
      "['Female' 'Male']\n"
     ]
    },
    {
     "data": {
      "text/plain": [
       "Text(0.5, 1.0, 'Распределение пользователей по гендеру')"
      ]
     },
     "execution_count": 29,
     "metadata": {},
     "output_type": "execute_result"
    },
    {
     "data": {
      "image/png": "[encoded data removed]",
      "text/plain": [
       "<Figure size 432x288 with 1 Axes>"
      ]
     },
     "metadata": {
      "needs_background": "light"
     },
     "output_type": "display_data"
    }
   ],
   "source": [
    "print(personal['gender'].unique()) # аномальных значений нет\n",
    "\n",
    "\n",
    "personal.query('gender == \"Female\"')['gender'].hist(bins=1)\n",
    "personal.query('gender == \"Male\"')['gender'].hist(bins=1)\n",
    "plt.xlabel('Варианты гендера')\n",
    "plt.ylabel('Количество пользователей')\n",
    "plt.title('Распределение пользователей по гендеру')"
   ]
  },
  {
   "cell_type": "code",
   "execution_count": 30,
   "id": "8201132a-2bb8-4f92-a1e5-fc3b198d35f7",
   "metadata": {
    "tags": []
   },
   "outputs": [
    {
     "data": {
      "text/plain": [
       "0       Yes\n",
       "8       Yes\n",
       "10      Yes\n",
       "12      Yes\n",
       "15      Yes\n",
       "       ... \n",
       "7031    Yes\n",
       "7038    Yes\n",
       "7039    Yes\n",
       "7040    Yes\n",
       "7041    Yes\n",
       "Name: Partner, Length: 3402, dtype: object"
      ]
     },
     "execution_count": 30,
     "metadata": {},
     "output_type": "execute_result"
    }
   ],
   "source": [
    "personal.query('Partner == \"Yes\"')['Partner']"
   ]
  },
  {
   "cell_type": "code",
   "execution_count": 31,
   "id": "7d701a8f-5a57-4da3-8fc3-c86bb2b32c19",
   "metadata": {
    "tags": []
   },
   "outputs": [
    {
     "name": "stdout",
     "output_type": "stream",
     "text": [
      "['Yes' 'No']\n"
     ]
    },
    {
     "data": {
      "text/plain": [
       "Text(0.5, 1.0, 'Семейный статус клиента')"
      ]
     },
     "execution_count": 31,
     "metadata": {},
     "output_type": "execute_result"
    },
    {
     "data": {
      "image/png": "[encoded data removed]",
      "text/plain": [
       "<Figure size 432x288 with 1 Axes>"
      ]
     },
     "metadata": {
      "needs_background": "light"
     },
     "output_type": "display_data"
    }
   ],
   "source": [
    "print(personal['Partner'].unique()) # аномальных значений нет\n",
    "\n",
    "personal.query('Partner == \"Yes\"')['Partner'].hist(bins=1)\n",
    "personal.query('Partner == \"No\"')['Partner'].hist(bins=1)\n",
    "plt.xlabel('Статус замужем/в браке')\n",
    "plt.ylabel('Количество пользователей')\n",
    "plt.title('Семейный статус клиента')"
   ]
  },
  {
   "cell_type": "code",
   "execution_count": 32,
   "id": "6e9f014e-8a6b-4af3-b768-2c7a383f0e51",
   "metadata": {
    "tags": []
   },
   "outputs": [
    {
     "name": "stdout",
     "output_type": "stream",
     "text": [
      "['No' 'Yes']\n"
     ]
    },
    {
     "data": {
      "text/plain": [
       "Text(0.5, 1.0, 'Есть ли иждивенцы в семье')"
      ]
     },
     "execution_count": 32,
     "metadata": {},
     "output_type": "execute_result"
    },
    {
     "data": {
      "image/png": "[encoded data removed]",
      "text/plain": [
       "<Figure size 432x288 with 1 Axes>"
      ]
     },
     "metadata": {
      "needs_background": "light"
     },
     "output_type": "display_data"
    }
   ],
   "source": [
    "print(personal['Dependents'].unique()) # аномальных значений нет\n",
    "\n",
    "personal.query('Dependents == \"Yes\"')['Dependents'].hist(bins=1)\n",
    "personal.query('Dependents == \"No\"')['Dependents'].hist(bins=1)\n",
    "plt.xlabel('Есть/нет иждивенцы')\n",
    "plt.ylabel('Количество семей с иждивенцами')\n",
    "plt.title('Есть ли иждивенцы в семье')"
   ]
  },
  {
   "cell_type": "markdown",
   "id": "760749c9-ea18-472c-856d-d5fd698652a2",
   "metadata": {
    "tags": []
   },
   "source": [
    "Предварительные выводы по таблице 3: \n",
    "\n",
    "Есть явные перекосы в столбцах SeniorCitizen и Dependents, скорее всего это будет выравнено в будущем при формировании обучающих выборок "
   ]
  },
  {
   "cell_type": "code",
   "execution_count": 33,
   "id": "9d0fbb43-6d50-4887-9930-8882dc5e2e47",
   "metadata": {
    "tags": []
   },
   "outputs": [
    {
     "name": "stdout",
     "output_type": "stream",
     "text": [
      "<class 'pandas.core.frame.DataFrame'>\n",
      "RangeIndex: 6361 entries, 0 to 6360\n",
      "Data columns (total 2 columns):\n",
      " #   Column         Non-Null Count  Dtype \n",
      "---  ------         --------------  ----- \n",
      " 0   customerID     6361 non-null   object\n",
      " 1   MultipleLines  6361 non-null   object\n",
      "dtypes: object(2)\n",
      "memory usage: 99.5+ KB\n"
     ]
    }
   ],
   "source": [
    "phone.info()"
   ]
  },
  {
   "cell_type": "code",
   "execution_count": 34,
   "id": "e47783de-5d2e-487c-a227-e1ed86f45863",
   "metadata": {
    "tags": []
   },
   "outputs": [
    {
     "data": {
      "text/html": [
       "<div>\n",
       "<style scoped>\n",
       "    .dataframe tbody tr th:only-of-type {\n",
       "        vertical-align: middle;\n",
       "    }\n",
       "\n",
       "    .dataframe tbody tr th {\n",
       "        vertical-align: top;\n",
       "    }\n",
       "\n",
       "    .dataframe thead th {\n",
       "        text-align: right;\n",
       "    }\n",
       "</style>\n",
       "<table border=\"1\" class=\"dataframe\">\n",
       "  <thead>\n",
       "    <tr style=\"text-align: right;\">\n",
       "      <th></th>\n",
       "      <th>customerID</th>\n",
       "      <th>MultipleLines</th>\n",
       "    </tr>\n",
       "  </thead>\n",
       "  <tbody>\n",
       "    <tr>\n",
       "      <th>0</th>\n",
       "      <td>5575-GNVDE</td>\n",
       "      <td>No</td>\n",
       "    </tr>\n",
       "    <tr>\n",
       "      <th>1</th>\n",
       "      <td>3668-QPYBK</td>\n",
       "      <td>No</td>\n",
       "    </tr>\n",
       "    <tr>\n",
       "      <th>2</th>\n",
       "      <td>9237-HQITU</td>\n",
       "      <td>No</td>\n",
       "    </tr>\n",
       "    <tr>\n",
       "      <th>3</th>\n",
       "      <td>9305-CDSKC</td>\n",
       "      <td>Yes</td>\n",
       "    </tr>\n",
       "    <tr>\n",
       "      <th>4</th>\n",
       "      <td>1452-KIOVK</td>\n",
       "      <td>Yes</td>\n",
       "    </tr>\n",
       "    <tr>\n",
       "      <th>...</th>\n",
       "      <td>...</td>\n",
       "      <td>...</td>\n",
       "    </tr>\n",
       "    <tr>\n",
       "      <th>6356</th>\n",
       "      <td>2569-WGERO</td>\n",
       "      <td>No</td>\n",
       "    </tr>\n",
       "    <tr>\n",
       "      <th>6357</th>\n",
       "      <td>6840-RESVB</td>\n",
       "      <td>Yes</td>\n",
       "    </tr>\n",
       "    <tr>\n",
       "      <th>6358</th>\n",
       "      <td>2234-XADUH</td>\n",
       "      <td>Yes</td>\n",
       "    </tr>\n",
       "    <tr>\n",
       "      <th>6359</th>\n",
       "      <td>8361-LTMKD</td>\n",
       "      <td>Yes</td>\n",
       "    </tr>\n",
       "    <tr>\n",
       "      <th>6360</th>\n",
       "      <td>3186-AJIEK</td>\n",
       "      <td>No</td>\n",
       "    </tr>\n",
       "  </tbody>\n",
       "</table>\n",
       "<p>6361 rows × 2 columns</p>\n",
       "</div>"
      ],
      "text/plain": [
       "      customerID MultipleLines\n",
       "0     5575-GNVDE            No\n",
       "1     3668-QPYBK            No\n",
       "2     9237-HQITU            No\n",
       "3     9305-CDSKC           Yes\n",
       "4     1452-KIOVK           Yes\n",
       "...          ...           ...\n",
       "6356  2569-WGERO            No\n",
       "6357  6840-RESVB           Yes\n",
       "6358  2234-XADUH           Yes\n",
       "6359  8361-LTMKD           Yes\n",
       "6360  3186-AJIEK            No\n",
       "\n",
       "[6361 rows x 2 columns]"
      ]
     },
     "execution_count": 34,
     "metadata": {},
     "output_type": "execute_result"
    }
   ],
   "source": [
    "phone"
   ]
  },
  {
   "cell_type": "code",
   "execution_count": 35,
   "id": "917e7a09-c384-45e9-b511-631998c38b29",
   "metadata": {
    "tags": []
   },
   "outputs": [
    {
     "name": "stdout",
     "output_type": "stream",
     "text": [
      "['No' 'Yes']\n"
     ]
    },
    {
     "data": {
      "text/plain": [
       "Text(0.5, 1.0, 'Услуга \"вторая линия')"
      ]
     },
     "execution_count": 35,
     "metadata": {},
     "output_type": "execute_result"
    },
    {
     "data": {
      "image/png": "[encoded data removed]",
      "text/plain": [
       "<Figure size 432x288 with 1 Axes>"
      ]
     },
     "metadata": {
      "needs_background": "light"
     },
     "output_type": "display_data"
    }
   ],
   "source": [
    "print(phone['MultipleLines'].unique()) # аномальных значений нет\n",
    "\n",
    "phone.query('MultipleLines == \"Yes\"')['MultipleLines'].hist(bins=1)\n",
    "phone.query('MultipleLines == \"No\"')['MultipleLines'].hist(bins=1)\n",
    "plt.xlabel('Есть/нет вторая линия')\n",
    "plt.ylabel('Количество пользователей')\n",
    "plt.title('Услуга \"вторая линия')\n"
   ]
  },
  {
   "cell_type": "markdown",
   "id": "41351a4c-b941-4363-ae5f-85bd8daf5a44",
   "metadata": {
    "tags": []
   },
   "source": [
    "### 2. Выводы по таблицам: \n",
    "\n",
    "Для получения максимального качества прогноза в будущем хорошо бы через команду merge склеить таблицы в одну;  \n",
    "\n",
    "(пример: contract.merge(internet, on = ['customerID'], how='outer')). \n",
    "\n",
    "Количество значений в таблицах internet и phone не совпадает с общим количеством значений, в связи с чем предполагаю следующее развитие событий:\n",
    "\n",
    "Таблица phones содержит только такой показатель как MultipleLines, можем предположить, что внутри компании известно, кому она подключена, а кому нет, поэтому недостающие значения будем заполнять как 'No' по-умолчанию. \n",
    "\n",
    "Таблица internet содержит большое количество признаков, однако работать предполагаю по тому же принципу, что и с таблицей phones: если в таблице internet отсутствует положительное значение для каждого конкретного ID, то по-умолчанию считаем, что интернет для него не подключен и Nan в смерженной таблице заполняется так же значением 'No'."
   ]
  },
  {
   "cell_type": "markdown",
   "id": "da721630-1b9c-451c-9351-cd0284e4d667",
   "metadata": {
    "tags": []
   },
   "source": [
    "### 3. План работы: "
   ]
  },
  {
   "cell_type": "markdown",
   "id": "96782ac6-ebe1-46e7-9fc1-f41837847e0b",
   "metadata": {
    "tags": []
   },
   "source": [
    "1. Составление единой таблицы признаков через команду merge;\n",
    "        1.1 Заполнение пропусков через fillna('No') по столбцам где это требуется;\n",
    "        1.2 Изменение типов данных на категории, чтобы модели могли с ними работать;\n",
    "        1.3 Работа с другими столбцами - изменение формата дат, удаление дат из столбца EndDate и замена на Yes (чтобы опять же привести к категории). Сюда же, расширенный анализ данных, поиск возможных выбросов по тратам и прочим количественным показателям;\n",
    "        1.4 Людей, которые зарегистрировались в феврале 2020г - либо удалить, либо заполнить столбец TotalCharges значением из MonthlyCharges - зависит от того, сколько данных есть по этим 11 user ID, если они окажутся полезными - можем использовать в обучении, если по ним нет большого числа признаков - проще удалить; \n",
    "        1.5 Проверить корреляцию признаков, есть ли она между признаками;\n",
    "2. Разделение таблицы на обучающую-валидационную-тестовую выборки и на таблицу признаков-ответов. Целевой показатель - факт ухода клиента.\n",
    "        2.1 Так как по целевому признаку у нас явный перекос в сторону тех, кто остался, проведем апсемплинг данных чтобы разрыв у положительных-отрицательных \"ответов\" не был таким большим; если произойдет переобучение - убрать;\n",
    "        2.2 По итогам поиска корелляции принять решение об удалении каких-то признаков, если такое потребуется; \n",
    "3. Метрики качества планирую использовать accuracy_score (для себя) и AUC-ROC (как итоговую метрику). "
   ]
  },
  {
   "cell_type": "markdown",
   "id": "fde17aed-d08f-4a05-bdb0-aa61fa9ab9e0",
   "metadata": {
    "tags": []
   },
   "source": [
    "### 4. Работа с таблицами по объединению и предобработке данных; расчет моделей."
   ]
  },
  {
   "cell_type": "markdown",
   "id": "c211c312-7f40-464c-a234-efa6b13b5930",
   "metadata": {
    "tags": []
   },
   "source": [
    "#### 4.1 Предобработка для моделей без градиентного бустинга"
   ]
  },
  {
   "cell_type": "markdown",
   "id": "310cdbe6-3290-4b39-b168-ef736ec4a898",
   "metadata": {
    "tags": []
   },
   "source": [
    "Соединяем отдельные таблицы в одну:"
   ]
  },
  {
   "cell_type": "code",
   "execution_count": 36,
   "id": "3ea72fae-c2fa-42a1-8602-64b93c306898",
   "metadata": {
    "tags": []
   },
   "outputs": [],
   "source": [
    "df = contract.merge(internet, on = ['customerID'], how='outer')\n",
    "df = df.merge(personal, on = ['customerID'], how='outer')\n",
    "df = df.merge(phone, on = ['customerID'], how='outer')"
   ]
  },
  {
   "cell_type": "markdown",
   "id": "05bf5944-cdb6-48fa-8145-dfe7923ededd",
   "metadata": {},
   "source": [
    "Проверим как отработались пропуски при склейке: видим nan как третий тип значения, их и будем заменять"
   ]
  },
  {
   "cell_type": "code",
   "execution_count": 37,
   "id": "9b20c33e-c15a-4ce9-b2a9-f5557610469f",
   "metadata": {
    "tags": []
   },
   "outputs": [
    {
     "data": {
      "text/plain": [
       "array(['No', 'Yes', nan], dtype=object)"
      ]
     },
     "execution_count": 37,
     "metadata": {},
     "output_type": "execute_result"
    }
   ],
   "source": [
    "df['TechSupport'].unique()"
   ]
  },
  {
   "cell_type": "markdown",
   "id": "6caa5bbb-051e-4a6b-ac4d-757dd17ef506",
   "metadata": {},
   "source": [
    "Осмотрим качество склейки и количество пропусков:"
   ]
  },
  {
   "cell_type": "code",
   "execution_count": 38,
   "id": "df3f5191-6179-4f34-acaa-57074bde1442",
   "metadata": {
    "tags": []
   },
   "outputs": [
    {
     "name": "stdout",
     "output_type": "stream",
     "text": [
      "<class 'pandas.core.frame.DataFrame'>\n",
      "Int64Index: 7043 entries, 0 to 7042\n",
      "Data columns (total 20 columns):\n",
      " #   Column            Non-Null Count  Dtype  \n",
      "---  ------            --------------  -----  \n",
      " 0   customerID        7043 non-null   object \n",
      " 1   BeginDate         7043 non-null   object \n",
      " 2   EndDate           7043 non-null   object \n",
      " 3   Type              7043 non-null   object \n",
      " 4   PaperlessBilling  7043 non-null   object \n",
      " 5   PaymentMethod     7043 non-null   object \n",
      " 6   MonthlyCharges    7043 non-null   float64\n",
      " 7   TotalCharges      7043 non-null   object \n",
      " 8   InternetService   5517 non-null   object \n",
      " 9   OnlineSecurity    5517 non-null   object \n",
      " 10  OnlineBackup      5517 non-null   object \n",
      " 11  DeviceProtection  5517 non-null   object \n",
      " 12  TechSupport       5517 non-null   object \n",
      " 13  StreamingTV       5517 non-null   object \n",
      " 14  StreamingMovies   5517 non-null   object \n",
      " 15  gender            7043 non-null   object \n",
      " 16  SeniorCitizen     7043 non-null   int64  \n",
      " 17  Partner           7043 non-null   object \n",
      " 18  Dependents        7043 non-null   object \n",
      " 19  MultipleLines     6361 non-null   object \n",
      "dtypes: float64(1), int64(1), object(18)\n",
      "memory usage: 1.1+ MB\n"
     ]
    }
   ],
   "source": [
    "df.info()"
   ]
  },
  {
   "cell_type": "markdown",
   "id": "8030a766-5088-4da5-a402-f6cee69a6c70",
   "metadata": {},
   "source": [
    "столбец InternetService заполним тремя категориями: DSL, Fiberoptic и No для тех, у кого интернета нет.\n",
    "\n",
    "\n",
    "столбец MultipleLines заполняем значением No\n",
    "\n",
    "\n",
    "список столбцов которые заполняются значением No: OnlineSecurity\tOnlineBackup\tDeviceProtection\tTechSupport\tStreamingTV\tStreamingMovies MultipleLines"
   ]
  },
  {
   "cell_type": "markdown",
   "id": "a3ebefdd-a8db-4fc4-9e21-bbeef9a5468d",
   "metadata": {},
   "source": [
    "Проверка как все получилось:"
   ]
  },
  {
   "cell_type": "code",
   "execution_count": 39,
   "id": "c00663e8-c4d5-48e6-b419-af2043378651",
   "metadata": {
    "tags": []
   },
   "outputs": [
    {
     "data": {
      "text/plain": [
       "array(['DSL', 'Fiber optic', nan], dtype=object)"
      ]
     },
     "execution_count": 39,
     "metadata": {},
     "output_type": "execute_result"
    }
   ],
   "source": [
    "df['InternetService'].unique()"
   ]
  },
  {
   "cell_type": "markdown",
   "id": "1747c009-0d04-4e77-bda3-c35475780d07",
   "metadata": {},
   "source": [
    "Заполняем пропуски в столбцах:"
   ]
  },
  {
   "cell_type": "code",
   "execution_count": 40,
   "id": "de5430ff-c601-4cc7-8729-613c98cd2d4d",
   "metadata": {},
   "outputs": [],
   "source": [
    "df[['OnlineSecurity', 'OnlineBackup'\n",
    "    , 'DeviceProtection', 'TechSupport', 'StreamingTV'\n",
    "    , 'StreamingMovies', 'MultipleLines', 'InternetService']] = df[['OnlineSecurity', 'OnlineBackup', 'DeviceProtection'\n",
    "                                                 , 'TechSupport', 'StreamingTV'\n",
    "                                                 , 'StreamingMovies', 'MultipleLines', 'InternetService']].fillna('No')"
   ]
  },
  {
   "cell_type": "code",
   "execution_count": 41,
   "id": "6f653fdb-c279-4aff-8662-82270e8f5aef",
   "metadata": {
    "tags": []
   },
   "outputs": [
    {
     "name": "stdout",
     "output_type": "stream",
     "text": [
      "['No' 'Yes']\n",
      "['No' 'Yes']\n"
     ]
    }
   ],
   "source": [
    "print(df['TechSupport'].unique()) # проверка что все получилось\n",
    "print(df['StreamingTV'].unique())"
   ]
  },
  {
   "cell_type": "markdown",
   "id": "9072f741-1ab5-44c9-a2d6-6f752cdc41e6",
   "metadata": {
    "tags": []
   },
   "source": [
    "Столбец EndDate - наш целевой признак, даты стоит отдельно сохранить для будущих исследований, а сами значения заполнить значением \"yes\" чтобы нормально обучить модель:"
   ]
  },
  {
   "cell_type": "markdown",
   "id": "cd6dce97-2860-4c9d-a50d-310e5aee225c",
   "metadata": {
    "tags": []
   },
   "source": [
    "Сохраним данные по завершенным контрактам и проведем небольшой анализ: "
   ]
  },
  {
   "cell_type": "code",
   "execution_count": 42,
   "id": "185b2c4a-3e37-406a-9244-cfc2c0c35c1c",
   "metadata": {},
   "outputs": [],
   "source": [
    "end_date_df = df.query('EndDate != \"No\"')"
   ]
  },
  {
   "cell_type": "code",
   "execution_count": 43,
   "id": "a8f49c04-51cd-47f5-82a6-ba4961f90925",
   "metadata": {
    "tags": []
   },
   "outputs": [
    {
     "name": "stderr",
     "output_type": "stream",
     "text": [
      "/var/folders/vr/wml9hs7s5wzchnjvgzn6ddjc0000gn/T/ipykernel_29622/372664319.py:1: SettingWithCopyWarning: \n",
      "A value is trying to be set on a copy of a slice from a DataFrame.\n",
      "Try using .loc[row_indexer,col_indexer] = value instead\n",
      "\n",
      "See the caveats in the documentation: https://pandas.pydata.org/pandas-docs/stable/user_guide/indexing.html#returning-a-view-versus-a-copy\n",
      "  end_date_df['BeginDate'] = pd.to_datetime(end_date_df['BeginDate'], format='%Y-%m-%d')\n",
      "/var/folders/vr/wml9hs7s5wzchnjvgzn6ddjc0000gn/T/ipykernel_29622/372664319.py:2: SettingWithCopyWarning: \n",
      "A value is trying to be set on a copy of a slice from a DataFrame.\n",
      "Try using .loc[row_indexer,col_indexer] = value instead\n",
      "\n",
      "See the caveats in the documentation: https://pandas.pydata.org/pandas-docs/stable/user_guide/indexing.html#returning-a-view-versus-a-copy\n",
      "  end_date_df['EndDate'] = pd.to_datetime(end_date_df['EndDate'], format='%Y-%m-%d')\n"
     ]
    }
   ],
   "source": [
    "end_date_df['BeginDate'] = pd.to_datetime(end_date_df['BeginDate'], format='%Y-%m-%d')\n",
    "end_date_df['EndDate'] = pd.to_datetime(end_date_df['EndDate'], format='%Y-%m-%d')"
   ]
  },
  {
   "cell_type": "markdown",
   "id": "4e91dfdc-50bd-4e11-bc4f-f33f86d7d11c",
   "metadata": {},
   "source": [
    "Создадим столбик с длиной контракта в днях:"
   ]
  },
  {
   "cell_type": "code",
   "execution_count": 44,
   "id": "4c0ea7eb-890f-4999-8bec-2e5f347ea191",
   "metadata": {
    "tags": []
   },
   "outputs": [
    {
     "name": "stderr",
     "output_type": "stream",
     "text": [
      "/var/folders/vr/wml9hs7s5wzchnjvgzn6ddjc0000gn/T/ipykernel_29622/2393779294.py:1: SettingWithCopyWarning: \n",
      "A value is trying to be set on a copy of a slice from a DataFrame.\n",
      "Try using .loc[row_indexer,col_indexer] = value instead\n",
      "\n",
      "See the caveats in the documentation: https://pandas.pydata.org/pandas-docs/stable/user_guide/indexing.html#returning-a-view-versus-a-copy\n",
      "  end_date_df['long_contract'] = end_date_df['EndDate'] - end_date_df['BeginDate']\n"
     ]
    }
   ],
   "source": [
    "end_date_df['long_contract'] = end_date_df['EndDate'] - end_date_df['BeginDate'] "
   ]
  },
  {
   "cell_type": "markdown",
   "id": "7912b330-ccbc-44aa-9adf-1c2eb5014d36",
   "metadata": {},
   "source": [
    "Оценим распределение данных через describe "
   ]
  },
  {
   "cell_type": "code",
   "execution_count": 45,
   "id": "6d0f27f2-6f2e-4caf-be58-84e98ebbbd1f",
   "metadata": {},
   "outputs": [
    {
     "data": {
      "text/plain": [
       "count                           1869\n",
       "mean     547 days 08:26:57.977528088\n",
       "std      594 days 09:21:02.012639248\n",
       "min                 30 days 00:00:00\n",
       "25%                 61 days 00:00:00\n",
       "50%                304 days 00:00:00\n",
       "75%                883 days 00:00:00\n",
       "max               2191 days 00:00:00\n",
       "Name: long_contract, dtype: object"
      ]
     },
     "execution_count": 45,
     "metadata": {},
     "output_type": "execute_result"
    }
   ],
   "source": [
    "end_date_df['long_contract'].describe()"
   ]
  },
  {
   "cell_type": "markdown",
   "id": "9540832e-177b-49f0-a221-a1397be4e8d7",
   "metadata": {},
   "source": [
    "Видим что медиана/среднее находятся рядом, но вот максимум очень сильно удален от третьего квартиля, строим ящик с усами, чтобы понять как распределены значения на графике:"
   ]
  },
  {
   "cell_type": "code",
   "execution_count": 46,
   "id": "eea9a2eb-ec07-4f6d-b0a9-528d3e891d0f",
   "metadata": {},
   "outputs": [
    {
     "data": {
      "text/plain": [
       "<AxesSubplot:>"
      ]
     },
     "execution_count": 46,
     "metadata": {},
     "output_type": "execute_result"
    },
    {
     "data": {
      "image/png": "[encoded data removed]",
      "text/plain": [
       "<Figure size 432x288 with 1 Axes>"
      ]
     },
     "metadata": {
      "needs_background": "light"
     },
     "output_type": "display_data"
    }
   ],
   "source": [
    "end_date_df['long_contract'].dt.days.reset_index().boxplot(column=['long_contract']) "
   ]
  },
  {
   "cell_type": "markdown",
   "id": "35350273-f552-4418-8228-b9542eee8d77",
   "metadata": {},
   "source": [
    "Оценим количество значений больше 1000 дней: "
   ]
  },
  {
   "cell_type": "code",
   "execution_count": 47,
   "id": "83c2c8c9-0674-46be-8576-d23dd7b8df99",
   "metadata": {},
   "outputs": [
    {
     "name": "stdout",
     "output_type": "stream",
     "text": [
      "Количество расторгнутых контактов сроком до 1000 дней: 1460\n",
      "Количество расторгнутых контактов сроком свыше 1000 дней: 409\n",
      "Количество расторгнутых контактов сроком свыше 1000 дней: 63\n"
     ]
    }
   ],
   "source": [
    "print('Количество расторгнутых контактов сроком до 1000 дней:', end_date_df['long_contract'].dt.days.reset_index().query('long_contract < 1000')['long_contract'].count())\n",
    "print('Количество расторгнутых контактов сроком свыше 1000 дней:', end_date_df['long_contract'].dt.days.reset_index().query('long_contract > 1000')['long_contract'].count())\n",
    "print('Количество расторгнутых контактов сроком свыше 1000 дней:', end_date_df['long_contract'].dt.days.reset_index().query('long_contract > 2000')['long_contract'].count())"
   ]
  },
  {
   "cell_type": "markdown",
   "id": "4a53607e-ed2b-469f-bc27-89ddee0aab4a",
   "metadata": {},
   "source": [
    "По графику видим что нижний/верхний квартили лежат в промежутке от ~50 до ~900 дней. Так же есть небольшое количество выбросов свыше примерно 2100 дней. Это же подтверждают цифры - выше 2000 всего 63 значения, в то время как больше 1000 - 409. "
   ]
  },
  {
   "cell_type": "markdown",
   "id": "7f33a709-1892-44c5-a49f-fc42a2aa6bbc",
   "metadata": {},
   "source": [
    "Заполняем даты словом Yes:"
   ]
  },
  {
   "cell_type": "code",
   "execution_count": 48,
   "id": "673fe122-f93d-4c3e-a905-4282b39a9a6f",
   "metadata": {},
   "outputs": [],
   "source": [
    "df.loc[(df['EndDate'] != \"No\"), 'EndDate'] = \"Yes\""
   ]
  },
  {
   "cell_type": "markdown",
   "id": "658facad-ed63-4bfb-b12a-7aa1f68e70a6",
   "metadata": {},
   "source": [
    "Кодируем данные чтобы модель их понимала:"
   ]
  },
  {
   "cell_type": "code",
   "execution_count": 49,
   "id": "f6e08e7f-ea03-4404-a522-978cac5d59df",
   "metadata": {},
   "outputs": [],
   "source": [
    "df.loc[(df['EndDate'] == \"No\"), 'EndDate'] = 0\n",
    "df.loc[(df['EndDate'] == \"Yes\"), 'EndDate'] = 1\n",
    "df['EndDate'] = df['EndDate'].astype('int64')"
   ]
  },
  {
   "cell_type": "markdown",
   "id": "5b7beb34-f32d-4eb2-8031-a18d0aeb36de",
   "metadata": {},
   "source": [
    "Удаляем ячейки с пользователями, зарегистрированными в феврале 2020г, чтобы избежать заполнения ячеек в стоблце TotalCharges возможно некорретными данными."
   ]
  },
  {
   "cell_type": "code",
   "execution_count": 50,
   "id": "a23254ef-12f9-4c3e-aaba-3612f235f3e7",
   "metadata": {},
   "outputs": [],
   "source": [
    "df = df.drop(df.query('TotalCharges < \"1\"').index, axis=0)"
   ]
  },
  {
   "cell_type": "markdown",
   "id": "815fe665-f86c-44bf-9817-9b80dba297cf",
   "metadata": {},
   "source": [
    "Сформируем перечень столбцов-категорий для кодирования. "
   ]
  },
  {
   "cell_type": "code",
   "execution_count": 52,
   "id": "6042a33f-1b1e-4593-89a9-9ed126c03544",
   "metadata": {},
   "outputs": [
    {
     "name": "stdout",
     "output_type": "stream",
     "text": [
      "(5274, 17) (5274,)\n",
      "(1758, 17) (1758,)\n"
     ]
    }
   ],
   "source": [
    "# отделяем признаки от ответов\n",
    "\n",
    "x = df.drop(['EndDate', 'BeginDate', 'customerID'], axis=1)\n",
    "y = df['EndDate']\n",
    "\n",
    "# разбиваем на выборки:\n",
    "xf_train, xf_test, yf_train, yf_test = train_test_split(x,y, test_size=0.25, random_state=120922)\n",
    "\n",
    "# проверка размерностей\n",
    "print(xf_train.shape, yf_train.shape)\n",
    "print(xf_test.shape, yf_test.shape)"
   ]
  },
  {
   "cell_type": "markdown",
   "id": "ce801f39-8176-426f-bcdc-5584501691bd",
   "metadata": {},
   "source": [
    "Кодируем данные энкодером:"
   ]
  },
  {
   "cell_type": "code",
   "execution_count": 53,
   "id": "64e1f156-e4ee-48dc-b929-a4fe9402b616",
   "metadata": {
    "tags": []
   },
   "outputs": [],
   "source": [
    "col_list_categ = ['PaperlessBilling', 'OnlineSecurity'\n",
    ", 'OnlineBackup', 'DeviceProtection', 'TechSupport'\n",
    ", 'StreamingTV', 'StreamingMovies', 'Partner'\n",
    ", 'Dependents', 'MultipleLines', 'InternetService', 'gender', 'Type', 'PaymentMethod']\n",
    "\n",
    "enc = OrdinalEncoder()\n",
    "enc.fit(xf_train[col_list_categ])\n",
    "xf_train[col_list_categ] = enc.transform(xf_train[col_list_categ])\n",
    "xf_test[col_list_categ] = enc.transform(xf_test[col_list_categ])"
   ]
  },
  {
   "cell_type": "markdown",
   "id": "288c58da-2afd-476e-a7b0-f284b02c90a9",
   "metadata": {},
   "source": [
    "Масштабируем данные:"
   ]
  },
  {
   "cell_type": "code",
   "execution_count": 54,
   "id": "238fafc9-1311-41d0-af39-222d8222a9ee",
   "metadata": {
    "tags": []
   },
   "outputs": [],
   "source": [
    "numeric = ['MonthlyCharges', 'TotalCharges']\n",
    "scaler = StandardScaler()\n",
    "scaler.fit(xf_train[numeric])\n",
    "xf_train[numeric] = scaler.transform(xf_train[numeric])\n",
    "xf_test[numeric] = scaler.transform(xf_test[numeric])\n",
    "pd.options.mode.chained_assignment = None"
   ]
  },
  {
   "cell_type": "markdown",
   "id": "6b021d11-4e47-4fb1-8389-a74ba3586057",
   "metadata": {},
   "source": [
    "#### 4.2 Обучение и оценка моделей. Решающее дерево"
   ]
  },
  {
   "cell_type": "markdown",
   "id": "03e03b52-9792-40c6-9a33-d0c7dbe4f388",
   "metadata": {
    "tags": []
   },
   "source": [
    "Создадим словарик для хранения результатов работы моделей и последующего отбора лучшей по метрике качества:"
   ]
  },
  {
   "cell_type": "code",
   "execution_count": 55,
   "id": "1d9ece1e-c63b-4d4e-98fd-e8f273da5c11",
   "metadata": {},
   "outputs": [],
   "source": [
    "result = {}"
   ]
  },
  {
   "cell_type": "markdown",
   "id": "336306a3-6909-419a-b61a-baaca9985bf4",
   "metadata": {},
   "source": [
    "Отберем лучшие параметры для модели:"
   ]
  },
  {
   "cell_type": "code",
   "execution_count": 56,
   "id": "12b81337-33ac-4cf6-9ab4-b99f4f2b1853",
   "metadata": {
    "tags": []
   },
   "outputs": [
    {
     "data": {
      "text/plain": [
       "{'max_depth': 5}"
      ]
     },
     "execution_count": 56,
     "metadata": {},
     "output_type": "execute_result"
    }
   ],
   "source": [
    "model_dt = DecisionTreeClassifier()\n",
    "\n",
    "parameters = { \n",
    "            \"max_depth\": range(1,10)\n",
    "}\n",
    "grid = GridSearchCV(model_dt, parameters, cv=10, scoring='roc_auc') # добавлен скоринг по roc-auc\n",
    "grid.fit(xf_train, yf_train)\n",
    "grid.best_params_"
   ]
  },
  {
   "cell_type": "code",
   "execution_count": 57,
   "id": "6d741459-47af-49cb-8fa9-34127f619f28",
   "metadata": {},
   "outputs": [
    {
     "data": {
      "text/plain": [
       "DecisionTreeClassifier(class_weight='balanced', max_depth=5,\n",
       "                       random_state=120922)"
      ]
     },
     "execution_count": 57,
     "metadata": {},
     "output_type": "execute_result"
    }
   ],
   "source": [
    "model_dt = DecisionTreeClassifier(max_depth=grid.best_params_['max_depth'], class_weight='balanced', random_state = 120922)\n",
    "model_dt.fit(xf_train, yf_train)"
   ]
  },
  {
   "cell_type": "markdown",
   "id": "2c8ba5e8-7e21-4b62-9bc7-dc65ce938e98",
   "metadata": {},
   "source": [
    "Расчет accuracy и средней точности модели:"
   ]
  },
  {
   "cell_type": "code",
   "execution_count": 58,
   "id": "ea373a63-e417-4ef2-99b0-9fe7c09a5cc4",
   "metadata": {
    "tags": []
   },
   "outputs": [
    {
     "name": "stdout",
     "output_type": "stream",
     "text": [
      "Средняя точность DecisionTreeClassifier на метрике roc_auc: 0.8190106087035239\n"
     ]
    }
   ],
   "source": [
    "scores = cross_val_score(model_dt, xf_train, yf_train, cv=10, scoring='roc_auc')\n",
    "final_score_model_dt = scores.mean()\n",
    "print('Средняя точность DecisionTreeClassifier на метрике roc_auc:', final_score_model_dt)\n",
    "result['DecisionTreeClassifier'] = final_score_model_dt # записываем значения в словарик"
   ]
  },
  {
   "cell_type": "markdown",
   "id": "65dba99a-30aa-44af-b6a3-d19f946c8397",
   "metadata": {},
   "source": [
    "#### 4.3 Обучение и оценка моделей. Случайный лес"
   ]
  },
  {
   "cell_type": "markdown",
   "id": "659712c6-1007-4288-bc73-ed55d78f47c2",
   "metadata": {},
   "source": [
    "Как и в прошлый раз, через грид ищем лучшие параметры:"
   ]
  },
  {
   "cell_type": "code",
   "execution_count": 59,
   "id": "960df747-cfd2-4db4-ad8c-05a87757008e",
   "metadata": {},
   "outputs": [
    {
     "data": {
      "text/plain": [
       "GridSearchCV(cv=10, estimator=RandomForestClassifier(),\n",
       "             param_grid={'max_depth': range(1, 11),\n",
       "                         'n_estimators': range(1, 11)},\n",
       "             scoring='roc_auc')"
      ]
     },
     "execution_count": 59,
     "metadata": {},
     "output_type": "execute_result"
    }
   ],
   "source": [
    "model_rf = RandomForestClassifier()\n",
    "\n",
    "parameters = { \"n_estimators\" : range(1,11),\n",
    "            \"max_depth\": range(1,11)\n",
    "}\n",
    "grid = GridSearchCV(model_rf, parameters, cv=10, scoring='roc_auc') # перезаписываем грид, он нам дальше не будет нужен\n",
    "grid.fit(xf_train, yf_train)"
   ]
  },
  {
   "cell_type": "code",
   "execution_count": 61,
   "id": "8d4b221d-6d4a-4c39-9da2-c6e98de3f9db",
   "metadata": {
    "tags": []
   },
   "outputs": [
    {
     "name": "stdout",
     "output_type": "stream",
     "text": [
      "Средняя точность RandomForestClassifier на метрике roc_auc: 0.8385133537615307\n"
     ]
    }
   ],
   "source": [
    "model_rf = grid.best_estimator_\n",
    "scores = cross_val_score(model_rf, xf_train, yf_train, cv=10, scoring='roc_auc')\n",
    "final_score_model_rf = scores.mean()\n",
    "print('Средняя точность RandomForestClassifier на метрике roc_auc:', final_score_model_rf)\n",
    "result['RandomForestClassifier'] = final_score_model_rf"
   ]
  },
  {
   "cell_type": "markdown",
   "id": "62679228-49d3-46c9-9b30-5100095cb3b8",
   "metadata": {},
   "source": [
    "#### 4.4 Предобработка для моделей с градиентным бустингом"
   ]
  },
  {
   "cell_type": "markdown",
   "id": "ac1f8508-2654-4fb0-9cfe-5dbae31014fe",
   "metadata": {},
   "source": [
    "Создадим копию исходного датафрейма. Нужно для корректной обработки данных для моделей с градиентным бустингом.\n",
    "\n"
   ]
  },
  {
   "cell_type": "code",
   "execution_count": 62,
   "id": "0b50d2aa-2be9-41ef-a427-ebcbff04f0fa",
   "metadata": {},
   "outputs": [],
   "source": [
    "ds = contract.merge(internet, on = ['customerID'], how='outer')\n",
    "ds = ds.merge(personal, on = ['customerID'], how='outer')\n",
    "ds = ds.merge(phone, on = ['customerID'], how='outer')"
   ]
  },
  {
   "cell_type": "code",
   "execution_count": 63,
   "id": "a4dd55aa-7ba4-43c1-acd8-ceb3ad029f3e",
   "metadata": {
    "tags": []
   },
   "outputs": [
    {
     "data": {
      "text/plain": [
       "array(['No', 'Yes', nan], dtype=object)"
      ]
     },
     "execution_count": 63,
     "metadata": {},
     "output_type": "execute_result"
    }
   ],
   "source": [
    "ds['TechSupport'].unique() "
   ]
  },
  {
   "cell_type": "markdown",
   "id": "2dfa395b-078e-4603-8bb4-1b15153be1d5",
   "metadata": {
    "tags": []
   },
   "source": [
    "Видим 'nan' как третий тип значения, их и будем заменять"
   ]
  },
  {
   "cell_type": "markdown",
   "id": "2ea7de63-838a-4d65-908d-663e4d9006a8",
   "metadata": {
    "tags": []
   },
   "source": [
    "Заполним текстом 'No' все образовавшиеся от склейки пропуски (как в части про простые модели):"
   ]
  },
  {
   "cell_type": "code",
   "execution_count": 64,
   "id": "1e64207f-9004-48ea-80de-7b519d9eb8d0",
   "metadata": {
    "tags": []
   },
   "outputs": [],
   "source": [
    "ds[['OnlineSecurity', 'OnlineBackup'\n",
    "    , 'DeviceProtection', 'TechSupport'\n",
    "    , 'StreamingTV', 'StreamingMovies'\n",
    "    , 'MultipleLines', 'InternetService']] = ds[['OnlineSecurity', 'OnlineBackup'\n",
    "                              , 'DeviceProtection', 'TechSupport'\n",
    "                              , 'StreamingTV', 'StreamingMovies', 'MultipleLines', 'InternetService']].fillna('No')"
   ]
  },
  {
   "cell_type": "markdown",
   "id": "006ad76e-9149-426f-a339-c312b1a2c91e",
   "metadata": {},
   "source": [
    "Удаляем столбец user ID, он не является признаком и не нужен в работе модели"
   ]
  },
  {
   "cell_type": "code",
   "execution_count": 65,
   "id": "1ec31636-a505-4535-a514-76ad6c0d7f97",
   "metadata": {},
   "outputs": [],
   "source": [
    "ds = ds.drop(['customerID'], axis=1) "
   ]
  },
  {
   "cell_type": "markdown",
   "id": "d3f1c339-fc2f-463c-9c62-8d77dc867bfa",
   "metadata": {},
   "source": [
    "Меняем формат даты"
   ]
  },
  {
   "cell_type": "code",
   "execution_count": 66,
   "id": "78e1056d-3b9a-4d52-bfe8-0508a2eec1da",
   "metadata": {},
   "outputs": [],
   "source": [
    "ds['BeginDate'] = pd.to_datetime(ds['BeginDate'], format='%Y-%m-%d')"
   ]
  },
  {
   "cell_type": "markdown",
   "id": "8dc1aef1-8aaf-4645-a14a-34b2a58db608",
   "metadata": {},
   "source": [
    "Форматируем даты столбца EndDate в категориальный признак:"
   ]
  },
  {
   "cell_type": "code",
   "execution_count": 67,
   "id": "03da552c-cd92-4cd7-a076-aacaafac9aee",
   "metadata": {},
   "outputs": [],
   "source": [
    "ds.loc[(ds['EndDate'] != \"No\"), 'EndDate'] = \"Yes\""
   ]
  },
  {
   "cell_type": "code",
   "execution_count": 68,
   "id": "3dd2eee1-e6d4-4af0-8656-43e103c4db84",
   "metadata": {},
   "outputs": [],
   "source": [
    "# кодируем и конвертируем данные столбца EndDate\n",
    "# если этого не сделать, то не будет работать catboost и не будет корректно строиться график AUC-ROC - ему нужны числовые значения\n",
    "ds.loc[(ds['EndDate'] == \"No\"), 'EndDate'] = 0\n",
    "ds.loc[(ds['EndDate'] == \"Yes\"), 'EndDate'] = 1\n",
    "ds['EndDate'] = ds['EndDate'].astype('int64')"
   ]
  },
  {
   "cell_type": "markdown",
   "id": "e3bce12a-b175-4e56-aeb8-977b59946d2c",
   "metadata": {},
   "source": [
    "Создаем список колонок для трансформации:"
   ]
  },
  {
   "cell_type": "code",
   "execution_count": 69,
   "id": "28afe1e8-e7c8-44aa-a3c0-b1a517fe982a",
   "metadata": {
    "tags": []
   },
   "outputs": [],
   "source": [
    "# EndDate не добавляем, иначе не работает catboost\n",
    "col_list = ['OnlineSecurity', 'OnlineBackup'\n",
    "            , 'DeviceProtection', 'TechSupport'\n",
    "            , 'StreamingTV', 'StreamingMovies'\n",
    "            , 'MultipleLines', 'PaperlessBilling'\n",
    "            , 'gender', 'Partner'\n",
    "            , 'Dependents', 'Type'\n",
    "            , 'PaymentMethod', 'InternetService', 'SeniorCitizen']"
   ]
  },
  {
   "cell_type": "markdown",
   "id": "00825734-3ccb-4a04-bb76-873580c82151",
   "metadata": {},
   "source": [
    "Создаем список столбцов-категорий:"
   ]
  },
  {
   "cell_type": "code",
   "execution_count": 70,
   "id": "821a32b6-1fcc-43a3-932e-ac69b3abdb07",
   "metadata": {},
   "outputs": [],
   "source": [
    "ds[col_list] = ds[col_list].astype('category')"
   ]
  },
  {
   "cell_type": "markdown",
   "id": "675bf617-3b37-4760-b97a-a9211dd35827",
   "metadata": {},
   "source": [
    "Удалим строки с регистрациями в февраля 2020 года, конвертируем столбец TotalCharges: "
   ]
  },
  {
   "cell_type": "code",
   "execution_count": 71,
   "id": "9218eb2c-7d55-49b3-a065-4029e296303d",
   "metadata": {},
   "outputs": [],
   "source": [
    "ds = ds.drop(ds.query('TotalCharges < \"1\"').index, axis=0)\n",
    "ds['TotalCharges'] = ds['TotalCharges'].astype('float64')"
   ]
  },
  {
   "cell_type": "markdown",
   "id": "b4769c84-1461-4807-8164-a39d838a4e55",
   "metadata": {},
   "source": [
    "Создаем тренировочные-тестовые выборки: "
   ]
  },
  {
   "cell_type": "code",
   "execution_count": 73,
   "id": "8c29f84d-6c39-4607-9c2c-3f99e84018fd",
   "metadata": {},
   "outputs": [
    {
     "name": "stdout",
     "output_type": "stream",
     "text": [
      "Проверка размерностей:\n",
      "(5274, 17) (5274,)\n",
      "(1758, 17) (1758,)\n"
     ]
    }
   ],
   "source": [
    "# удаляем столбец BeginDate как ненужный\n",
    "x = ds.drop(['EndDate', 'BeginDate'], axis=1)\n",
    "y = ds['EndDate']\n",
    "\n",
    "# разбиваем на выборки:\n",
    "x_train, x_test, y_train, y_test = train_test_split(x,y, test_size=0.25, random_state=120922)\n",
    "\n",
    "print('Проверка размерностей:')\n",
    "print(x_train.shape, y_train.shape)\n",
    "print(x_test.shape, y_test.shape)"
   ]
  },
  {
   "cell_type": "markdown",
   "id": "d21d3bf9-fa3f-4d4a-83b5-cfcf5635014d",
   "metadata": {},
   "source": [
    "Масштабируем данные:\n",
    "\n"
   ]
  },
  {
   "cell_type": "code",
   "execution_count": 74,
   "id": "a2faab95-2218-4b5a-8aba-812591ed8cb4",
   "metadata": {},
   "outputs": [],
   "source": [
    "numeric = ['MonthlyCharges', 'TotalCharges']\n",
    "scaler = StandardScaler()\n",
    "scaler.fit(x_train[numeric])\n",
    "x_train[numeric] = scaler.transform(x_train[numeric])\n",
    "x_test[numeric] = scaler.transform(x_test[numeric])\n",
    "pd.options.mode.chained_assignment = None"
   ]
  },
  {
   "cell_type": "markdown",
   "id": "c81c9d3c-eba7-4902-b2a1-17f1e8fbb2bb",
   "metadata": {},
   "source": [
    "Формируем перечень категориальных признаков для моделей"
   ]
  },
  {
   "cell_type": "code",
   "execution_count": 75,
   "id": "c518ba2a-e628-4e87-9627-d8655c0a6d8c",
   "metadata": {},
   "outputs": [
    {
     "name": "stdout",
     "output_type": "stream",
     "text": [
      "['Type', 'PaperlessBilling', 'PaymentMethod', 'InternetService', 'OnlineSecurity', 'OnlineBackup', 'DeviceProtection', 'TechSupport', 'StreamingTV', 'StreamingMovies', 'gender', 'SeniorCitizen', 'Partner', 'Dependents', 'MultipleLines']\n"
     ]
    }
   ],
   "source": [
    "caterigorial_df = []\n",
    "for i in ds.columns.tolist():\n",
    "    if ds[i].dtypes == 'category':\n",
    "        ds[i] = ds[i].astype('object')        \n",
    "        caterigorial_df.append(ds[i].name)\n",
    "\n",
    "print(caterigorial_df) # проверка результата"
   ]
  },
  {
   "cell_type": "markdown",
   "id": "d8a41aa8",
   "metadata": {},
   "source": [
    "<div class=\"alert alert-warning\">\n",
    "    <h2> Комментарий тимлида v3 <a class=\"tocSkip\"> </h2>\n",
    "<hr>    \n",
    "<b>Совет💡:</b> А зачем до этого в category переводили, а сейчас отдельно в object?\n",
    "        \n",
    "<code>caterigorial_df.append(ds[i].name)</code> почему сразу не складывать содержимое переменной i?\n",
    "</div></div>"
   ]
  },
  {
   "cell_type": "markdown",
   "id": "c81dd5ee-7c4a-4be7-8459-2f9e2f7b2cb0",
   "metadata": {},
   "source": [
    "#### 4.4 Модель CatboostClassifier"
   ]
  },
  {
   "cell_type": "markdown",
   "id": "89ae64ae-8f47-44c5-bc3e-4e65b8659f1c",
   "metadata": {},
   "source": [
    "Настройка и обучение модели: "
   ]
  },
  {
   "cell_type": "code",
   "execution_count": 76,
   "id": "a9b660bf-9e66-4a66-a050-d9d40ec6c948",
   "metadata": {
    "tags": []
   },
   "outputs": [
    {
     "name": "stdout",
     "output_type": "stream",
     "text": [
      "CPU times: user 5.53 s, sys: 1.78 s, total: 7.3 s\n",
      "Wall time: 6min\n"
     ]
    },
    {
     "data": {
      "text/plain": [
       "GridSearchCV(cv=2,\n",
       "             estimator=<catboost.core.CatBoostClassifier object at 0x7fdcaa80bcd0>,\n",
       "             n_jobs=-1,\n",
       "             param_grid={'depth': range(1, 10),\n",
       "                         'learning_rate': (0.01, 0.7, 0.02),\n",
       "                         'n_estimators': range(100, 1500, 100)},\n",
       "             scoring='roc_auc', verbose=False)"
      ]
     },
     "execution_count": 76,
     "metadata": {},
     "output_type": "execute_result"
    }
   ],
   "source": [
    "%%time\n",
    "1+1 # определяем время выполнения кода\n",
    "\n",
    "cat = CatBoostClassifier(cat_features=caterigorial_df)\n",
    "\n",
    "parameters = { \"n_estimators\" : range(100,1500,100),\n",
    "            \"depth\": range(1,10), \n",
    "              'learning_rate': (0.01, 0.7, 0.02)\n",
    "             }\n",
    "                   \n",
    "Grid_CBC = GridSearchCV(estimator=cat, param_grid = parameters, cv = 2, n_jobs=-1, verbose=False, scoring='roc_auc')\n",
    "Grid_CBC.fit(x_train, y_train, verbose=False) # критически важно указывать False, иначе лог сжирает кучу места"
   ]
  },
  {
   "cell_type": "code",
   "execution_count": 77,
   "id": "6cd73e7f-cc16-488f-8bb8-480227dda652",
   "metadata": {},
   "outputs": [
    {
     "data": {
      "text/plain": [
       "{'depth': 2, 'learning_rate': 0.02, 'n_estimators': 1100}"
      ]
     },
     "execution_count": 77,
     "metadata": {},
     "output_type": "execute_result"
    }
   ],
   "source": [
    "Grid_CBC.best_params_"
   ]
  },
  {
   "cell_type": "code",
   "execution_count": 78,
   "id": "8290c718-ac1b-483c-a9ab-b1fbc5dfd8a9",
   "metadata": {},
   "outputs": [
    {
     "name": "stdout",
     "output_type": "stream",
     "text": [
      "CPU times: user 3.49 s, sys: 1.44 s, total: 4.93 s\n",
      "Wall time: 1.82 s\n"
     ]
    },
    {
     "data": {
      "text/plain": [
       "<catboost.core.CatBoostClassifier at 0x7fdcaa849400>"
      ]
     },
     "execution_count": 78,
     "metadata": {},
     "output_type": "execute_result"
    }
   ],
   "source": [
    "%%time\n",
    "1+1 # определяем время выполнения кода\n",
    "cat = CatBoostClassifier(learning_rate=Grid_CBC.best_params_['learning_rate']\n",
    "                         , eval_metric='AUC'\n",
    "                         , n_estimators=Grid_CBC.best_params_['n_estimators']\n",
    "                         , depth=Grid_CBC.best_params_['depth'])\n",
    "cat.fit(x_train, y_train, verbose=False, cat_features=caterigorial_df)"
   ]
  },
  {
   "cell_type": "markdown",
   "id": "ebd901b2-c297-4604-829d-4a8619ae956e",
   "metadata": {},
   "source": [
    "Дописываем кросс-валидацию к catboost с учетом полученных параметров в гридсерч:"
   ]
  },
  {
   "cell_type": "code",
   "execution_count": 79,
   "id": "9d217f3c-9209-4291-9d4f-48bc1f2e97f2",
   "metadata": {
    "tags": []
   },
   "outputs": [
    {
     "name": "stdout",
     "output_type": "stream",
     "text": [
      "Средняя точность CatBoostClassifier на метрике roc_auc: 0.8432099121262236\n"
     ]
    }
   ],
   "source": [
    "params = {\n",
    "    'loss_function': 'Logloss',\n",
    "    'learning_rate': Grid_CBC.best_params_['learning_rate'], \n",
    "     'eval_metric':'AUC', \n",
    "     'n_estimators': Grid_CBC.best_params_['n_estimators'], \n",
    "      'depth': Grid_CBC.best_params_['depth']\n",
    "}\n",
    "\n",
    "cv_data = cv(\n",
    "    params=params,\n",
    "    pool=Pool(x_train, label=y_train, cat_features=caterigorial_df), # категориальные признаки по списку\n",
    "    fold_count=10,\n",
    "    stratified=True, \n",
    "    verbose=False,\n",
    "    shuffle=True\n",
    ")\n",
    "\n",
    "final_score_cat = cv_data['test-AUC-mean'].mean()\n",
    "print('Средняя точность CatBoostClassifier на метрике roc_auc:', final_score_cat)\n",
    "result['CatBoostClassifier'] = final_score_cat # записываем в словарик результат "
   ]
  },
  {
   "cell_type": "markdown",
   "id": "491fa94a-7ca9-49ab-9138-e30e309f0799",
   "metadata": {},
   "source": [
    "#### 4.5 Модель LGBMClassifier"
   ]
  },
  {
   "cell_type": "markdown",
   "id": "282d5362-2034-4142-90b4-1201acb18e55",
   "metadata": {},
   "source": [
    "Настраиваем параметры модели:"
   ]
  },
  {
   "cell_type": "code",
   "execution_count": 80,
   "id": "cbf93e60-5ed2-4cbb-ac0f-2b40d81748fb",
   "metadata": {
    "tags": []
   },
   "outputs": [],
   "source": [
    "param_grid =   {\n",
    "    'n_estimators' : [100, 1000, 100],\n",
    "    'boosting_type': ['gbdt'],\n",
    "    'num_leaves': [10, 60, 10],\n",
    "    'bagging_freq' : [1], # без этих параметров модель выдает ошибку !\n",
    "    'bagging_fraction': [0.6] # без этих параметров модель выдает ошибку !\n",
    "}\n",
    "\n",
    "lgb = LGBMClassifier(random_state=120922, early_stopping_rounds = 10, eval_metric  = 'auc', verbose_eval=20)\n",
    "\n",
    "grid_search = GridSearchCV(lgb, param_grid=param_grid, scoring='roc_auc',cv=5,n_jobs=-1,verbose=False)\n",
    "\n",
    "x_train, x_valid, y_train, y_valid = train_test_split(\n",
    "    x_train,\n",
    "    y_train,\n",
    "    test_size=0.1,\n",
    "    random_state=120922\n",
    ") # без параметра eval_set эта модель не запускается, создадим валидационную выборку через train_test_split\n",
    "                                 "
   ]
  },
  {
   "cell_type": "code",
   "execution_count": 81,
   "id": "561994b6-92f4-4464-9124-546691d7cd8b",
   "metadata": {
    "collapsed": true,
    "jupyter": {
     "outputs_hidden": true
    },
    "tags": []
   },
   "outputs": [
    {
     "name": "stderr",
     "output_type": "stream",
     "text": [
      "/Users/artem/opt/anaconda3/lib/python3.9/site-packages/lightgbm/engine.py:153: UserWarning: Found `early_stopping_rounds` in params. Will use it instead of argument\n",
      "  _log_warning(\"Found `{}` in params. Will use it instead of argument\".format(alias))\n",
      "/Users/artem/opt/anaconda3/lib/python3.9/site-packages/lightgbm/engine.py:153: UserWarning: Found `early_stopping_rounds` in params. Will use it instead of argument\n",
      "  _log_warning(\"Found `{}` in params. Will use it instead of argument\".format(alias))\n",
      "/Users/artem/opt/anaconda3/lib/python3.9/site-packages/lightgbm/engine.py:153: UserWarning: Found `early_stopping_rounds` in params. Will use it instead of argument\n",
      "  _log_warning(\"Found `{}` in params. Will use it instead of argument\".format(alias))\n",
      "/Users/artem/opt/anaconda3/lib/python3.9/site-packages/lightgbm/engine.py:153: UserWarning: Found `early_stopping_rounds` in params. Will use it instead of argument\n",
      "  _log_warning(\"Found `{}` in params. Will use it instead of argument\".format(alias))\n",
      "/Users/artem/opt/anaconda3/lib/python3.9/site-packages/lightgbm/engine.py:153: UserWarning: Found `early_stopping_rounds` in params. Will use it instead of argument\n",
      "  _log_warning(\"Found `{}` in params. Will use it instead of argument\".format(alias))\n",
      "/Users/artem/opt/anaconda3/lib/python3.9/site-packages/lightgbm/engine.py:153: UserWarning: Found `early_stopping_rounds` in params. Will use it instead of argument\n",
      "  _log_warning(\"Found `{}` in params. Will use it instead of argument\".format(alias))\n",
      "/Users/artem/opt/anaconda3/lib/python3.9/site-packages/lightgbm/engine.py:153: UserWarning: Found `early_stopping_rounds` in params. Will use it instead of argument\n",
      "  _log_warning(\"Found `{}` in params. Will use it instead of argument\".format(alias))\n",
      "/Users/artem/opt/anaconda3/lib/python3.9/site-packages/lightgbm/engine.py:153: UserWarning: Found `early_stopping_rounds` in params. Will use it instead of argument\n",
      "  _log_warning(\"Found `{}` in params. Will use it instead of argument\".format(alias))\n",
      "/Users/artem/opt/anaconda3/lib/python3.9/site-packages/lightgbm/engine.py:153: UserWarning: Found `early_stopping_rounds` in params. Will use it instead of argument\n",
      "  _log_warning(\"Found `{}` in params. Will use it instead of argument\".format(alias))\n",
      "/Users/artem/opt/anaconda3/lib/python3.9/site-packages/lightgbm/engine.py:153: UserWarning: Found `early_stopping_rounds` in params. Will use it instead of argument\n",
      "  _log_warning(\"Found `{}` in params. Will use it instead of argument\".format(alias))\n",
      "/Users/artem/opt/anaconda3/lib/python3.9/site-packages/lightgbm/basic.py:1433: UserWarning: Overriding the parameters from Reference Dataset.\n",
      "  _log_warning('Overriding the parameters from Reference Dataset.')\n",
      "/Users/artem/opt/anaconda3/lib/python3.9/site-packages/lightgbm/basic.py:1433: UserWarning: Overriding the parameters from Reference Dataset.\n",
      "  _log_warning('Overriding the parameters from Reference Dataset.')\n",
      "/Users/artem/opt/anaconda3/lib/python3.9/site-packages/lightgbm/basic.py:1433: UserWarning: Overriding the parameters from Reference Dataset.\n",
      "  _log_warning('Overriding the parameters from Reference Dataset.')\n",
      "/Users/artem/opt/anaconda3/lib/python3.9/site-packages/lightgbm/basic.py:1433: UserWarning: Overriding the parameters from Reference Dataset.\n",
      "  _log_warning('Overriding the parameters from Reference Dataset.')\n",
      "/Users/artem/opt/anaconda3/lib/python3.9/site-packages/lightgbm/basic.py:1433: UserWarning: Overriding the parameters from Reference Dataset.\n",
      "  _log_warning('Overriding the parameters from Reference Dataset.')\n",
      "/Users/artem/opt/anaconda3/lib/python3.9/site-packages/lightgbm/basic.py:1433: UserWarning: Overriding the parameters from Reference Dataset.\n",
      "  _log_warning('Overriding the parameters from Reference Dataset.')\n",
      "/Users/artem/opt/anaconda3/lib/python3.9/site-packages/lightgbm/basic.py:1433: UserWarning: Overriding the parameters from Reference Dataset.\n",
      "  _log_warning('Overriding the parameters from Reference Dataset.')\n",
      "/Users/artem/opt/anaconda3/lib/python3.9/site-packages/lightgbm/basic.py:1433: UserWarning: Overriding the parameters from Reference Dataset.\n",
      "  _log_warning('Overriding the parameters from Reference Dataset.')\n",
      "/Users/artem/opt/anaconda3/lib/python3.9/site-packages/lightgbm/basic.py:1433: UserWarning: Overriding the parameters from Reference Dataset.\n",
      "  _log_warning('Overriding the parameters from Reference Dataset.')\n",
      "/Users/artem/opt/anaconda3/lib/python3.9/site-packages/lightgbm/basic.py:1433: UserWarning: Overriding the parameters from Reference Dataset.\n",
      "  _log_warning('Overriding the parameters from Reference Dataset.')\n",
      "/Users/artem/opt/anaconda3/lib/python3.9/site-packages/lightgbm/basic.py:1245: UserWarning: categorical_column in param dict is overridden.\n",
      "  _log_warning('{} in param dict is overridden.'.format(cat_alias))\n",
      "/Users/artem/opt/anaconda3/lib/python3.9/site-packages/lightgbm/basic.py:1245: UserWarning: categorical_column in param dict is overridden.\n",
      "  _log_warning('{} in param dict is overridden.'.format(cat_alias))\n",
      "/Users/artem/opt/anaconda3/lib/python3.9/site-packages/lightgbm/basic.py:1245: UserWarning: categorical_column in param dict is overridden.\n",
      "  _log_warning('{} in param dict is overridden.'.format(cat_alias))\n",
      "/Users/artem/opt/anaconda3/lib/python3.9/site-packages/lightgbm/basic.py:1245: UserWarning: categorical_column in param dict is overridden.\n",
      "  _log_warning('{} in param dict is overridden.'.format(cat_alias))\n",
      "/Users/artem/opt/anaconda3/lib/python3.9/site-packages/lightgbm/basic.py:1245: UserWarning: categorical_column in param dict is overridden.\n",
      "  _log_warning('{} in param dict is overridden.'.format(cat_alias))\n",
      "/Users/artem/opt/anaconda3/lib/python3.9/site-packages/lightgbm/basic.py:1245: UserWarning: categorical_column in param dict is overridden.\n",
      "  _log_warning('{} in param dict is overridden.'.format(cat_alias))\n",
      "/Users/artem/opt/anaconda3/lib/python3.9/site-packages/lightgbm/basic.py:1245: UserWarning: categorical_column in param dict is overridden.\n",
      "  _log_warning('{} in param dict is overridden.'.format(cat_alias))\n",
      "/Users/artem/opt/anaconda3/lib/python3.9/site-packages/lightgbm/basic.py:1245: UserWarning: categorical_column in param dict is overridden.\n",
      "  _log_warning('{} in param dict is overridden.'.format(cat_alias))\n",
      "/Users/artem/opt/anaconda3/lib/python3.9/site-packages/lightgbm/basic.py:1245: UserWarning: categorical_column in param dict is overridden.\n",
      "  _log_warning('{} in param dict is overridden.'.format(cat_alias))\n",
      "/Users/artem/opt/anaconda3/lib/python3.9/site-packages/lightgbm/basic.py:1245: UserWarning: categorical_column in param dict is overridden.\n",
      "  _log_warning('{} in param dict is overridden.'.format(cat_alias))\n",
      "/Users/artem/opt/anaconda3/lib/python3.9/site-packages/lightgbm/engine.py:153: UserWarning: Found `early_stopping_rounds` in params. Will use it instead of argument\n",
      "  _log_warning(\"Found `{}` in params. Will use it instead of argument\".format(alias))\n",
      "/Users/artem/opt/anaconda3/lib/python3.9/site-packages/lightgbm/engine.py:153: UserWarning: Found `early_stopping_rounds` in params. Will use it instead of argument\n",
      "  _log_warning(\"Found `{}` in params. Will use it instead of argument\".format(alias))\n",
      "/Users/artem/opt/anaconda3/lib/python3.9/site-packages/lightgbm/engine.py:153: UserWarning: Found `early_stopping_rounds` in params. Will use it instead of argument\n",
      "  _log_warning(\"Found `{}` in params. Will use it instead of argument\".format(alias))\n",
      "/Users/artem/opt/anaconda3/lib/python3.9/site-packages/lightgbm/basic.py:1433: UserWarning: Overriding the parameters from Reference Dataset.\n",
      "  _log_warning('Overriding the parameters from Reference Dataset.')\n",
      "/Users/artem/opt/anaconda3/lib/python3.9/site-packages/lightgbm/engine.py:153: UserWarning: Found `early_stopping_rounds` in params. Will use it instead of argument\n",
      "  _log_warning(\"Found `{}` in params. Will use it instead of argument\".format(alias))\n",
      "/Users/artem/opt/anaconda3/lib/python3.9/site-packages/lightgbm/basic.py:1245: UserWarning: categorical_column in param dict is overridden.\n",
      "  _log_warning('{} in param dict is overridden.'.format(cat_alias))\n",
      "/Users/artem/opt/anaconda3/lib/python3.9/site-packages/lightgbm/basic.py:1433: UserWarning: Overriding the parameters from Reference Dataset.\n",
      "  _log_warning('Overriding the parameters from Reference Dataset.')\n",
      "/Users/artem/opt/anaconda3/lib/python3.9/site-packages/lightgbm/engine.py:153: UserWarning: Found `early_stopping_rounds` in params. Will use it instead of argument\n",
      "  _log_warning(\"Found `{}` in params. Will use it instead of argument\".format(alias))\n",
      "/Users/artem/opt/anaconda3/lib/python3.9/site-packages/lightgbm/basic.py:1245: UserWarning: categorical_column in param dict is overridden.\n",
      "  _log_warning('{} in param dict is overridden.'.format(cat_alias))\n",
      "/Users/artem/opt/anaconda3/lib/python3.9/site-packages/lightgbm/engine.py:153: UserWarning: Found `early_stopping_rounds` in params. Will use it instead of argument\n",
      "  _log_warning(\"Found `{}` in params. Will use it instead of argument\".format(alias))\n",
      "/Users/artem/opt/anaconda3/lib/python3.9/site-packages/lightgbm/basic.py:1433: UserWarning: Overriding the parameters from Reference Dataset.\n",
      "  _log_warning('Overriding the parameters from Reference Dataset.')\n",
      "/Users/artem/opt/anaconda3/lib/python3.9/site-packages/lightgbm/basic.py:1433: UserWarning: Overriding the parameters from Reference Dataset.\n",
      "  _log_warning('Overriding the parameters from Reference Dataset.')\n",
      "/Users/artem/opt/anaconda3/lib/python3.9/site-packages/lightgbm/basic.py:1245: UserWarning: categorical_column in param dict is overridden.\n",
      "  _log_warning('{} in param dict is overridden.'.format(cat_alias))\n",
      "/Users/artem/opt/anaconda3/lib/python3.9/site-packages/lightgbm/basic.py:1245: UserWarning: categorical_column in param dict is overridden.\n",
      "  _log_warning('{} in param dict is overridden.'.format(cat_alias))\n",
      "/Users/artem/opt/anaconda3/lib/python3.9/site-packages/lightgbm/engine.py:153: UserWarning: Found `early_stopping_rounds` in params. Will use it instead of argument\n",
      "  _log_warning(\"Found `{}` in params. Will use it instead of argument\".format(alias))\n",
      "/Users/artem/opt/anaconda3/lib/python3.9/site-packages/lightgbm/basic.py:1433: UserWarning: Overriding the parameters from Reference Dataset.\n",
      "  _log_warning('Overriding the parameters from Reference Dataset.')\n",
      "/Users/artem/opt/anaconda3/lib/python3.9/site-packages/lightgbm/basic.py:1433: UserWarning: Overriding the parameters from Reference Dataset.\n",
      "  _log_warning('Overriding the parameters from Reference Dataset.')\n",
      "/Users/artem/opt/anaconda3/lib/python3.9/site-packages/lightgbm/basic.py:1245: UserWarning: categorical_column in param dict is overridden.\n",
      "  _log_warning('{} in param dict is overridden.'.format(cat_alias))\n",
      "/Users/artem/opt/anaconda3/lib/python3.9/site-packages/lightgbm/basic.py:1245: UserWarning: categorical_column in param dict is overridden.\n",
      "  _log_warning('{} in param dict is overridden.'.format(cat_alias))\n",
      "/Users/artem/opt/anaconda3/lib/python3.9/site-packages/lightgbm/basic.py:1433: UserWarning: Overriding the parameters from Reference Dataset.\n",
      "  _log_warning('Overriding the parameters from Reference Dataset.')\n",
      "/Users/artem/opt/anaconda3/lib/python3.9/site-packages/lightgbm/engine.py:153: UserWarning: Found `early_stopping_rounds` in params. Will use it instead of argument\n",
      "  _log_warning(\"Found `{}` in params. Will use it instead of argument\".format(alias))\n",
      "/Users/artem/opt/anaconda3/lib/python3.9/site-packages/lightgbm/engine.py:153: UserWarning: Found `early_stopping_rounds` in params. Will use it instead of argument\n",
      "  _log_warning(\"Found `{}` in params. Will use it instead of argument\".format(alias))\n",
      "/Users/artem/opt/anaconda3/lib/python3.9/site-packages/lightgbm/basic.py:1245: UserWarning: categorical_column in param dict is overridden.\n",
      "  _log_warning('{} in param dict is overridden.'.format(cat_alias))\n",
      "/Users/artem/opt/anaconda3/lib/python3.9/site-packages/lightgbm/basic.py:1433: UserWarning: Overriding the parameters from Reference Dataset.\n",
      "  _log_warning('Overriding the parameters from Reference Dataset.')\n",
      "/Users/artem/opt/anaconda3/lib/python3.9/site-packages/lightgbm/basic.py:1433: UserWarning: Overriding the parameters from Reference Dataset.\n",
      "  _log_warning('Overriding the parameters from Reference Dataset.')\n",
      "/Users/artem/opt/anaconda3/lib/python3.9/site-packages/lightgbm/basic.py:1245: UserWarning: categorical_column in param dict is overridden.\n",
      "  _log_warning('{} in param dict is overridden.'.format(cat_alias))\n",
      "/Users/artem/opt/anaconda3/lib/python3.9/site-packages/lightgbm/basic.py:1245: UserWarning: categorical_column in param dict is overridden.\n",
      "  _log_warning('{} in param dict is overridden.'.format(cat_alias))\n",
      "/Users/artem/opt/anaconda3/lib/python3.9/site-packages/lightgbm/engine.py:153: UserWarning: Found `early_stopping_rounds` in params. Will use it instead of argument\n",
      "  _log_warning(\"Found `{}` in params. Will use it instead of argument\".format(alias))\n",
      "/Users/artem/opt/anaconda3/lib/python3.9/site-packages/lightgbm/engine.py:153: UserWarning: Found `early_stopping_rounds` in params. Will use it instead of argument\n",
      "  _log_warning(\"Found `{}` in params. Will use it instead of argument\".format(alias))\n",
      "/Users/artem/opt/anaconda3/lib/python3.9/site-packages/lightgbm/basic.py:1433: UserWarning: Overriding the parameters from Reference Dataset.\n",
      "  _log_warning('Overriding the parameters from Reference Dataset.')\n",
      "/Users/artem/opt/anaconda3/lib/python3.9/site-packages/lightgbm/basic.py:1245: UserWarning: categorical_column in param dict is overridden.\n",
      "  _log_warning('{} in param dict is overridden.'.format(cat_alias))\n",
      "/Users/artem/opt/anaconda3/lib/python3.9/site-packages/lightgbm/engine.py:153: UserWarning: Found `early_stopping_rounds` in params. Will use it instead of argument\n",
      "  _log_warning(\"Found `{}` in params. Will use it instead of argument\".format(alias))\n",
      "/Users/artem/opt/anaconda3/lib/python3.9/site-packages/lightgbm/basic.py:1433: UserWarning: Overriding the parameters from Reference Dataset.\n",
      "  _log_warning('Overriding the parameters from Reference Dataset.')\n",
      "/Users/artem/opt/anaconda3/lib/python3.9/site-packages/lightgbm/engine.py:153: UserWarning: Found `early_stopping_rounds` in params. Will use it instead of argument\n",
      "  _log_warning(\"Found `{}` in params. Will use it instead of argument\".format(alias))\n",
      "/Users/artem/opt/anaconda3/lib/python3.9/site-packages/lightgbm/basic.py:1245: UserWarning: categorical_column in param dict is overridden.\n",
      "  _log_warning('{} in param dict is overridden.'.format(cat_alias))\n",
      "/Users/artem/opt/anaconda3/lib/python3.9/site-packages/lightgbm/engine.py:153: UserWarning: Found `early_stopping_rounds` in params. Will use it instead of argument\n",
      "  _log_warning(\"Found `{}` in params. Will use it instead of argument\".format(alias))\n",
      "/Users/artem/opt/anaconda3/lib/python3.9/site-packages/lightgbm/basic.py:1433: UserWarning: Overriding the parameters from Reference Dataset.\n",
      "  _log_warning('Overriding the parameters from Reference Dataset.')\n",
      "/Users/artem/opt/anaconda3/lib/python3.9/site-packages/lightgbm/engine.py:153: UserWarning: Found `early_stopping_rounds` in params. Will use it instead of argument\n",
      "  _log_warning(\"Found `{}` in params. Will use it instead of argument\".format(alias))\n",
      "/Users/artem/opt/anaconda3/lib/python3.9/site-packages/lightgbm/basic.py:1433: UserWarning: Overriding the parameters from Reference Dataset.\n",
      "  _log_warning('Overriding the parameters from Reference Dataset.')\n",
      "/Users/artem/opt/anaconda3/lib/python3.9/site-packages/lightgbm/basic.py:1245: UserWarning: categorical_column in param dict is overridden.\n",
      "  _log_warning('{} in param dict is overridden.'.format(cat_alias))\n",
      "/Users/artem/opt/anaconda3/lib/python3.9/site-packages/lightgbm/basic.py:1245: UserWarning: categorical_column in param dict is overridden.\n",
      "  _log_warning('{} in param dict is overridden.'.format(cat_alias))\n",
      "/Users/artem/opt/anaconda3/lib/python3.9/site-packages/lightgbm/basic.py:1433: UserWarning: Overriding the parameters from Reference Dataset.\n",
      "  _log_warning('Overriding the parameters from Reference Dataset.')\n",
      "/Users/artem/opt/anaconda3/lib/python3.9/site-packages/lightgbm/engine.py:153: UserWarning: Found `early_stopping_rounds` in params. Will use it instead of argument\n",
      "  _log_warning(\"Found `{}` in params. Will use it instead of argument\".format(alias))\n",
      "/Users/artem/opt/anaconda3/lib/python3.9/site-packages/lightgbm/basic.py:1245: UserWarning: categorical_column in param dict is overridden.\n",
      "  _log_warning('{} in param dict is overridden.'.format(cat_alias))\n",
      "/Users/artem/opt/anaconda3/lib/python3.9/site-packages/lightgbm/basic.py:1433: UserWarning: Overriding the parameters from Reference Dataset.\n",
      "  _log_warning('Overriding the parameters from Reference Dataset.')\n",
      "/Users/artem/opt/anaconda3/lib/python3.9/site-packages/lightgbm/basic.py:1245: UserWarning: categorical_column in param dict is overridden.\n",
      "  _log_warning('{} in param dict is overridden.'.format(cat_alias))\n",
      "/Users/artem/opt/anaconda3/lib/python3.9/site-packages/lightgbm/engine.py:153: UserWarning: Found `early_stopping_rounds` in params. Will use it instead of argument\n",
      "  _log_warning(\"Found `{}` in params. Will use it instead of argument\".format(alias))\n",
      "/Users/artem/opt/anaconda3/lib/python3.9/site-packages/lightgbm/basic.py:1433: UserWarning: Overriding the parameters from Reference Dataset.\n",
      "  _log_warning('Overriding the parameters from Reference Dataset.')\n",
      "/Users/artem/opt/anaconda3/lib/python3.9/site-packages/lightgbm/basic.py:1245: UserWarning: categorical_column in param dict is overridden.\n",
      "  _log_warning('{} in param dict is overridden.'.format(cat_alias))\n",
      "/Users/artem/opt/anaconda3/lib/python3.9/site-packages/lightgbm/basic.py:1433: UserWarning: Overriding the parameters from Reference Dataset.\n",
      "  _log_warning('Overriding the parameters from Reference Dataset.')\n",
      "/Users/artem/opt/anaconda3/lib/python3.9/site-packages/lightgbm/engine.py:153: UserWarning: Found `early_stopping_rounds` in params. Will use it instead of argument\n",
      "  _log_warning(\"Found `{}` in params. Will use it instead of argument\".format(alias))\n",
      "/Users/artem/opt/anaconda3/lib/python3.9/site-packages/lightgbm/basic.py:1245: UserWarning: categorical_column in param dict is overridden.\n",
      "  _log_warning('{} in param dict is overridden.'.format(cat_alias))\n",
      "/Users/artem/opt/anaconda3/lib/python3.9/site-packages/lightgbm/engine.py:153: UserWarning: Found `early_stopping_rounds` in params. Will use it instead of argument\n",
      "  _log_warning(\"Found `{}` in params. Will use it instead of argument\".format(alias))\n",
      "/Users/artem/opt/anaconda3/lib/python3.9/site-packages/lightgbm/basic.py:1433: UserWarning: Overriding the parameters from Reference Dataset.\n",
      "  _log_warning('Overriding the parameters from Reference Dataset.')\n",
      "/Users/artem/opt/anaconda3/lib/python3.9/site-packages/lightgbm/basic.py:1245: UserWarning: categorical_column in param dict is overridden.\n",
      "  _log_warning('{} in param dict is overridden.'.format(cat_alias))\n",
      "/Users/artem/opt/anaconda3/lib/python3.9/site-packages/lightgbm/engine.py:153: UserWarning: Found `early_stopping_rounds` in params. Will use it instead of argument\n",
      "  _log_warning(\"Found `{}` in params. Will use it instead of argument\".format(alias))\n",
      "/Users/artem/opt/anaconda3/lib/python3.9/site-packages/lightgbm/basic.py:1433: UserWarning: Overriding the parameters from Reference Dataset.\n",
      "  _log_warning('Overriding the parameters from Reference Dataset.')\n",
      "/Users/artem/opt/anaconda3/lib/python3.9/site-packages/lightgbm/basic.py:1245: UserWarning: categorical_column in param dict is overridden.\n",
      "  _log_warning('{} in param dict is overridden.'.format(cat_alias))\n",
      "/Users/artem/opt/anaconda3/lib/python3.9/site-packages/lightgbm/basic.py:1433: UserWarning: Overriding the parameters from Reference Dataset.\n",
      "  _log_warning('Overriding the parameters from Reference Dataset.')\n",
      "/Users/artem/opt/anaconda3/lib/python3.9/site-packages/lightgbm/basic.py:1245: UserWarning: categorical_column in param dict is overridden.\n",
      "  _log_warning('{} in param dict is overridden.'.format(cat_alias))\n",
      "/Users/artem/opt/anaconda3/lib/python3.9/site-packages/lightgbm/engine.py:153: UserWarning: Found `early_stopping_rounds` in params. Will use it instead of argument\n",
      "  _log_warning(\"Found `{}` in params. Will use it instead of argument\".format(alias))\n",
      "/Users/artem/opt/anaconda3/lib/python3.9/site-packages/lightgbm/engine.py:153: UserWarning: Found `early_stopping_rounds` in params. Will use it instead of argument\n",
      "  _log_warning(\"Found `{}` in params. Will use it instead of argument\".format(alias))\n",
      "/Users/artem/opt/anaconda3/lib/python3.9/site-packages/lightgbm/basic.py:1433: UserWarning: Overriding the parameters from Reference Dataset.\n",
      "  _log_warning('Overriding the parameters from Reference Dataset.')\n",
      "/Users/artem/opt/anaconda3/lib/python3.9/site-packages/lightgbm/basic.py:1245: UserWarning: categorical_column in param dict is overridden.\n",
      "  _log_warning('{} in param dict is overridden.'.format(cat_alias))\n",
      "/Users/artem/opt/anaconda3/lib/python3.9/site-packages/lightgbm/basic.py:1433: UserWarning: Overriding the parameters from Reference Dataset.\n",
      "  _log_warning('Overriding the parameters from Reference Dataset.')\n",
      "/Users/artem/opt/anaconda3/lib/python3.9/site-packages/lightgbm/engine.py:153: UserWarning: Found `early_stopping_rounds` in params. Will use it instead of argument\n",
      "  _log_warning(\"Found `{}` in params. Will use it instead of argument\".format(alias))\n",
      "/Users/artem/opt/anaconda3/lib/python3.9/site-packages/lightgbm/basic.py:1245: UserWarning: categorical_column in param dict is overridden.\n",
      "  _log_warning('{} in param dict is overridden.'.format(cat_alias))\n",
      "/Users/artem/opt/anaconda3/lib/python3.9/site-packages/lightgbm/engine.py:153: UserWarning: Found `early_stopping_rounds` in params. Will use it instead of argument\n",
      "  _log_warning(\"Found `{}` in params. Will use it instead of argument\".format(alias))\n",
      "/Users/artem/opt/anaconda3/lib/python3.9/site-packages/lightgbm/engine.py:153: UserWarning: Found `early_stopping_rounds` in params. Will use it instead of argument\n",
      "  _log_warning(\"Found `{}` in params. Will use it instead of argument\".format(alias))\n",
      "/Users/artem/opt/anaconda3/lib/python3.9/site-packages/lightgbm/basic.py:1433: UserWarning: Overriding the parameters from Reference Dataset.\n",
      "  _log_warning('Overriding the parameters from Reference Dataset.')\n",
      "/Users/artem/opt/anaconda3/lib/python3.9/site-packages/lightgbm/engine.py:153: UserWarning: Found `early_stopping_rounds` in params. Will use it instead of argument\n",
      "  _log_warning(\"Found `{}` in params. Will use it instead of argument\".format(alias))\n",
      "/Users/artem/opt/anaconda3/lib/python3.9/site-packages/lightgbm/basic.py:1245: UserWarning: categorical_column in param dict is overridden.\n",
      "  _log_warning('{} in param dict is overridden.'.format(cat_alias))\n",
      "/Users/artem/opt/anaconda3/lib/python3.9/site-packages/lightgbm/engine.py:153: UserWarning: Found `early_stopping_rounds` in params. Will use it instead of argument\n",
      "  _log_warning(\"Found `{}` in params. Will use it instead of argument\".format(alias))\n",
      "/Users/artem/opt/anaconda3/lib/python3.9/site-packages/lightgbm/basic.py:1433: UserWarning: Overriding the parameters from Reference Dataset.\n",
      "  _log_warning('Overriding the parameters from Reference Dataset.')\n",
      "/Users/artem/opt/anaconda3/lib/python3.9/site-packages/lightgbm/basic.py:1433: UserWarning: Overriding the parameters from Reference Dataset.\n",
      "  _log_warning('Overriding the parameters from Reference Dataset.')\n",
      "/Users/artem/opt/anaconda3/lib/python3.9/site-packages/lightgbm/basic.py:1245: UserWarning: categorical_column in param dict is overridden.\n",
      "  _log_warning('{} in param dict is overridden.'.format(cat_alias))\n",
      "/Users/artem/opt/anaconda3/lib/python3.9/site-packages/lightgbm/basic.py:1245: UserWarning: categorical_column in param dict is overridden.\n",
      "  _log_warning('{} in param dict is overridden.'.format(cat_alias))\n",
      "/Users/artem/opt/anaconda3/lib/python3.9/site-packages/lightgbm/basic.py:1433: UserWarning: Overriding the parameters from Reference Dataset.\n",
      "  _log_warning('Overriding the parameters from Reference Dataset.')\n",
      "/Users/artem/opt/anaconda3/lib/python3.9/site-packages/lightgbm/basic.py:1433: UserWarning: Overriding the parameters from Reference Dataset.\n",
      "  _log_warning('Overriding the parameters from Reference Dataset.')\n",
      "/Users/artem/opt/anaconda3/lib/python3.9/site-packages/lightgbm/basic.py:1245: UserWarning: categorical_column in param dict is overridden.\n",
      "  _log_warning('{} in param dict is overridden.'.format(cat_alias))\n",
      "/Users/artem/opt/anaconda3/lib/python3.9/site-packages/lightgbm/basic.py:1245: UserWarning: categorical_column in param dict is overridden.\n",
      "  _log_warning('{} in param dict is overridden.'.format(cat_alias))\n",
      "/Users/artem/opt/anaconda3/lib/python3.9/site-packages/lightgbm/engine.py:153: UserWarning: Found `early_stopping_rounds` in params. Will use it instead of argument\n",
      "  _log_warning(\"Found `{}` in params. Will use it instead of argument\".format(alias))\n",
      "/Users/artem/opt/anaconda3/lib/python3.9/site-packages/lightgbm/engine.py:153: UserWarning: Found `early_stopping_rounds` in params. Will use it instead of argument\n",
      "  _log_warning(\"Found `{}` in params. Will use it instead of argument\".format(alias))\n",
      "/Users/artem/opt/anaconda3/lib/python3.9/site-packages/lightgbm/engine.py:153: UserWarning: Found `early_stopping_rounds` in params. Will use it instead of argument\n",
      "  _log_warning(\"Found `{}` in params. Will use it instead of argument\".format(alias))\n",
      "/Users/artem/opt/anaconda3/lib/python3.9/site-packages/lightgbm/basic.py:1433: UserWarning: Overriding the parameters from Reference Dataset.\n",
      "  _log_warning('Overriding the parameters from Reference Dataset.')\n",
      "/Users/artem/opt/anaconda3/lib/python3.9/site-packages/lightgbm/basic.py:1245: UserWarning: categorical_column in param dict is overridden.\n",
      "  _log_warning('{} in param dict is overridden.'.format(cat_alias))\n",
      "/Users/artem/opt/anaconda3/lib/python3.9/site-packages/lightgbm/basic.py:1433: UserWarning: Overriding the parameters from Reference Dataset.\n",
      "  _log_warning('Overriding the parameters from Reference Dataset.')\n",
      "/Users/artem/opt/anaconda3/lib/python3.9/site-packages/lightgbm/basic.py:1433: UserWarning: Overriding the parameters from Reference Dataset.\n",
      "  _log_warning('Overriding the parameters from Reference Dataset.')\n",
      "/Users/artem/opt/anaconda3/lib/python3.9/site-packages/lightgbm/basic.py:1245: UserWarning: categorical_column in param dict is overridden.\n",
      "  _log_warning('{} in param dict is overridden.'.format(cat_alias))\n",
      "/Users/artem/opt/anaconda3/lib/python3.9/site-packages/lightgbm/basic.py:1245: UserWarning: categorical_column in param dict is overridden.\n",
      "  _log_warning('{} in param dict is overridden.'.format(cat_alias))\n",
      "/Users/artem/opt/anaconda3/lib/python3.9/site-packages/lightgbm/engine.py:153: UserWarning: Found `early_stopping_rounds` in params. Will use it instead of argument\n",
      "  _log_warning(\"Found `{}` in params. Will use it instead of argument\".format(alias))\n",
      "/Users/artem/opt/anaconda3/lib/python3.9/site-packages/lightgbm/basic.py:1433: UserWarning: Overriding the parameters from Reference Dataset.\n",
      "  _log_warning('Overriding the parameters from Reference Dataset.')\n",
      "/Users/artem/opt/anaconda3/lib/python3.9/site-packages/lightgbm/engine.py:153: UserWarning: Found `early_stopping_rounds` in params. Will use it instead of argument\n",
      "  _log_warning(\"Found `{}` in params. Will use it instead of argument\".format(alias))\n",
      "/Users/artem/opt/anaconda3/lib/python3.9/site-packages/lightgbm/basic.py:1245: UserWarning: categorical_column in param dict is overridden.\n",
      "  _log_warning('{} in param dict is overridden.'.format(cat_alias))\n",
      "/Users/artem/opt/anaconda3/lib/python3.9/site-packages/lightgbm/engine.py:153: UserWarning: Found `early_stopping_rounds` in params. Will use it instead of argument\n",
      "  _log_warning(\"Found `{}` in params. Will use it instead of argument\".format(alias))\n",
      "/Users/artem/opt/anaconda3/lib/python3.9/site-packages/lightgbm/engine.py:153: UserWarning: Found `early_stopping_rounds` in params. Will use it instead of argument\n",
      "  _log_warning(\"Found `{}` in params. Will use it instead of argument\".format(alias))\n",
      "/Users/artem/opt/anaconda3/lib/python3.9/site-packages/lightgbm/basic.py:1433: UserWarning: Overriding the parameters from Reference Dataset.\n",
      "  _log_warning('Overriding the parameters from Reference Dataset.')\n",
      "/Users/artem/opt/anaconda3/lib/python3.9/site-packages/lightgbm/basic.py:1433: UserWarning: Overriding the parameters from Reference Dataset.\n",
      "  _log_warning('Overriding the parameters from Reference Dataset.')\n",
      "/Users/artem/opt/anaconda3/lib/python3.9/site-packages/lightgbm/basic.py:1245: UserWarning: categorical_column in param dict is overridden.\n",
      "  _log_warning('{} in param dict is overridden.'.format(cat_alias))\n",
      "/Users/artem/opt/anaconda3/lib/python3.9/site-packages/lightgbm/basic.py:1245: UserWarning: categorical_column in param dict is overridden.\n",
      "  _log_warning('{} in param dict is overridden.'.format(cat_alias))\n",
      "/Users/artem/opt/anaconda3/lib/python3.9/site-packages/lightgbm/basic.py:1433: UserWarning: Overriding the parameters from Reference Dataset.\n",
      "  _log_warning('Overriding the parameters from Reference Dataset.')\n",
      "/Users/artem/opt/anaconda3/lib/python3.9/site-packages/lightgbm/basic.py:1245: UserWarning: categorical_column in param dict is overridden.\n",
      "  _log_warning('{} in param dict is overridden.'.format(cat_alias))\n",
      "/Users/artem/opt/anaconda3/lib/python3.9/site-packages/lightgbm/engine.py:153: UserWarning: Found `early_stopping_rounds` in params. Will use it instead of argument\n",
      "  _log_warning(\"Found `{}` in params. Will use it instead of argument\".format(alias))\n",
      "/Users/artem/opt/anaconda3/lib/python3.9/site-packages/lightgbm/basic.py:1433: UserWarning: Overriding the parameters from Reference Dataset.\n",
      "  _log_warning('Overriding the parameters from Reference Dataset.')\n",
      "/Users/artem/opt/anaconda3/lib/python3.9/site-packages/lightgbm/basic.py:1245: UserWarning: categorical_column in param dict is overridden.\n",
      "  _log_warning('{} in param dict is overridden.'.format(cat_alias))\n",
      "/Users/artem/opt/anaconda3/lib/python3.9/site-packages/lightgbm/engine.py:153: UserWarning: Found `early_stopping_rounds` in params. Will use it instead of argument\n",
      "  _log_warning(\"Found `{}` in params. Will use it instead of argument\".format(alias))\n",
      "/Users/artem/opt/anaconda3/lib/python3.9/site-packages/lightgbm/basic.py:1433: UserWarning: Overriding the parameters from Reference Dataset.\n",
      "  _log_warning('Overriding the parameters from Reference Dataset.')\n",
      "/Users/artem/opt/anaconda3/lib/python3.9/site-packages/lightgbm/basic.py:1245: UserWarning: categorical_column in param dict is overridden.\n",
      "  _log_warning('{} in param dict is overridden.'.format(cat_alias))\n"
     ]
    },
    {
     "name": "stdout",
     "output_type": "stream",
     "text": [
      "[LightGBM] [Warning] Unknown parameter: verbose_eval\n",
      "[LightGBM] [Warning] Unknown parameter: eval_metric\n",
      "[LightGBM] [Warning] bagging_fraction is set=0.6, subsample=1.0 will be ignored. Current value: bagging_fraction=0.6\n",
      "[LightGBM] [Warning] early_stopping_round is set=10, early_stopping_rounds=10 will be ignored. Current value: early_stopping_round=10\n",
      "[LightGBM] [Warning] bagging_freq is set=1, subsample_freq=0 will be ignored. Current value: bagging_freq=1\n"
     ]
    }
   ],
   "source": [
    "grid_search.fit(x_train, y_train, eval_set = (x_valid, y_valid), verbose=False)\n",
    "\n",
    "best_model = grid_search.best_params_"
   ]
  },
  {
   "cell_type": "markdown",
   "id": "5f36d9ee-57b0-45c7-ab0b-c036546bbcca",
   "metadata": {},
   "source": [
    "Обучаем модель:"
   ]
  },
  {
   "cell_type": "code",
   "execution_count": 82,
   "id": "512ec127-5072-4c97-a57c-198d50f8bc87",
   "metadata": {
    "tags": []
   },
   "outputs": [
    {
     "name": "stderr",
     "output_type": "stream",
     "text": [
      "/Users/artem/opt/anaconda3/lib/python3.9/site-packages/lightgbm/basic.py:1433: UserWarning: Overriding the parameters from Reference Dataset.\n",
      "  _log_warning('Overriding the parameters from Reference Dataset.')\n",
      "/Users/artem/opt/anaconda3/lib/python3.9/site-packages/lightgbm/basic.py:1245: UserWarning: categorical_column in param dict is overridden.\n",
      "  _log_warning('{} in param dict is overridden.'.format(cat_alias))\n"
     ]
    },
    {
     "name": "stdout",
     "output_type": "stream",
     "text": [
      "CPU times: user 1.82 s, sys: 633 ms, total: 2.46 s\n",
      "Wall time: 715 ms\n"
     ]
    },
    {
     "data": {
      "text/plain": [
       "LGBMClassifier(colsample_bytree=0.8, learning_rate=0.005, max_depth=30,\n",
       "               min_child_weight=0.05, min_split_gain=0.04, nthread=4,\n",
       "               num_leaves=10, random_state=0, reg_alpha=0.5, reg_lambda=0.5,\n",
       "               silent=-1, subsample=0.4, subsample_freq=1, verbose=-1)"
      ]
     },
     "execution_count": 82,
     "metadata": {},
     "output_type": "execute_result"
    }
   ],
   "source": [
    "%%time\n",
    "1 + 1\n",
    "rf = LGBMClassifier(\n",
    "            boosting_type='gbdt', nthread=4, #rt = 0.8514, gbdt = 0.8476, dart = 0.8511\n",
    "            n_estimators= grid_search.best_params_['n_estimators'],learning_rate=0.005,\n",
    "            num_leaves= grid_search.best_params_['num_leaves'],colsample_bytree= 0.8,\n",
    "            subsample= 0.4,subsample_freq=1,\n",
    "            max_depth= 30,reg_alpha= 0.5,\n",
    "            reg_lambda=0.5,min_split_gain=0.04,\n",
    "            min_child_weight=.05,random_state=0,\n",
    "            silent=-1,verbose=-1)\n",
    "\n",
    "rf.fit(x_train, y_train, eval_metric= 'auc', eval_set = [(x_valid, y_valid)], verbose=False, early_stopping_rounds= 200)"
   ]
  },
  {
   "cell_type": "markdown",
   "id": "c18f1373-569c-4f5b-be14-eb3964ae14f8",
   "metadata": {},
   "source": [
    "Просчитаем среднее качество на метрике roc_auc через кросс-валидацию:"
   ]
  },
  {
   "cell_type": "code",
   "execution_count": 83,
   "id": "9ea206dc-a53f-40c0-b3f5-bee1a7a7d8b7",
   "metadata": {},
   "outputs": [
    {
     "name": "stdout",
     "output_type": "stream",
     "text": [
      "Средняя точность LGBMClassifier на метрике roc_auc: 0.8393503972922925\n"
     ]
    }
   ],
   "source": [
    "n_scores = cross_val_score(rf, x_train, y_train, scoring='roc_auc', cv=10, n_jobs=-1)\n",
    "final_score_rf = n_scores.mean()\n",
    "\n",
    "print('Средняя точность LGBMClassifier на метрике roc_auc:', final_score_rf)\n",
    "result['LGBMClassifier'] = final_score_rf # записываем в словарик результат"
   ]
  },
  {
   "cell_type": "markdown",
   "id": "4e43c516-5eb2-4fd2-aa2f-32dae2e9d8d2",
   "metadata": {},
   "source": [
    "#### 5 Определяем лучшую модель: \n"
   ]
  },
  {
   "cell_type": "markdown",
   "id": "c6e4c030-9e2f-4fde-8fec-e371d96fed33",
   "metadata": {},
   "source": [
    "Сортируем словарь и отбираем лучшую модель:"
   ]
  },
  {
   "cell_type": "code",
   "execution_count": 84,
   "id": "179fa5f6-3fcc-43f8-9ffd-68fd26554b87",
   "metadata": {},
   "outputs": [
    {
     "data": {
      "text/plain": [
       "{'CatBoostClassifier': 0.8432099121262236,\n",
       " 'LGBMClassifier': 0.8393503972922925,\n",
       " 'RandomForestClassifier': 0.8385133537615307,\n",
       " 'DecisionTreeClassifier': 0.8190106087035239}"
      ]
     },
     "execution_count": 84,
     "metadata": {},
     "output_type": "execute_result"
    }
   ],
   "source": [
    "dict(reversed(sorted(result.items(), key=lambda item: item[1])))"
   ]
  },
  {
   "cell_type": "markdown",
   "id": "dc6580c7-666f-4133-b3bb-3f5188f31ef2",
   "metadata": {},
   "source": [
    "Лучшей оказывается CatBoostClassifier."
   ]
  },
  {
   "cell_type": "markdown",
   "id": "881e2989-0acb-42c4-b9e5-b95782970c3a",
   "metadata": {},
   "source": [
    "#### 5.1 Расчет AUC-ROC по лучшей модели на тестовой выборке:"
   ]
  },
  {
   "cell_type": "code",
   "execution_count": 85,
   "id": "5371c9fa-417a-45fa-91c4-f1b8d2403eb9",
   "metadata": {
    "tags": []
   },
   "outputs": [
    {
     "name": "stdout",
     "output_type": "stream",
     "text": [
      "AUC-ROC равна 0.851222420989863\n"
     ]
    },
    {
     "data": {
      "image/png": "[encoded data removed]",
      "text/plain": [
       "<Figure size 432x288 with 1 Axes>"
      ]
     },
     "metadata": {
      "needs_background": "light"
     },
     "output_type": "display_data"
    }
   ],
   "source": [
    "predicted_valid = cat.predict(x_test)\n",
    "\n",
    "# строим ROC-кривую, считаем AUC-ROC\n",
    "\n",
    "probabilities_valid = cat.predict_proba(x_test)\n",
    "probabilities_one_valid = probabilities_valid[:, 1]\n",
    "auc_roc = roc_auc_score(y_test, probabilities_one_valid)\n",
    "\n",
    "print('AUC-ROC равна', auc_roc)\n",
    "\n",
    "fpr, tpr, thresholds = roc_curve(y_test, probabilities_one_valid) \n",
    "plt.plot([0, 1], [0, 1], linestyle='--')\n",
    "plt.plot(fpr, tpr)\n",
    "plt.xlim([0.0, 1.0])\n",
    "plt.ylim([0.0, 1.0])\n",
    "plt.xlabel('False Positive Rate')\n",
    "plt.ylabel('True Positive Rate')\n",
    "plt.title('ROC-кривая')\n",
    "plt.show()"
   ]
  },
  {
   "cell_type": "markdown",
   "id": "881660a0-9cfc-4c51-8891-814bd46c777c",
   "metadata": {},
   "source": [
    "#### 6. Краткий вывод по работе."
   ]
  },
  {
   "cell_type": "markdown",
   "id": "817438e1-229e-4f0d-a167-c0d4b4664218",
   "metadata": {},
   "source": [
    "Была проведена предобработка данных, отдельно для моделей без бустинга, и отдельно - для моделей catboost и LGBMClassifier.\n",
    "Исходные 4 таблицы методом merge были объединены в одну, в обоих случаях, получившиеся пропуски заполнялись отрицательными значениями. Значения для пользователей, зарегистрированных в феврале 2020г были удалены ввиду их незначительного количества (11 человек).\n",
    "\n",
    "Была попытка создать дополнительный признак на основе данных о дате ухода пользователя: гипотеза состояла в том, что данные будут распределены равномерно, и на их основе можно будет создать признак. Однако данные распределены неравномерно, поэтому признак будет только ухудшать качество обучения.\n",
    "\n",
    "Проведено масштабирование количественных признаков. \n",
    "\n",
    "Пришлось по-разному подойти к процессу кодирования данных: \n",
    "\n",
    "    В случае с моделями, которые не могут воспринимать категориальные признаки, пришлось прибегнуть к энкодингу. \n",
    "\n",
    "    В случае с градиентным бустингом обошлись простым приведением к категориям. \n",
    "\n",
    "В результате, на тренировочной выборке были получены результаты по метрике AUC/ROC-AUC: \n",
    "\n",
    "    'DecisionTreeClassifier': 0.8063,\n",
    "     'LGBMClassifier': 0.8367,\n",
    "     'RandomForestClassifier': 0.8385,\n",
    "     'CatBoostClassifier': 0.8448\n",
    "\n",
    "С небольшим отрывом лучшей моделью стал CatBoostClassifier. \n",
    "\n",
    "Данная модель на тестовой выборке показала точность в 0.8511 метрикой AUC-ROC. \n",
    "\n",
    "Удаление сильно коррелирующих признаков значительного увеличения точности не дало и из кода удалено. "
   ]
  },
  {
   "cell_type": "markdown",
   "id": "c58a616b-946f-4b8d-9373-48ae45625a2d",
   "metadata": {},
   "source": [
    "#### 7. Отчет о проделанной работе."
   ]
  },
  {
   "cell_type": "markdown",
   "id": "ad650f1e-ffd1-4760-a697-005752e39971",
   "metadata": {},
   "source": [
    "В рамках написания прототипа модели машинного обучения, заказчиком были предоставлены 4 таблицы: contract, internet, personal и phone. Данные в самих таблицах предоставлены максимально чистые, пропусков, несоответствующих значений (например, букв вместо цифр) не было. \n",
    "\n",
    "Стоит отметить, что количество строк в таблицах не совпадало, что привело к необходимости предобработки на дальнейших этапах. \n",
    "\n",
    "По итогу первичного осмотра данных и построения соответствующих графиков, были сделаны следующие выводы и наблюдения: \n",
    "\n",
    "1. Для корректной работы необходимо будет объединить 4 таблицы в одну. По плану это объединение происходит через команду merge по столбцу user_id, что было успешно реализовано (параметр how установлен как outer); \n",
    "\n",
    "2. Была выдвинута очевидная гипотеза, что, если количество строк не совпадает в некоторых таблицах, на их месте будут образованы пропуски. Данная проблема подтвердилась при объединении и была решена следующим образом: \n",
    "        \n",
    "        По умолчанию было принято, что компания-заказчик однозначно знает, какому user id какой объем услуг оказывается. В связи с этим полученные пропуски можно заполнять \"отрицательным\" значением (No либо 0 в случае энкодинга), как указание на то, что клиент в любом случае не пользуется той или иной услугой, если его нет в соответствующей таблице с положительным показателем.\n",
    "\n",
    "В дальнейшем гипотеза подтвердила свою правильность. \n",
    "\n",
    "Был составлен следующий план работы с включением ранее озвученных пунктов:\n",
    "\n",
    "1. Составление единой таблицы признаков через команду merge;\n",
    "        1.1 Заполнение пропусков через fillna('No') по столбцам где это требуется;\n",
    "        1.2 Изменение типов данных на категории, чтобы модели могли с ними работать;\n",
    "        1.3 Работа с другими столбцами - изменение формата дат, удаление дат из столбца EndDate и замена на Yes (чтобы опять же привести к категории). Сюда же, расширенный анализ данных, поиск возможных выбросов по тратам и прочим количественным показателям;\n",
    "        1.4 Людей, которые зарегистрировались в феврале 2020г - либо удалить, либо заполнить столбец TotalCharges значением из MonthlyCharges - зависит от того, сколько данных есть по этим 11 user ID, если они окажутся полезными - можем использовать в обучении, если по ним нет большого числа признаков - проще удалить; \n",
    "        1.5 Проверить корреляцию признаков, есть ли она между признаками;\n",
    "2. Разделение таблицы на обучающую-валидационную-тестовую выборки и на таблицу признаков-ответов. Целевой показатель - факт ухода клиента.\n",
    "        2.1 Так как по целевому признаку у нас явный перекос в сторону тех, кто остался, проведем апсемплинг данных чтобы разрыв у положительных-отрицательных \"ответов\" не был таким большим; если произойдет переобучение - убрать;\n",
    "        2.2 По итогам поиска корелляции принять решение об удалении каких-то признаков, если такое потребуется; \n",
    "3. Метрики качества планирую использовать accuracy_score (для себя) и AUC-ROC (как итоговую метрику). \n",
    "\n",
    "При предобработке данных согласно плану:  \n",
    "\n",
    "1. Реализовано заполнение пропусков отрицательными значениями;\n",
    "2. Изменены типы данных с числового/объектного на категориальный - позволило сэкономить значительное количество места;\n",
    "3. Заменены даты в столбце EndDate на положительную категорию Yes/1, что позволило создать корректно работающий целевой признак для будущей модели классификации; пропуски при слиянии таблиц заполнены отрицательными значениями No/0; только в столбце InternetService создана новая категория (столбец описывает тип подключения интернета у клиента и предлагает всего две категории - DSL и оптику - была добавлена третья - отсутствие подключения (No));\n",
    "4. Так же вышеуказанные даты были вынесены в отдельный датафрейм с целью анализа и возможности выделения в отдельный признак. Не реализовано. \n",
    "5. Данные о клиентах, зарегестрированных в феврале 2020 года, не обработаны и удалены. В расчетах не участвуют;\n",
    "6. Какой-либо высокой корелляции между категориальными признаками быть не может, а именно такие составляют основной массив признаков. Корелляция между оставшимися количественными признаками (ежемесячные расходы и общая сумма расходов, столбцы MonthlyCharges и TotalCharges), очевидна и не была расчитана;\n",
    "7. Апсемплинг не проводился ввиду высокого качества работы моделей даже с несбалансированными категориями. Данные о качестве работы моделей получали методом кросс-валидации, количество итераций - 10, метрика - roc_auc;\n",
    "8. Ввиду сжатых сроков проведения работы метрика accuracy_score не была использована, расчет качества обучения велся только на roc_auc метрике. \n",
    "\n",
    "В качестве моделей были отобраны следующие: \n",
    "\n",
    "1. DecisionTreeClassifier\n",
    "2. LGBMClassifier\n",
    "3. RandomForestClassifier\n",
    "4. CatBoostClassifier\n",
    "\n",
    "Работа по предобработке данных была разбита на два независимых блока: обработка для моделей без бустинга, где данные кодировались через ordinal encoding и масштабировались stadtartscaler, и обработка для бустинговых моделей, где вместо кодирования данные просто приводились к категориальному типу и так же масштабировались через скалер.\n",
    "\n",
    "Для каждого блока моделей формировался свой датафрейм (в работе получили названия ds и df соответственно). Некоторая часть предобработки идентична для обоих датафреймов: заполнение пропусков, приведенияе к категориям, удаление стоблца с датой регистрации и user id, изменение типа данных в циферных столбцах (выручка). Различия касались только работы с категориальными признаками.\n",
    "\n",
    "Обучающие и тестовые выборки формировались для каждого \"блока\" моделей отдельно. Новые признаки как сказано выше не формировались, но в обучении использовались все признаки, которые были доступны; исследование о возможном увеличении качества работы моделей при удалении некоторых признаков не проводилось. \n",
    "\n",
    "Для уравнивания, все модели обучались методом GridSearchCV на своем наборе гиперпараметров, с метрикой качества в параметре scoring roc_auc. Наиболее оптимальные параметры передавались в кросс-валидацию для промежуточного тестирования и определения средней метрики качества roc_auc (число итераций 10). Результаты по всем четырем моделям записывались в специальный словарь, чтобы простым методом сортировки отобрать лучшую модель по завершении обучения и тестирования.\n",
    "\n",
    "Существенной проблемой стала модель LGBMClassifier, выдающая неизвестную на тот момент ошибку. Решено было с помощью добавления параметров 'bagging_freq' : [1] и 'bagging_fraction': [0.6]. Так же проблемой стала модель catboost, без параметра verbose=False записывающая в лог все итерации обучения модели (этап fit), что приводило к существенному росту размера файла. Обе проблемы решены, соответствующие комментарии оставлены в коде. \n",
    "\n",
    "Наилучшее значение метрики auc удалось получить на модели catboost, причем не последнюю роль оказал параметр learning_rate, благодаря ему удалось получить итоговую метрику на тестовой выборке выше 0.85. \n",
    "\n",
    "Детальное описание модели, выбранной в качестве итоговой: \n",
    "\n",
    "CatBoostClassifier, parameters ={'depth': 2, 'learning_rate': 0.02, 'n_estimators': 1100, 'eval_metric': 'AUC'}.\n",
    "\n",
    "Итоговая точность работы модели на тестовой выборке: 0.8512"
   ]
  },
  {
   "cell_type": "code",
   "execution_count": null,
   "id": "e70fddcd",
   "metadata": {},
   "outputs": [],
   "source": []
  }
 ],
 "metadata": {
  "ExecuteTimeLog": [
   {
    "duration": 746,
    "start_time": "2022-09-19T11:32:53.718Z"
   },
   {
    "duration": 134,
    "start_time": "2022-09-19T11:32:55.749Z"
   },
   {
    "duration": 14,
    "start_time": "2022-09-19T11:32:57.549Z"
   },
   {
    "duration": 16,
    "start_time": "2022-09-19T11:32:58.718Z"
   },
   {
    "duration": 6,
    "start_time": "2022-09-19T11:32:59.061Z"
   },
   {
    "duration": 25,
    "start_time": "2022-09-19T11:32:59.813Z"
   },
   {
    "duration": 11,
    "start_time": "2022-09-19T11:33:01.608Z"
   },
   {
    "duration": 5,
    "start_time": "2022-09-19T11:33:02.057Z"
   },
   {
    "duration": 29,
    "start_time": "2022-09-19T11:33:02.412Z"
   },
   {
    "duration": 18,
    "start_time": "2022-09-19T11:33:04.219Z"
   },
   {
    "duration": 13,
    "start_time": "2022-09-19T11:33:04.556Z"
   },
   {
    "duration": 6,
    "start_time": "2022-09-19T11:33:04.836Z"
   },
   {
    "duration": 6,
    "start_time": "2022-09-19T11:33:05.257Z"
   },
   {
    "duration": 10,
    "start_time": "2022-09-19T11:33:05.577Z"
   },
   {
    "duration": 6,
    "start_time": "2022-09-19T11:33:05.848Z"
   },
   {
    "duration": 5,
    "start_time": "2022-09-19T11:33:06.128Z"
   },
   {
    "duration": 10,
    "start_time": "2022-09-19T11:33:06.501Z"
   },
   {
    "duration": 4,
    "start_time": "2022-09-19T11:33:06.845Z"
   },
   {
    "duration": 178,
    "start_time": "2022-09-19T11:33:19.819Z"
   },
   {
    "duration": 131,
    "start_time": "2022-09-19T11:33:21.623Z"
   },
   {
    "duration": 2072,
    "start_time": "2022-09-23T10:41:37.381Z"
   },
   {
    "duration": 315,
    "start_time": "2022-09-23T10:41:40.369Z"
   },
   {
    "duration": 12,
    "start_time": "2022-09-23T10:41:42.197Z"
   },
   {
    "duration": 13,
    "start_time": "2022-09-23T10:41:43.617Z"
   },
   {
    "duration": 4,
    "start_time": "2022-09-23T10:41:44.081Z"
   },
   {
    "duration": 23,
    "start_time": "2022-09-23T10:41:44.550Z"
   },
   {
    "duration": 4,
    "start_time": "2022-09-23T10:41:45.282Z"
   },
   {
    "duration": 4,
    "start_time": "2022-09-23T10:41:45.485Z"
   },
   {
    "duration": 14,
    "start_time": "2022-09-23T10:41:45.669Z"
   },
   {
    "duration": 10,
    "start_time": "2022-09-23T10:41:46.830Z"
   },
   {
    "duration": 14,
    "start_time": "2022-09-23T10:41:47.037Z"
   },
   {
    "duration": 6,
    "start_time": "2022-09-23T10:41:47.237Z"
   },
   {
    "duration": 6,
    "start_time": "2022-09-23T10:41:47.397Z"
   },
   {
    "duration": 4,
    "start_time": "2022-09-23T10:41:47.605Z"
   },
   {
    "duration": 4,
    "start_time": "2022-09-23T10:41:47.777Z"
   },
   {
    "duration": 4,
    "start_time": "2022-09-23T10:41:47.957Z"
   },
   {
    "duration": 4,
    "start_time": "2022-09-23T10:41:48.176Z"
   },
   {
    "duration": 4,
    "start_time": "2022-09-23T10:41:48.365Z"
   },
   {
    "duration": 122,
    "start_time": "2022-09-23T10:41:48.577Z"
   },
   {
    "duration": 110,
    "start_time": "2022-09-23T10:41:50.851Z"
   },
   {
    "duration": 107,
    "start_time": "2022-09-23T10:41:51.057Z"
   },
   {
    "duration": 167,
    "start_time": "2022-09-23T10:41:51.277Z"
   },
   {
    "duration": 122,
    "start_time": "2022-09-23T10:41:51.505Z"
   },
   {
    "duration": 105,
    "start_time": "2022-09-23T10:41:51.737Z"
   },
   {
    "duration": 107,
    "start_time": "2022-09-23T10:41:51.957Z"
   },
   {
    "duration": 108,
    "start_time": "2022-09-23T10:41:52.156Z"
   },
   {
    "duration": 11,
    "start_time": "2022-09-23T10:41:52.997Z"
   },
   {
    "duration": 171,
    "start_time": "2022-09-23T10:41:53.221Z"
   },
   {
    "duration": 116,
    "start_time": "2022-09-23T10:41:53.709Z"
   },
   {
    "duration": 8,
    "start_time": "2022-09-23T10:41:53.957Z"
   },
   {
    "duration": 110,
    "start_time": "2022-09-23T10:41:54.169Z"
   },
   {
    "duration": 151,
    "start_time": "2022-09-23T10:41:54.462Z"
   },
   {
    "duration": 9,
    "start_time": "2022-09-23T10:41:55.425Z"
   },
   {
    "duration": 8,
    "start_time": "2022-09-23T10:41:55.705Z"
   },
   {
    "duration": 108,
    "start_time": "2022-09-23T10:41:56.569Z"
   },
   {
    "duration": 22,
    "start_time": "2022-09-23T10:41:59.265Z"
   },
   {
    "duration": 5,
    "start_time": "2022-09-23T10:42:00.265Z"
   },
   {
    "duration": 20,
    "start_time": "2022-09-23T10:42:00.729Z"
   },
   {
    "duration": 4,
    "start_time": "2022-09-23T10:42:02.565Z"
   },
   {
    "duration": 13,
    "start_time": "2022-09-23T10:42:03.281Z"
   },
   {
    "duration": 5,
    "start_time": "2022-09-23T10:42:03.525Z"
   },
   {
    "duration": 7,
    "start_time": "2022-09-23T10:42:04.309Z"
   },
   {
    "duration": 9,
    "start_time": "2022-09-23T10:42:04.657Z"
   },
   {
    "duration": 6,
    "start_time": "2022-09-23T10:42:05.326Z"
   },
   {
    "duration": 9,
    "start_time": "2022-09-23T10:42:06.525Z"
   },
   {
    "duration": 86,
    "start_time": "2022-09-23T10:42:08.037Z"
   },
   {
    "duration": 7,
    "start_time": "2022-09-23T10:42:08.845Z"
   },
   {
    "duration": 4,
    "start_time": "2022-09-23T10:42:10.366Z"
   },
   {
    "duration": 8,
    "start_time": "2022-09-23T10:42:10.997Z"
   },
   {
    "duration": 8,
    "start_time": "2022-09-23T10:42:12.045Z"
   },
   {
    "duration": 3,
    "start_time": "2022-09-23T10:42:13.835Z"
   },
   {
    "duration": 9,
    "start_time": "2022-09-23T10:42:15.410Z"
   },
   {
    "duration": 57,
    "start_time": "2022-09-23T10:42:16.501Z"
   },
   {
    "duration": 23,
    "start_time": "2022-09-23T10:42:57.537Z"
   },
   {
    "duration": 43,
    "start_time": "2022-09-23T10:43:12.209Z"
   }
  ],
  "kernelspec": {
   "display_name": "Python 3 (ipykernel)",
   "language": "python",
   "name": "python3"
  },
  "language_info": {
   "codemirror_mode": {
    "name": "ipython",
    "version": 3
   },
   "file_extension": ".py",
   "mimetype": "text/x-python",
   "name": "python",
   "nbconvert_exporter": "python",
   "pygments_lexer": "ipython3",
   "version": "3.9.12"
  },
  "toc": {
   "base_numbering": 1,
   "nav_menu": {},
   "number_sections": true,
   "sideBar": true,
   "skip_h1_title": true,
   "title_cell": "Table of Contents",
   "title_sidebar": "Contents",
   "toc_cell": false,
   "toc_position": {},
   "toc_section_display": true,
   "toc_window_display": false
  }
 },
 "nbformat": 4,
 "nbformat_minor": 5
}
