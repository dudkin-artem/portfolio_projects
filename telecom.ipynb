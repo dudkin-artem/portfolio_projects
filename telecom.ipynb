{
 "cells": [
  {
   "cell_type": "markdown",
   "id": "0d0da466-5d17-4dc6-a88f-5e7e3e36cc23",
   "metadata": {},
   "source": [
    "## Оглавление:\n",
    "1. Открытие и анализ таблиц\n",
    "2. Расчеты\n",
    "    - количество сделанных звонков и израсходованных минут разговора по месяцам;\n",
    "    - количество отправленных сообщений по месяцам;\n",
    "    - объем израсходованного интернет-трафика по месяцам;\n",
    "    - помесячную выручку с каждого пользователя\n",
    "    - дисперсия\n",
    "3. Проверка гипотез\n",
    "4. Общий вывод. \n"
   ]
  },
  {
   "cell_type": "code",
   "execution_count": 1,
   "id": "c002ee91-3db1-4c9e-9e59-396c592d8b5d",
   "metadata": {},
   "outputs": [],
   "source": [
    "import pandas as pd\n",
    "import numpy as np\n",
    "import math\n",
    "import random\n",
    "import scipy\n",
    "from scipy import stats as st\n",
    "import matplotlib.pyplot as plt"
   ]
  },
  {
   "cell_type": "code",
   "execution_count": 2,
   "id": "25217586-ecd6-4ec8-8492-2833228ba8b7",
   "metadata": {
    "tags": []
   },
   "outputs": [],
   "source": [
    "calls = pd.read_csv('/Users/artem/Desktop/Работы Юпитер/Проект 3/Таблицы/calls.csv')\n",
    "internet = pd.read_csv('/Users/artem/Desktop/Работы Юпитер/Проект 3/Таблицы/internet.csv')\n",
    "messages = pd.read_csv('/Users/artem/Desktop/Работы Юпитер/Проект 3/Таблицы/messages.csv')\n",
    "tariffs = pd.read_csv('/Users/artem/Desktop/Работы Юпитер/Проект 3/Таблицы/tariffs.csv')\n",
    "users = pd.read_csv('/Users/artem/Desktop/Работы Юпитер/Проект 3/Таблицы/users.csv')"
   ]
  },
  {
   "cell_type": "markdown",
   "id": "11075ed6-b0a4-4aa5-9940-fc1920fac576",
   "metadata": {},
   "source": [
    "- Приведите данные к нужным типам;\n",
    "- Найдите и исправьте ошибки в данных, если они есть."
   ]
  },
  {
   "cell_type": "code",
   "execution_count": 3,
   "id": "157feced-4d09-47de-a096-ae4b96ceeffd",
   "metadata": {},
   "outputs": [],
   "source": [
    "#меняем формат дат\n",
    "calls['call_date'] = pd.to_datetime(calls['call_date'])\n",
    "internet['session_date'] = pd.to_datetime(internet['session_date'])\n",
    "messages['message_date'] = pd.to_datetime(messages['message_date'])"
   ]
  },
  {
   "cell_type": "markdown",
   "id": "e40aff33-3b71-41a2-b5e1-afbe385b764e",
   "metadata": {},
   "source": [
    "По условию задачи «Мегалайн» всегда округляет секунды до минут"
   ]
  },
  {
   "cell_type": "code",
   "execution_count": 4,
   "id": "37273f61-5d0d-4059-867b-3271517be294",
   "metadata": {},
   "outputs": [],
   "source": [
    "calls['duration'] = calls['duration'].apply(np.ceil)"
   ]
  },
  {
   "cell_type": "markdown",
   "id": "6e4cf076-8c6c-46d5-abf1-61b16c99c1a9",
   "metadata": {},
   "source": [
    "### 2. Расчеты"
   ]
  },
  {
   "cell_type": "markdown",
   "id": "5079b8fa-bc79-447e-b7e2-b3fdad337d7a",
   "metadata": {},
   "source": [
    "Поставлена задача по расчету для каждого пользователя:\n",
    "- количества сделанных звонков и израсходованных минут разговора по месяцам;\n",
    "- количества отправленных сообщений по месяцам;\n",
    "- объема израсходованного интернет-трафика по месяцам;\n",
    "- помесячную выручку с каждого пользователя (вычтите бесплатный лимит из суммарного количества звонков, сообщений и интернет-трафика; остаток умножьте на значение из тарифного плана; прибавьте абонентскую плату, соответствующую тарифному плану)."
   ]
  },
  {
   "cell_type": "code",
   "execution_count": 5,
   "id": "58007094-3eac-4c29-82fd-eb37884146de",
   "metadata": {},
   "outputs": [],
   "source": [
    "calls['months'] = calls['call_date'].dt.month\n",
    "calls_pivot = calls.pivot_table(index=['user_id','months'], values='duration', aggfunc='sum')\n",
    "calls_pivot = calls_pivot.reset_index()\n",
    "calls_pivot=calls_pivot.rename(columns={'months':'month'})"
   ]
  },
  {
   "cell_type": "code",
   "execution_count": 6,
   "id": "59d6ce42-e031-4b6c-bf0d-4e93666eea98",
   "metadata": {},
   "outputs": [],
   "source": [
    "messages.head()\n",
    "messages['month'] = messages['message_date'].dt.month\n",
    "messages_pivot = messages.pivot_table(index=['user_id', 'month'], values='id', aggfunc='count')\n",
    "messages_pivot = messages_pivot.reset_index()\n",
    "messages_pivot=messages_pivot.rename(columns={'id':'messages'})"
   ]
  },
  {
   "cell_type": "markdown",
   "id": "2f5b3850-7c6b-480a-a50f-b615b55ba64c",
   "metadata": {},
   "source": [
    "Для веб-трафика отдельные сессии не считаются. Вместо этого общая сумма за месяц округляется в бо́льшую сторону.\n",
    "Посчитайте объем израсходованного интернет-трафика по месяцам."
   ]
  },
  {
   "cell_type": "code",
   "execution_count": 7,
   "id": "5a9f2dbc-4413-4d4c-b13e-4ba8d3e20276",
   "metadata": {},
   "outputs": [
    {
     "name": "stdout",
     "output_type": "stream",
     "text": [
      "<class 'pandas.core.frame.DataFrame'>\n",
      "RangeIndex: 3203 entries, 0 to 3202\n",
      "Data columns (total 3 columns):\n",
      " #   Column   Non-Null Count  Dtype  \n",
      "---  ------   --------------  -----  \n",
      " 0   user_id  3203 non-null   int64  \n",
      " 1   month    3203 non-null   int64  \n",
      " 2   mb_used  3203 non-null   float64\n",
      "dtypes: float64(1), int64(2)\n",
      "memory usage: 75.2 KB\n"
     ]
    }
   ],
   "source": [
    "internet['month'] = internet['session_date'].dt.month\n",
    "internet_sum = internet.pivot_table(index=['user_id', 'month'], values='mb_used', aggfunc='sum')\n",
    "internet_sum['mb_used'] = (internet_sum['mb_used']/1024).apply(np.ceil) # приводим к целому значению гигабайт, деля трафик в мб на 1024\n",
    "internet_sum = internet_sum.reset_index()\n",
    "internet_sum.info()"
   ]
  },
  {
   "cell_type": "markdown",
   "id": "1069fd8f-21c0-4fc2-b723-04bce383bfcc",
   "metadata": {},
   "source": [
    "Посчитайте помесячную выручку с каждого пользователя:"
   ]
  },
  {
   "cell_type": "code",
   "execution_count": 8,
   "id": "563e630d-864a-48de-b662-00dc21f133a0",
   "metadata": {},
   "outputs": [
    {
     "name": "stdout",
     "output_type": "stream",
     "text": [
      "      user_id  month  duration  messages  mb_used  age churn_date  \\\n",
      "0        1000      5     159.0      22.0      3.0   52        NaN   \n",
      "1        1000      6     172.0      60.0     23.0   52        NaN   \n",
      "2        1000      7     340.0      75.0     14.0   52        NaN   \n",
      "3        1000      8     408.0      81.0     14.0   52        NaN   \n",
      "4        1000      9     466.0      57.0     15.0   52        NaN   \n",
      "...       ...    ...       ...       ...      ...  ...        ...   \n",
      "3209     1489      9       NaN      32.0     17.0   35        NaN   \n",
      "3210     1489     10       NaN      21.0     20.0   35        NaN   \n",
      "3211     1489     11       NaN      20.0     18.0   35        NaN   \n",
      "3212     1489     12       NaN      35.0     17.0   35        NaN   \n",
      "3213     1476      4       NaN       NaN      1.0   50        NaN   \n",
      "\n",
      "                 city first_name  last_name    reg_date tariff  \n",
      "0           Краснодар     Рафаил  Верещагин  2018-05-25  ultra  \n",
      "1           Краснодар     Рафаил  Верещагин  2018-05-25  ultra  \n",
      "2           Краснодар     Рафаил  Верещагин  2018-05-25  ultra  \n",
      "3           Краснодар     Рафаил  Верещагин  2018-05-25  ultra  \n",
      "4           Краснодар     Рафаил  Верещагин  2018-05-25  ultra  \n",
      "...               ...        ...        ...         ...    ...  \n",
      "3209  Санкт-Петербург      Павел   Гончаров  2018-08-15  smart  \n",
      "3210  Санкт-Петербург      Павел   Гончаров  2018-08-15  smart  \n",
      "3211  Санкт-Петербург      Павел   Гончаров  2018-08-15  smart  \n",
      "3212  Санкт-Петербург      Павел   Гончаров  2018-08-15  smart  \n",
      "3213           Москва  Валентина   Семенова  2018-04-30  ultra  \n",
      "\n",
      "[3214 rows x 12 columns]\n"
     ]
    }
   ],
   "source": [
    "df=calls_pivot.merge(messages_pivot, on=['user_id', 'month'], how='outer')\n",
    "df=df.merge(internet_sum, on=['user_id', 'month'], how='outer')\n",
    "df=df.merge(users, how='left')\n",
    "\n",
    "print(df)"
   ]
  },
  {
   "cell_type": "code",
   "execution_count": 9,
   "id": "7c7aab70-612b-4356-93cc-2b6cc1120082",
   "metadata": {},
   "outputs": [
    {
     "data": {
      "text/html": [
       "<div>\n",
       "<style scoped>\n",
       "    .dataframe tbody tr th:only-of-type {\n",
       "        vertical-align: middle;\n",
       "    }\n",
       "\n",
       "    .dataframe tbody tr th {\n",
       "        vertical-align: top;\n",
       "    }\n",
       "\n",
       "    .dataframe thead th {\n",
       "        text-align: right;\n",
       "    }\n",
       "</style>\n",
       "<table border=\"1\" class=\"dataframe\">\n",
       "  <thead>\n",
       "    <tr style=\"text-align: right;\">\n",
       "      <th></th>\n",
       "      <th>user_id</th>\n",
       "      <th>month</th>\n",
       "      <th>duration</th>\n",
       "      <th>messages</th>\n",
       "      <th>mb_used</th>\n",
       "      <th>age</th>\n",
       "      <th>churn_date</th>\n",
       "      <th>city</th>\n",
       "      <th>first_name</th>\n",
       "      <th>last_name</th>\n",
       "      <th>reg_date</th>\n",
       "      <th>tariff</th>\n",
       "      <th>duration_p</th>\n",
       "      <th>messages_p</th>\n",
       "      <th>internet_p</th>\n",
       "    </tr>\n",
       "  </thead>\n",
       "  <tbody>\n",
       "    <tr>\n",
       "      <th>0</th>\n",
       "      <td>1000</td>\n",
       "      <td>5</td>\n",
       "      <td>159.0</td>\n",
       "      <td>22.0</td>\n",
       "      <td>3.0</td>\n",
       "      <td>52</td>\n",
       "      <td>NaN</td>\n",
       "      <td>Краснодар</td>\n",
       "      <td>Рафаил</td>\n",
       "      <td>Верещагин</td>\n",
       "      <td>2018-05-25</td>\n",
       "      <td>ultra</td>\n",
       "      <td>-2841.0</td>\n",
       "      <td>-978.0</td>\n",
       "      <td>-27.0</td>\n",
       "    </tr>\n",
       "    <tr>\n",
       "      <th>1</th>\n",
       "      <td>1000</td>\n",
       "      <td>6</td>\n",
       "      <td>172.0</td>\n",
       "      <td>60.0</td>\n",
       "      <td>23.0</td>\n",
       "      <td>52</td>\n",
       "      <td>NaN</td>\n",
       "      <td>Краснодар</td>\n",
       "      <td>Рафаил</td>\n",
       "      <td>Верещагин</td>\n",
       "      <td>2018-05-25</td>\n",
       "      <td>ultra</td>\n",
       "      <td>-2828.0</td>\n",
       "      <td>-940.0</td>\n",
       "      <td>-7.0</td>\n",
       "    </tr>\n",
       "    <tr>\n",
       "      <th>2</th>\n",
       "      <td>1000</td>\n",
       "      <td>7</td>\n",
       "      <td>340.0</td>\n",
       "      <td>75.0</td>\n",
       "      <td>14.0</td>\n",
       "      <td>52</td>\n",
       "      <td>NaN</td>\n",
       "      <td>Краснодар</td>\n",
       "      <td>Рафаил</td>\n",
       "      <td>Верещагин</td>\n",
       "      <td>2018-05-25</td>\n",
       "      <td>ultra</td>\n",
       "      <td>-2660.0</td>\n",
       "      <td>-925.0</td>\n",
       "      <td>-16.0</td>\n",
       "    </tr>\n",
       "    <tr>\n",
       "      <th>3</th>\n",
       "      <td>1000</td>\n",
       "      <td>8</td>\n",
       "      <td>408.0</td>\n",
       "      <td>81.0</td>\n",
       "      <td>14.0</td>\n",
       "      <td>52</td>\n",
       "      <td>NaN</td>\n",
       "      <td>Краснодар</td>\n",
       "      <td>Рафаил</td>\n",
       "      <td>Верещагин</td>\n",
       "      <td>2018-05-25</td>\n",
       "      <td>ultra</td>\n",
       "      <td>-2592.0</td>\n",
       "      <td>-919.0</td>\n",
       "      <td>-16.0</td>\n",
       "    </tr>\n",
       "    <tr>\n",
       "      <th>4</th>\n",
       "      <td>1000</td>\n",
       "      <td>9</td>\n",
       "      <td>466.0</td>\n",
       "      <td>57.0</td>\n",
       "      <td>15.0</td>\n",
       "      <td>52</td>\n",
       "      <td>NaN</td>\n",
       "      <td>Краснодар</td>\n",
       "      <td>Рафаил</td>\n",
       "      <td>Верещагин</td>\n",
       "      <td>2018-05-25</td>\n",
       "      <td>ultra</td>\n",
       "      <td>-2534.0</td>\n",
       "      <td>-943.0</td>\n",
       "      <td>-15.0</td>\n",
       "    </tr>\n",
       "    <tr>\n",
       "      <th>...</th>\n",
       "      <td>...</td>\n",
       "      <td>...</td>\n",
       "      <td>...</td>\n",
       "      <td>...</td>\n",
       "      <td>...</td>\n",
       "      <td>...</td>\n",
       "      <td>...</td>\n",
       "      <td>...</td>\n",
       "      <td>...</td>\n",
       "      <td>...</td>\n",
       "      <td>...</td>\n",
       "      <td>...</td>\n",
       "      <td>...</td>\n",
       "      <td>...</td>\n",
       "      <td>...</td>\n",
       "    </tr>\n",
       "    <tr>\n",
       "      <th>3209</th>\n",
       "      <td>1489</td>\n",
       "      <td>9</td>\n",
       "      <td>NaN</td>\n",
       "      <td>32.0</td>\n",
       "      <td>17.0</td>\n",
       "      <td>35</td>\n",
       "      <td>NaN</td>\n",
       "      <td>Санкт-Петербург</td>\n",
       "      <td>Павел</td>\n",
       "      <td>Гончаров</td>\n",
       "      <td>2018-08-15</td>\n",
       "      <td>smart</td>\n",
       "      <td>NaN</td>\n",
       "      <td>-18.0</td>\n",
       "      <td>2.0</td>\n",
       "    </tr>\n",
       "    <tr>\n",
       "      <th>3210</th>\n",
       "      <td>1489</td>\n",
       "      <td>10</td>\n",
       "      <td>NaN</td>\n",
       "      <td>21.0</td>\n",
       "      <td>20.0</td>\n",
       "      <td>35</td>\n",
       "      <td>NaN</td>\n",
       "      <td>Санкт-Петербург</td>\n",
       "      <td>Павел</td>\n",
       "      <td>Гончаров</td>\n",
       "      <td>2018-08-15</td>\n",
       "      <td>smart</td>\n",
       "      <td>NaN</td>\n",
       "      <td>-29.0</td>\n",
       "      <td>5.0</td>\n",
       "    </tr>\n",
       "    <tr>\n",
       "      <th>3211</th>\n",
       "      <td>1489</td>\n",
       "      <td>11</td>\n",
       "      <td>NaN</td>\n",
       "      <td>20.0</td>\n",
       "      <td>18.0</td>\n",
       "      <td>35</td>\n",
       "      <td>NaN</td>\n",
       "      <td>Санкт-Петербург</td>\n",
       "      <td>Павел</td>\n",
       "      <td>Гончаров</td>\n",
       "      <td>2018-08-15</td>\n",
       "      <td>smart</td>\n",
       "      <td>NaN</td>\n",
       "      <td>-30.0</td>\n",
       "      <td>3.0</td>\n",
       "    </tr>\n",
       "    <tr>\n",
       "      <th>3212</th>\n",
       "      <td>1489</td>\n",
       "      <td>12</td>\n",
       "      <td>NaN</td>\n",
       "      <td>35.0</td>\n",
       "      <td>17.0</td>\n",
       "      <td>35</td>\n",
       "      <td>NaN</td>\n",
       "      <td>Санкт-Петербург</td>\n",
       "      <td>Павел</td>\n",
       "      <td>Гончаров</td>\n",
       "      <td>2018-08-15</td>\n",
       "      <td>smart</td>\n",
       "      <td>NaN</td>\n",
       "      <td>-15.0</td>\n",
       "      <td>2.0</td>\n",
       "    </tr>\n",
       "    <tr>\n",
       "      <th>3213</th>\n",
       "      <td>1476</td>\n",
       "      <td>4</td>\n",
       "      <td>NaN</td>\n",
       "      <td>NaN</td>\n",
       "      <td>1.0</td>\n",
       "      <td>50</td>\n",
       "      <td>NaN</td>\n",
       "      <td>Москва</td>\n",
       "      <td>Валентина</td>\n",
       "      <td>Семенова</td>\n",
       "      <td>2018-04-30</td>\n",
       "      <td>ultra</td>\n",
       "      <td>NaN</td>\n",
       "      <td>NaN</td>\n",
       "      <td>-29.0</td>\n",
       "    </tr>\n",
       "  </tbody>\n",
       "</table>\n",
       "<p>3214 rows × 15 columns</p>\n",
       "</div>"
      ],
      "text/plain": [
       "      user_id  month  duration  messages  mb_used  age churn_date  \\\n",
       "0        1000      5     159.0      22.0      3.0   52        NaN   \n",
       "1        1000      6     172.0      60.0     23.0   52        NaN   \n",
       "2        1000      7     340.0      75.0     14.0   52        NaN   \n",
       "3        1000      8     408.0      81.0     14.0   52        NaN   \n",
       "4        1000      9     466.0      57.0     15.0   52        NaN   \n",
       "...       ...    ...       ...       ...      ...  ...        ...   \n",
       "3209     1489      9       NaN      32.0     17.0   35        NaN   \n",
       "3210     1489     10       NaN      21.0     20.0   35        NaN   \n",
       "3211     1489     11       NaN      20.0     18.0   35        NaN   \n",
       "3212     1489     12       NaN      35.0     17.0   35        NaN   \n",
       "3213     1476      4       NaN       NaN      1.0   50        NaN   \n",
       "\n",
       "                 city first_name  last_name    reg_date tariff  duration_p  \\\n",
       "0           Краснодар     Рафаил  Верещагин  2018-05-25  ultra     -2841.0   \n",
       "1           Краснодар     Рафаил  Верещагин  2018-05-25  ultra     -2828.0   \n",
       "2           Краснодар     Рафаил  Верещагин  2018-05-25  ultra     -2660.0   \n",
       "3           Краснодар     Рафаил  Верещагин  2018-05-25  ultra     -2592.0   \n",
       "4           Краснодар     Рафаил  Верещагин  2018-05-25  ultra     -2534.0   \n",
       "...               ...        ...        ...         ...    ...         ...   \n",
       "3209  Санкт-Петербург      Павел   Гончаров  2018-08-15  smart         NaN   \n",
       "3210  Санкт-Петербург      Павел   Гончаров  2018-08-15  smart         NaN   \n",
       "3211  Санкт-Петербург      Павел   Гончаров  2018-08-15  smart         NaN   \n",
       "3212  Санкт-Петербург      Павел   Гончаров  2018-08-15  smart         NaN   \n",
       "3213           Москва  Валентина   Семенова  2018-04-30  ultra         NaN   \n",
       "\n",
       "      messages_p  internet_p  \n",
       "0         -978.0       -27.0  \n",
       "1         -940.0        -7.0  \n",
       "2         -925.0       -16.0  \n",
       "3         -919.0       -16.0  \n",
       "4         -943.0       -15.0  \n",
       "...          ...         ...  \n",
       "3209       -18.0         2.0  \n",
       "3210       -29.0         5.0  \n",
       "3211       -30.0         3.0  \n",
       "3212       -15.0         2.0  \n",
       "3213         NaN       -29.0  \n",
       "\n",
       "[3214 rows x 15 columns]"
      ]
     },
     "execution_count": 9,
     "metadata": {},
     "output_type": "execute_result"
    }
   ],
   "source": [
    "calls_pivot_reset=df.copy()\n",
    "# здесь и ниже значения постоянны и берутся из условий тарифа\n",
    "# в случае работы по нескольким тарифам можно настроить работу через переменную\n",
    "calls_pivot_reset.loc[calls_pivot_reset['tariff'] == 'ultra', 'duration_p'] = calls_pivot_reset['duration']-3000 #остаток минут в пакете\n",
    "calls_pivot_reset.loc[calls_pivot_reset['tariff'] == 'smart', 'duration_p'] = calls_pivot_reset['duration']-500\n",
    "\n",
    "calls_pivot_reset.loc[calls_pivot_reset['tariff'] == 'ultra', 'messages_p'] = calls_pivot_reset['messages']-1000 #остаток сообщений в пакете\n",
    "calls_pivot_reset.loc[calls_pivot_reset['tariff'] == 'smart', 'messages_p'] = calls_pivot_reset['messages']-50\n",
    "\n",
    "calls_pivot_reset.loc[calls_pivot_reset['tariff'] == 'ultra', 'internet_p'] = calls_pivot_reset['mb_used']-(30720/1024) #остаток гигабайт в пакете\n",
    "calls_pivot_reset.loc[calls_pivot_reset['tariff'] == 'smart', 'internet_p'] = calls_pivot_reset['mb_used']-(15360/1024)\n",
    "\n",
    "calls_pivot_reset # итоговая таблица\n",
    "# если число в duration_p и тд отрицательное, то пользователь платит только абонентскую плату\n",
    "# если положительное - то в следующем шаге по этому числу будет рассчитан дополнительный доход компании"
   ]
  },
  {
   "cell_type": "code",
   "execution_count": 10,
   "id": "73946299-6f5a-4be6-ad04-621c8eaad153",
   "metadata": {},
   "outputs": [],
   "source": [
    "calls_pivot_reset = calls_pivot_reset.fillna(0)"
   ]
  },
  {
   "cell_type": "code",
   "execution_count": 11,
   "id": "a9366698-0a8d-4955-a62e-b26a36b22371",
   "metadata": {},
   "outputs": [
    {
     "name": "stdout",
     "output_type": "stream",
     "text": [
      "      user_id  duration_p  messages_p  internet_p tariff             city  \\\n",
      "0        1000     -2841.0      -978.0       -27.0  ultra        Краснодар   \n",
      "1        1000     -2828.0      -940.0        -7.0  ultra        Краснодар   \n",
      "2        1000     -2660.0      -925.0       -16.0  ultra        Краснодар   \n",
      "3        1000     -2592.0      -919.0       -16.0  ultra        Краснодар   \n",
      "4        1000     -2534.0      -943.0       -15.0  ultra        Краснодар   \n",
      "...       ...         ...         ...         ...    ...              ...   \n",
      "3209     1489         0.0       -18.0         2.0  smart  Санкт-Петербург   \n",
      "3210     1489         0.0       -29.0         5.0  smart  Санкт-Петербург   \n",
      "3211     1489         0.0       -30.0         3.0  smart  Санкт-Петербург   \n",
      "3212     1489         0.0       -15.0         2.0  smart  Санкт-Петербург   \n",
      "3213     1476         0.0         0.0       -29.0  ultra           Москва   \n",
      "\n",
      "      duration_b  messages_b  internet_b  month_revenue  \n",
      "0            0.0         0.0         0.0         1950.0  \n",
      "1            0.0         0.0         0.0         1950.0  \n",
      "2            0.0         0.0         0.0         1950.0  \n",
      "3            0.0         0.0         0.0         1950.0  \n",
      "4            0.0         0.0         0.0         1950.0  \n",
      "...          ...         ...         ...            ...  \n",
      "3209         0.0         0.0       400.0          950.0  \n",
      "3210         0.0         0.0      1000.0         1550.0  \n",
      "3211         0.0         0.0       600.0         1150.0  \n",
      "3212         0.0         0.0       400.0          950.0  \n",
      "3213         0.0         0.0         0.0         1950.0  \n",
      "\n",
      "[3214 rows x 10 columns]\n"
     ]
    }
   ],
   "source": [
    "#создадим новый ДФ для более простой работы\n",
    "cpr_profit=pd.DataFrame(calls_pivot_reset, columns=['user_id', 'duration_p', 'messages_p', 'internet_p', 'tariff', 'city'])\n",
    "\n",
    "# считаем выручку за минуты\n",
    "cpr_profit.loc[(cpr_profit['tariff'] == 'ultra') & (cpr_profit['duration_p'] > 0), 'duration_b'] = cpr_profit['duration_p']*1\n",
    "cpr_profit.loc[(cpr_profit['tariff'] == 'smart') & (cpr_profit['duration_p'] > 0), 'duration_b'] = cpr_profit['duration_p']*3\n",
    "cpr_profit['duration_b'] = cpr_profit['duration_b'].fillna(0)\n",
    "\n",
    "# считаем выручку за сообщения \n",
    "cpr_profit.loc[(cpr_profit['tariff'] == 'ultra') & (cpr_profit['messages_p'] > 0), 'messages_b'] = cpr_profit['messages_p']*1\n",
    "cpr_profit.loc[(cpr_profit['tariff'] == 'smart') & (cpr_profit['messages_p'] > 0), 'messages_b'] = cpr_profit['messages_p']*3\n",
    "cpr_profit['messages_b'] = cpr_profit['messages_b'].fillna(0)\n",
    "\n",
    "# считаем выручку за гигабайты\n",
    "cpr_profit.loc[(cpr_profit['tariff'] == 'ultra') & (cpr_profit['internet_p'] > 0), 'internet_b'] = cpr_profit['internet_p']*150\n",
    "cpr_profit.loc[(cpr_profit['tariff'] == 'smart') & (cpr_profit['internet_p'] > 0), 'internet_b'] = cpr_profit['internet_p']*200\n",
    "cpr_profit['internet_b'] = cpr_profit['internet_b'].fillna(0)\n",
    "\n",
    "#считаем помесячную выручку\n",
    "cpr_profit.loc[(cpr_profit['tariff'] == 'ultra'), 'month_revenue'] = 1950+cpr_profit['duration_b']+cpr_profit['messages_b']+cpr_profit['internet_b']\n",
    "cpr_profit.loc[(cpr_profit['tariff'] == 'smart'), 'month_revenue'] = 550+cpr_profit['duration_b']+cpr_profit['messages_b']+cpr_profit['internet_b']\n",
    "\n",
    "print(cpr_profit)"
   ]
  },
  {
   "cell_type": "code",
   "execution_count": 12,
   "id": "501f16d4-79fb-4e5f-b4c2-19380a983567",
   "metadata": {},
   "outputs": [
    {
     "name": "stdout",
     "output_type": "stream",
     "text": [
      "Средняя выручка по клиенту на Ультре составляет 2071.0, на Смарте - 1290.0\n",
      "Общая выручка по клиентам на Ультре составляет 2039100.0, на Смарте - 2875351.0\n",
      "Средняя выручка по клиентам из Москвы составляет 1547.0, из регионов - 1525.0\n"
     ]
    }
   ],
   "source": [
    "mdu=np.ceil(cpr_profit.query('tariff == \"ultra\"')['month_revenue'].mean())\n",
    "mds=np.ceil(cpr_profit.query('tariff == \"smart\"')['month_revenue'].mean())\n",
    "\n",
    "mvu = np.ceil(cpr_profit.query('tariff == \"ultra\"')['month_revenue'].sum())\n",
    "mvs = np.ceil(cpr_profit.query('tariff == \"smart\"')['month_revenue'].sum())\n",
    "\n",
    "mu = np.ceil(cpr_profit.query('city == \"Москва\"')['month_revenue'].mean())\n",
    "ou = np.ceil(cpr_profit.query('city != \"Москва\"')['month_revenue'].mean())\n",
    "\n",
    "print(f'Средняя выручка по клиенту на Ультре составляет {mdu}, на Смарте - {mds}')\n",
    "print(f'Общая выручка по клиентам на Ультре составляет {mvu}, на Смарте - {mvs}')\n",
    "print(f'Средняя выручка по клиентам из Москвы составляет {mu}, из регионов - {ou}')"
   ]
  },
  {
   "cell_type": "code",
   "execution_count": 13,
   "id": "d174ca52-f00d-407e-8adb-b3d579529074",
   "metadata": {},
   "outputs": [
    {
     "data": {
      "text/html": [
       "<div>\n",
       "<style scoped>\n",
       "    .dataframe tbody tr th:only-of-type {\n",
       "        vertical-align: middle;\n",
       "    }\n",
       "\n",
       "    .dataframe tbody tr th {\n",
       "        vertical-align: top;\n",
       "    }\n",
       "\n",
       "    .dataframe thead th {\n",
       "        text-align: right;\n",
       "    }\n",
       "</style>\n",
       "<table border=\"1\" class=\"dataframe\">\n",
       "  <thead>\n",
       "    <tr style=\"text-align: right;\">\n",
       "      <th></th>\n",
       "      <th>user_id</th>\n",
       "      <th>duration_p</th>\n",
       "      <th>messages_p</th>\n",
       "      <th>internet_p</th>\n",
       "      <th>duration_b</th>\n",
       "      <th>messages_b</th>\n",
       "      <th>internet_b</th>\n",
       "      <th>month_revenue</th>\n",
       "    </tr>\n",
       "    <tr>\n",
       "      <th>tariff</th>\n",
       "      <th></th>\n",
       "      <th></th>\n",
       "      <th></th>\n",
       "      <th></th>\n",
       "      <th></th>\n",
       "      <th></th>\n",
       "      <th></th>\n",
       "      <th></th>\n",
       "    </tr>\n",
       "  </thead>\n",
       "  <tbody>\n",
       "    <tr>\n",
       "      <th>smart</th>\n",
       "      <td>2778463</td>\n",
       "      <td>-179923.0</td>\n",
       "      <td>-21687.0</td>\n",
       "      <td>2977.0</td>\n",
       "      <td>278217.0</td>\n",
       "      <td>38784.0</td>\n",
       "      <td>1332400.0</td>\n",
       "      <td>2875351.0</td>\n",
       "    </tr>\n",
       "    <tr>\n",
       "      <th>ultra</th>\n",
       "      <td>1244148</td>\n",
       "      <td>-2334276.0</td>\n",
       "      <td>-746377.0</td>\n",
       "      <td>-10048.0</td>\n",
       "      <td>0.0</td>\n",
       "      <td>0.0</td>\n",
       "      <td>118350.0</td>\n",
       "      <td>2039100.0</td>\n",
       "    </tr>\n",
       "  </tbody>\n",
       "</table>\n",
       "</div>"
      ],
      "text/plain": [
       "        user_id  duration_p  messages_p  internet_p  duration_b  messages_b  \\\n",
       "tariff                                                                        \n",
       "smart   2778463   -179923.0    -21687.0      2977.0    278217.0     38784.0   \n",
       "ultra   1244148  -2334276.0   -746377.0    -10048.0         0.0         0.0   \n",
       "\n",
       "        internet_b  month_revenue  \n",
       "tariff                             \n",
       "smart    1332400.0      2875351.0  \n",
       "ultra     118350.0      2039100.0  "
      ]
     },
     "execution_count": 13,
     "metadata": {},
     "output_type": "execute_result"
    }
   ],
   "source": [
    "cpr_profit.pivot_table(index='tariff', values='month_revenue', aggfunc=['mean', 'sum'])\n",
    "cpr_profit.groupby('tariff').agg(sum)"
   ]
  },
  {
   "cell_type": "code",
   "execution_count": 14,
   "id": "cfcd3507-8a1a-48ea-891a-211f729c6adf",
   "metadata": {},
   "outputs": [
    {
     "data": {
      "text/html": [
       "<div>\n",
       "<style scoped>\n",
       "    .dataframe tbody tr th:only-of-type {\n",
       "        vertical-align: middle;\n",
       "    }\n",
       "\n",
       "    .dataframe tbody tr th {\n",
       "        vertical-align: top;\n",
       "    }\n",
       "\n",
       "    .dataframe thead th {\n",
       "        text-align: right;\n",
       "    }\n",
       "</style>\n",
       "<table border=\"1\" class=\"dataframe\">\n",
       "  <thead>\n",
       "    <tr style=\"text-align: right;\">\n",
       "      <th></th>\n",
       "      <th>user_id</th>\n",
       "      <th>month</th>\n",
       "      <th>duration</th>\n",
       "      <th>mb_used</th>\n",
       "      <th>messages</th>\n",
       "    </tr>\n",
       "  </thead>\n",
       "  <tbody>\n",
       "    <tr>\n",
       "      <th>0</th>\n",
       "      <td>1000</td>\n",
       "      <td>5</td>\n",
       "      <td>159.0</td>\n",
       "      <td>3.0</td>\n",
       "      <td>22.0</td>\n",
       "    </tr>\n",
       "    <tr>\n",
       "      <th>1</th>\n",
       "      <td>1000</td>\n",
       "      <td>6</td>\n",
       "      <td>172.0</td>\n",
       "      <td>23.0</td>\n",
       "      <td>60.0</td>\n",
       "    </tr>\n",
       "    <tr>\n",
       "      <th>2</th>\n",
       "      <td>1000</td>\n",
       "      <td>7</td>\n",
       "      <td>340.0</td>\n",
       "      <td>14.0</td>\n",
       "      <td>75.0</td>\n",
       "    </tr>\n",
       "    <tr>\n",
       "      <th>3</th>\n",
       "      <td>1000</td>\n",
       "      <td>8</td>\n",
       "      <td>408.0</td>\n",
       "      <td>14.0</td>\n",
       "      <td>81.0</td>\n",
       "    </tr>\n",
       "    <tr>\n",
       "      <th>4</th>\n",
       "      <td>1000</td>\n",
       "      <td>9</td>\n",
       "      <td>466.0</td>\n",
       "      <td>15.0</td>\n",
       "      <td>57.0</td>\n",
       "    </tr>\n",
       "    <tr>\n",
       "      <th>...</th>\n",
       "      <td>...</td>\n",
       "      <td>...</td>\n",
       "      <td>...</td>\n",
       "      <td>...</td>\n",
       "      <td>...</td>\n",
       "    </tr>\n",
       "    <tr>\n",
       "      <th>3209</th>\n",
       "      <td>1498</td>\n",
       "      <td>10</td>\n",
       "      <td>247.0</td>\n",
       "      <td>21.0</td>\n",
       "      <td>42.0</td>\n",
       "    </tr>\n",
       "    <tr>\n",
       "      <th>3210</th>\n",
       "      <td>1499</td>\n",
       "      <td>9</td>\n",
       "      <td>70.0</td>\n",
       "      <td>2.0</td>\n",
       "      <td>11.0</td>\n",
       "    </tr>\n",
       "    <tr>\n",
       "      <th>3211</th>\n",
       "      <td>1499</td>\n",
       "      <td>10</td>\n",
       "      <td>449.0</td>\n",
       "      <td>18.0</td>\n",
       "      <td>48.0</td>\n",
       "    </tr>\n",
       "    <tr>\n",
       "      <th>3212</th>\n",
       "      <td>1499</td>\n",
       "      <td>11</td>\n",
       "      <td>612.0</td>\n",
       "      <td>18.0</td>\n",
       "      <td>59.0</td>\n",
       "    </tr>\n",
       "    <tr>\n",
       "      <th>3213</th>\n",
       "      <td>1499</td>\n",
       "      <td>12</td>\n",
       "      <td>492.0</td>\n",
       "      <td>13.0</td>\n",
       "      <td>66.0</td>\n",
       "    </tr>\n",
       "  </tbody>\n",
       "</table>\n",
       "<p>3214 rows × 5 columns</p>\n",
       "</div>"
      ],
      "text/plain": [
       "      user_id  month  duration  mb_used  messages\n",
       "0        1000      5     159.0      3.0      22.0\n",
       "1        1000      6     172.0     23.0      60.0\n",
       "2        1000      7     340.0     14.0      75.0\n",
       "3        1000      8     408.0     14.0      81.0\n",
       "4        1000      9     466.0     15.0      57.0\n",
       "...       ...    ...       ...      ...       ...\n",
       "3209     1498     10     247.0     21.0      42.0\n",
       "3210     1499      9      70.0      2.0      11.0\n",
       "3211     1499     10     449.0     18.0      48.0\n",
       "3212     1499     11     612.0     18.0      59.0\n",
       "3213     1499     12     492.0     13.0      66.0\n",
       "\n",
       "[3214 rows x 5 columns]"
      ]
     },
     "execution_count": 14,
     "metadata": {},
     "output_type": "execute_result"
    }
   ],
   "source": [
    "# Опишите поведение клиентов оператора, исходя из выборки. \n",
    "# Сколько минут разговора, сколько сообщений и какой объём интернет-трафика требуется пользователям каждого тарифа в месяц? \n",
    "\n",
    "calls_pivot_reset.pivot_table(index=['user_id', 'month'], values=['duration', 'messages', 'mb_used'], aggfunc='sum').reset_index()\n"
   ]
  },
  {
   "cell_type": "markdown",
   "id": "0c4ae54c-5d04-4e93-86a3-a1e42abb6a75",
   "metadata": {},
   "source": [
    "Сколько минут разговора, сколько сообщений и какой объём интернет-трафика требуется пользователям каждого тарифа в месяц? "
   ]
  },
  {
   "cell_type": "code",
   "execution_count": 15,
   "id": "a368caa2-1281-4b38-9042-431294671ca2",
   "metadata": {},
   "outputs": [
    {
     "name": "stdout",
     "output_type": "stream",
     "text": [
      "Среднее количество минут, необходимое на тарифе Ультра - 518, сообщений - 38, интернета - 19 гигабайт\n",
      "Среднее количество минут, необходимое на тарифе Смарт - 422, сообщений - 28, интернета - 17 гигабайт\n"
     ]
    }
   ],
   "source": [
    "# используя медиану определим средние по минутам, трафику и сообщениям для каждого тарифа, чтобы сформировать промежуточный вывод\n",
    "sdu = int(calls_pivot_reset.query('tariff == \"ultra\"')['duration'].median())\n",
    "mu = int(calls_pivot_reset.query('tariff == \"ultra\"')['messages'].median())\n",
    "iu = int(calls_pivot_reset.query('tariff == \"ultra\"')['mb_used'].median())\n",
    "\n",
    "sds = int(calls_pivot_reset.query('tariff == \"smart\"')['duration'].median())\n",
    "ms = int(calls_pivot_reset.query('tariff == \"smart\"')['messages'].median())\n",
    "iss = int(calls_pivot_reset.query('tariff == \"smart\"')['mb_used'].median())\n",
    "\n",
    "print(f'Среднее количество минут, необходимое на тарифе Ультра - {sdu}, сообщений - {mu}, интернета - {iu} гигабайт')\n",
    "print(f'Среднее количество минут, необходимое на тарифе Смарт - {sds}, сообщений - {ms}, интернета - {iss} гигабайт')"
   ]
  },
  {
   "cell_type": "code",
   "execution_count": 16,
   "id": "5f7dda40-f6a1-48bb-b57b-2fb40baa53d7",
   "metadata": {},
   "outputs": [
    {
     "name": "stderr",
     "output_type": "stream",
     "text": [
      "/var/folders/vr/wml9hs7s5wzchnjvgzn6ddjc0000gn/T/ipykernel_12647/670520070.py:1: FutureWarning: Indexing with multiple keys (implicitly converted to a tuple of keys) will be deprecated, use a list instead.\n",
      "  calls_pivot_reset.groupby('tariff')['duration', 'messages', 'mb_used'].median()\n"
     ]
    },
    {
     "data": {
      "text/html": [
       "<div>\n",
       "<style scoped>\n",
       "    .dataframe tbody tr th:only-of-type {\n",
       "        vertical-align: middle;\n",
       "    }\n",
       "\n",
       "    .dataframe tbody tr th {\n",
       "        vertical-align: top;\n",
       "    }\n",
       "\n",
       "    .dataframe thead th {\n",
       "        text-align: right;\n",
       "    }\n",
       "</style>\n",
       "<table border=\"1\" class=\"dataframe\">\n",
       "  <thead>\n",
       "    <tr style=\"text-align: right;\">\n",
       "      <th></th>\n",
       "      <th>duration</th>\n",
       "      <th>messages</th>\n",
       "      <th>mb_used</th>\n",
       "    </tr>\n",
       "    <tr>\n",
       "      <th>tariff</th>\n",
       "      <th></th>\n",
       "      <th></th>\n",
       "      <th></th>\n",
       "    </tr>\n",
       "  </thead>\n",
       "  <tbody>\n",
       "    <tr>\n",
       "      <th>smart</th>\n",
       "      <td>422.0</td>\n",
       "      <td>28.0</td>\n",
       "      <td>17.0</td>\n",
       "    </tr>\n",
       "    <tr>\n",
       "      <th>ultra</th>\n",
       "      <td>518.0</td>\n",
       "      <td>38.0</td>\n",
       "      <td>19.0</td>\n",
       "    </tr>\n",
       "  </tbody>\n",
       "</table>\n",
       "</div>"
      ],
      "text/plain": [
       "        duration  messages  mb_used\n",
       "tariff                             \n",
       "smart      422.0      28.0     17.0\n",
       "ultra      518.0      38.0     19.0"
      ]
     },
     "execution_count": 16,
     "metadata": {},
     "output_type": "execute_result"
    }
   ],
   "source": [
    "calls_pivot_reset.groupby('tariff')['duration', 'messages', 'mb_used'].median()"
   ]
  },
  {
   "cell_type": "code",
   "execution_count": 17,
   "id": "fb934bf4-bbaf-49cf-93d8-cb19bb2a2737",
   "metadata": {},
   "outputs": [
    {
     "data": {
      "text/plain": [
       "<matplotlib.legend.Legend at 0x7fcd905a9730>"
      ]
     },
     "execution_count": 17,
     "metadata": {},
     "output_type": "execute_result"
    },
    {
     "data": {
      "image/png": "[encoded data removed]",
      "text/plain": [
       "<Figure size 432x288 with 1 Axes>"
      ]
     },
     "metadata": {
      "needs_background": "light"
     },
     "output_type": "display_data"
    }
   ],
   "source": [
    "#гистограммы распределения среднего\n",
    "calls_pivot_reset.query('tariff == \"ultra\"')['duration'].hist(bins=30, alpha=0.6, label='ultra', color='c')\n",
    "calls_pivot_reset.query('tariff == \"smart\"')['duration'].hist(bins=30, alpha=0.6, label='smart', color='orange')\n",
    "plt.legend()"
   ]
  },
  {
   "cell_type": "code",
   "execution_count": 18,
   "id": "9ea500ea-4a7b-405d-b574-0d00b880d141",
   "metadata": {},
   "outputs": [
    {
     "data": {
      "text/plain": [
       "<matplotlib.legend.Legend at 0x7fcd905a9e20>"
      ]
     },
     "execution_count": 18,
     "metadata": {},
     "output_type": "execute_result"
    },
    {
     "data": {
      "image/png": "[encoded data removed]",
      "text/plain": [
       "<Figure size 432x288 with 1 Axes>"
      ]
     },
     "metadata": {
      "needs_background": "light"
     },
     "output_type": "display_data"
    }
   ],
   "source": [
    "#гистограмма по сообщениям\n",
    "calls_pivot_reset.query('tariff == \"ultra\"')['messages'].hist(bins=30, alpha=0.6, label='ultra', color='c')\n",
    "calls_pivot_reset.query('tariff == \"smart\"')['messages'].hist(bins=30, alpha=0.6, label='smart', color='orange')\n",
    "plt.legend()"
   ]
  },
  {
   "cell_type": "code",
   "execution_count": 19,
   "id": "103c7ab7-4df3-4124-a2c2-bb6a13393fee",
   "metadata": {},
   "outputs": [
    {
     "data": {
      "text/plain": [
       "<matplotlib.legend.Legend at 0x7fcd8b2e2f40>"
      ]
     },
     "execution_count": 19,
     "metadata": {},
     "output_type": "execute_result"
    },
    {
     "data": {
      "image/png": "[encoded data removed]",
      "text/plain": [
       "<Figure size 432x288 with 1 Axes>"
      ]
     },
     "metadata": {
      "needs_background": "light"
     },
     "output_type": "display_data"
    }
   ],
   "source": [
    "#гистограмма по траффику\n",
    "calls_pivot_reset.query('tariff == \"ultra\"')['mb_used'].hist(bins=30, alpha=0.6, label='ultra', color='c')\n",
    "calls_pivot_reset.query('tariff == \"smart\"')['mb_used'].hist(bins=30, alpha=0.6, label='smart', color='orange')\n",
    "plt.legend()"
   ]
  },
  {
   "cell_type": "markdown",
   "id": "65e3650e-484f-41b9-9761-46476c63f8bd",
   "metadata": {},
   "source": [
    "Посчитайте среднее количество, дисперсию и стандартное отклонение. Постройте гистограммы. Опишите распределения."
   ]
  },
  {
   "cell_type": "code",
   "execution_count": 20,
   "id": "9aba7123-ca62-40fb-aabf-a2a1861c5ef7",
   "metadata": {},
   "outputs": [
    {
     "name": "stdout",
     "output_type": "stream",
     "text": [
      "Средий расход минут в общем: 451, по тарифу \"Ультра\" - 527, по тарифу \"Смарт\" - 419, при этом количество пользователей \"Ультра\" = 148, а \"Смарт\" = 350\n"
     ]
    }
   ],
   "source": [
    "mean = calls_pivot_reset.pivot_table(index='user_id', values='mb_used', aggfunc='mean').mean()\n",
    "\n",
    "# по заданию требуется считать среднюю, а не медиану, поэтому цифры будут незначительно отличаться от значений в ячейке 37\n",
    "\n",
    "xd = calls_pivot_reset.pivot_table(index='user_id', values='duration', aggfunc='mean').mean()\n",
    "xdu = calls_pivot_reset.query('tariff == \"ultra\"').pivot_table(index='user_id', values='duration', aggfunc='mean').mean()\n",
    "xds = calls_pivot_reset.query('tariff == \"smart\"').pivot_table(index='user_id', values='duration', aggfunc='mean').mean()\n",
    "xdup = calls_pivot_reset.query('tariff == \"ultra\"').pivot_table(index='user_id', values='duration', aggfunc='mean').count()\n",
    "xdsp = calls_pivot_reset.query('tariff == \"smart\"').pivot_table(index='user_id', values='duration', aggfunc='mean').count()\n",
    "\n",
    "print(f'Средий расход минут в общем: {int(xd[0])}, по тарифу \"Ультра\" - {int(xdu[0])}, по тарифу \"Смарт\" - {int(xds[0])}, при этом количество пользователей \"Ультра\" = {int(xdup[0])}, а \"Смарт\" = {int(xdsp[0])}')"
   ]
  },
  {
   "cell_type": "code",
   "execution_count": 21,
   "id": "2ab5f8ef-a4c7-4c27-8142-291660702e70",
   "metadata": {},
   "outputs": [
    {
     "data": {
      "text/html": [
       "<div>\n",
       "<style scoped>\n",
       "    .dataframe tbody tr th:only-of-type {\n",
       "        vertical-align: middle;\n",
       "    }\n",
       "\n",
       "    .dataframe tbody tr th {\n",
       "        vertical-align: top;\n",
       "    }\n",
       "\n",
       "    .dataframe thead th {\n",
       "        text-align: right;\n",
       "    }\n",
       "</style>\n",
       "<table border=\"1\" class=\"dataframe\">\n",
       "  <thead>\n",
       "    <tr style=\"text-align: right;\">\n",
       "      <th></th>\n",
       "      <th>duration</th>\n",
       "    </tr>\n",
       "    <tr>\n",
       "      <th>tariff</th>\n",
       "      <th></th>\n",
       "    </tr>\n",
       "  </thead>\n",
       "  <tbody>\n",
       "    <tr>\n",
       "      <th>smart</th>\n",
       "      <td>931577.0</td>\n",
       "    </tr>\n",
       "    <tr>\n",
       "      <th>ultra</th>\n",
       "      <td>518724.0</td>\n",
       "    </tr>\n",
       "  </tbody>\n",
       "</table>\n",
       "</div>"
      ],
      "text/plain": [
       "        duration\n",
       "tariff          \n",
       "smart   931577.0\n",
       "ultra   518724.0"
      ]
     },
     "execution_count": 21,
     "metadata": {},
     "output_type": "execute_result"
    }
   ],
   "source": [
    "calls_pivot_reset.pivot_table(index='tariff', values=['duration'], aggfunc='sum')"
   ]
  },
  {
   "cell_type": "code",
   "execution_count": 22,
   "id": "479d83f4",
   "metadata": {},
   "outputs": [
    {
     "data": {
      "text/html": [
       "<div>\n",
       "<style scoped>\n",
       "    .dataframe tbody tr th:only-of-type {\n",
       "        vertical-align: middle;\n",
       "    }\n",
       "\n",
       "    .dataframe tbody tr th {\n",
       "        vertical-align: top;\n",
       "    }\n",
       "\n",
       "    .dataframe thead th {\n",
       "        text-align: right;\n",
       "    }\n",
       "</style>\n",
       "<table border=\"1\" class=\"dataframe\">\n",
       "  <thead>\n",
       "    <tr style=\"text-align: right;\">\n",
       "      <th></th>\n",
       "      <th>calls_var</th>\n",
       "      <th>calls_std</th>\n",
       "    </tr>\n",
       "    <tr>\n",
       "      <th>tariff</th>\n",
       "      <th></th>\n",
       "      <th></th>\n",
       "    </tr>\n",
       "  </thead>\n",
       "  <tbody>\n",
       "    <tr>\n",
       "      <th>smart</th>\n",
       "      <td>33.03</td>\n",
       "      <td>5.75</td>\n",
       "    </tr>\n",
       "    <tr>\n",
       "      <th>ultra</th>\n",
       "      <td>97.09</td>\n",
       "      <td>9.85</td>\n",
       "    </tr>\n",
       "  </tbody>\n",
       "</table>\n",
       "</div>"
      ],
      "text/plain": [
       "        calls_var  calls_std\n",
       "tariff                      \n",
       "smart       33.03       5.75\n",
       "ultra       97.09       9.85"
      ]
     },
     "execution_count": 22,
     "metadata": {},
     "output_type": "execute_result"
    }
   ],
   "source": [
    "\n",
    "calls_pivot_reset.groupby('tariff').agg(calls_var=('duration','var'), calls_std=('duration','std')).round(2) # остальные столбцы аналогично\n",
    "calls_pivot_reset.groupby('tariff').agg(calls_var=('messages','var'), calls_std=('messages','std')).round(2) # остальные столбцы аналогично\n",
    "calls_pivot_reset.groupby('tariff').agg(calls_var=('mb_used','var'), calls_std=('mb_used','std')).round(2) # остальные столбцы аналогично"
   ]
  },
  {
   "cell_type": "markdown",
   "id": "aa0b478e-dcb5-4d62-a250-20fb340c9179",
   "metadata": {},
   "source": [
    "Промежуточные выводы: \n",
    "Согласно расчетам, можно говорить, что: \n",
    "- Средняя выручка на Ультре составляет 2219.0, на Смарте - 1166.0 рублей за пользователя\n",
    "- Среднее количество минут, необходимое на тарифе Ультра - 528, сообщений - 52, интернета - 19 гигабайт\n",
    "- Среднее количество минут, необходимое на тарифе Смарт - 423, сообщений - 34, интернета - 17 гигабайт\n",
    "- Общий график распределения по трафику и звонкам представляет собой практически эталонное нормальное распределение, с незначительными смещениями\n",
    "- Средий расход минут в общем: 457, по тарифу \"Ультра\" - 546, по тарифу \"Смарт\" - 420, при этом количество пользователей \"Ультра\" = 143, а \"Смарт\" = 349. Эти данные несколько отличны от тех, что выше, в связи с тем, что пп.1-3 считались функцией median(). \n",
    "- Средняя выручка по клиентам из Москвы составляет 1528.0, из регионов - 1471.0 рублей; \n",
    "- Дисперсия по минутам по тарифу Ультра составляет 7006426, по тарифу Смарт - 3042391\n",
    "- Дисперсия по сообщениям в тарифе Ультра составляет 14, в тарифе Смарт - 14\n",
    "- Дисперсия по траффику в тарифе Ультра составляет 7705, в тарифе Смарт - 3636\n",
    "- Ср.кв.отклонение по минутам по тарифу Ультра составляет 2646, по тарифу Смарт - 1744\n",
    "- Ср.кв.отклонение по минутам по тарифу Ультра составляет 3, по тарифу Смарт - 3\n",
    "- Ср.кв.отклонение по минутам по тарифу Ультра составляет 87, по тарифу Смарт - 60\n",
    "\n",
    "Можно сделать интересный вывод: несмотря на разительное отличие (больше чем в 2 раза) в количестве клиентов на тарифах, общая выручка по клиентам на Ультре составляет 2110018.0, на Смарте - 2591434.0. То есть, несмотря на такую разницу в количестве клиентов, общая сумма прибыли с клиентов на Ультре только на 20% ниже, чем на Смарте. "
   ]
  },
  {
   "cell_type": "markdown",
   "id": "74e54b9e-8d5b-4e6b-9933-5d07f3aa7663",
   "metadata": {},
   "source": [
    "Шаг 4. Проверьте гипотезы: средняя выручка пользователей тарифов «Ультра» и «Смарт» различаются;"
   ]
  },
  {
   "cell_type": "code",
   "execution_count": 23,
   "id": "7a06fe80-5396-44dd-95dc-3e926d05667c",
   "metadata": {
    "tags": []
   },
   "outputs": [
    {
     "name": "stdout",
     "output_type": "stream",
     "text": [
      "Отвергаем нулевую гипотезу\n"
     ]
    }
   ],
   "source": [
    "#создадим два массива по выручке с тарифов Ультра и Смарт\n",
    "\n",
    "# сумма выручки по пользователям тарифа Ультра\n",
    "array1 = np.array(cpr_profit.query('tariff == \"ultra\"').pivot_table(index='user_id', values='month_revenue', aggfunc='sum')) # 143\n",
    "# сумма выручки по пользователям тарифа Смарт\n",
    "array2 = np.array(cpr_profit.query('tariff == \"smart\"').pivot_table(index='user_id', values='month_revenue', aggfunc='sum')) # 349\n",
    "#выборки не равны, отберем в список случайные значения по тарифу смарт, чтобы выборки были равны\n",
    "#array21 = random.choices(array2, k=143) \n",
    "\n",
    "# проверка гипотезы 1: средняя выручка пользователей тарифов «Ультра» и «Смарт» различаются;\n",
    "# альтернативная гипотеза: средние выручки пользователей близки/равны;\n",
    "alpha = 0.05\n",
    "results = scipy.stats.ttest_ind(array1, array2, equal_var = False)\n",
    "\n",
    "\n",
    "if results.pvalue < alpha: \n",
    "    print(\"Отвергаем нулевую гипотезу\")\n",
    "else:\n",
    "    print(\"Не получилось отвергнуть нулевую гипотезу\")"
   ]
  },
  {
   "cell_type": "code",
   "execution_count": 24,
   "id": "eda29c9d-ca1d-4623-bfa8-188284e0c704",
   "metadata": {},
   "outputs": [
    {
     "name": "stdout",
     "output_type": "stream",
     "text": [
      "4.2606313931076085e-250 2070.1522842639592 1289.9735307312696\n",
      "Отвергаем нулевую гипотезу\n"
     ]
    }
   ],
   "source": [
    "# нулевая гипотеза: средняя выручка пользователей равны:\n",
    "# альтернативная гипотеза: средние выручки пользователей близки/равны;\n",
    "\n",
    "array1 = np.array(cpr_profit.query('tariff == \"ultra\"')['month_revenue'])\n",
    "array2 = np.array(cpr_profit.query('tariff == \"smart\"')['month_revenue'])\n",
    "alpha = 0.05\n",
    "results = scipy.stats.ttest_ind(array1, array2, equal_var = False)\n",
    "print(results.pvalue, array1.mean(), array2.mean())\n",
    "if results.pvalue < alpha: \n",
    "    print(\"Отвергаем нулевую гипотезу\")\n",
    "else:\n",
    "    print(\"Не получилось отвергнуть нулевую гипотезу\")"
   ]
  },
  {
   "cell_type": "code",
   "execution_count": 25,
   "id": "a518221c-0f15-4c7b-99d7-0549cd4a5df4",
   "metadata": {
    "tags": []
   },
   "outputs": [
    {
     "name": "stdout",
     "output_type": "stream",
     "text": [
      "Не получилось отвергнуть нулевую гипотезу\n"
     ]
    }
   ],
   "source": [
    "#средняя выручка пользователей из Москвы отличается от выручки пользователей из других регионов.\n",
    "array11 = list(cpr_profit.query('city == \"Москва\"').pivot_table(index='user_id', values='month_revenue', aggfunc='sum')['month_revenue']) #99 \n",
    "array12 = list(cpr_profit.query('city != \"Москва\"').pivot_table(index='user_id', values='month_revenue', aggfunc='sum')['month_revenue']) #393\n",
    "array123 = random.choices(array12, k=99) \n",
    "alpha = 0.05\n",
    "results2 = scipy.stats.ttest_ind(array11, array123, equal_var = False)\n",
    "\n",
    "if results2.pvalue < alpha: \n",
    "    print(\"Отвергаем нулевую гипотезу\")\n",
    "else:\n",
    "    print(\"Не получилось отвергнуть нулевую гипотезу\")\n",
    "    "
   ]
  },
  {
   "cell_type": "code",
   "execution_count": 26,
   "id": "e2ab2fa4-26ee-4da3-87d6-876c61a226ea",
   "metadata": {},
   "outputs": [
    {
     "name": "stdout",
     "output_type": "stream",
     "text": [
      "0.5257376663729298 1546.7135842880523 1524.9362274298885\n",
      "Не получилось отвергнуть нулевую гипотезу\n"
     ]
    }
   ],
   "source": [
    "# нулевая гипотеза: средняя выручка пользователей из Москвы и выручка пользователей из других регионов равны\n",
    "# альтернативная гипотеза: средние выручки близки/равны;\n",
    "\n",
    "\n",
    "array11 = np.array(cpr_profit.query('city == \"Москва\"')['month_revenue'])\n",
    "array12 = np.array(cpr_profit.query('city != \"Москва\"')['month_revenue'])\n",
    "alpha = 0.05\n",
    "results = scipy.stats.ttest_ind(array11, array12, equal_var = False)\n",
    "print(results.pvalue, array11.mean(), array12.mean())\n",
    "if results.pvalue < alpha: \n",
    "    print(\"Отвергаем нулевую гипотезу\")\n",
    "else:\n",
    "    print(\"Не получилось отвергнуть нулевую гипотезу\")"
   ]
  },
  {
   "cell_type": "markdown",
   "id": "3d4a1c96-d5f3-41b4-a6d5-9c4cf466de66",
   "metadata": {},
   "source": [
    "### 4. Общий вывод: \n",
    "Исходная задача была сформулирована так: на основе данных понять, какой тариф является наиболее прибыльным для компании. \n",
    "\n",
    "В исходных таблицах данные были представлены практически без искажений.\n",
    "Был изменен формат дат, округлены \"вверх\" количество минут, гигабайт. \n",
    "\n",
    "В процессе анализа были выявлено, что, несмотря на более чем двукратный разрыв в количестве клиентов, средняя общая выручка по тарифам отличается незначительно, тариф Ультра \"отстает\" от Смарта примерно на 20%. При этом в среднем по пользователям, разница практически в два раза - Смарт однозначно менее прибылен. \n",
    "\n",
    "После проверки гипотез было выявлено, что средние выручки по тарифам Ультра и Смарт не равны, а выручка от клиентов из Москвы не отличается от выручки по клиентам из других регионов. \n",
    "\n",
    "\n",
    "\n"
   ]
  },
  {
   "cell_type": "code",
   "execution_count": null,
   "id": "889eef98-0703-49af-99e2-182a0089f80f",
   "metadata": {},
   "outputs": [],
   "source": []
  }
 ],
 "metadata": {
  "ExecuteTimeLog": [
   {
    "duration": 84,
    "start_time": "2022-04-09T13:43:15.555Z"
   },
   {
    "duration": 4,
    "start_time": "2022-04-09T13:43:18.808Z"
   },
   {
    "duration": 10,
    "start_time": "2022-04-09T13:44:44.918Z"
   },
   {
    "duration": 8,
    "start_time": "2022-04-09T13:44:49.033Z"
   },
   {
    "duration": 16,
    "start_time": "2022-04-09T13:45:09.805Z"
   },
   {
    "duration": 8,
    "start_time": "2022-04-09T13:47:31.333Z"
   },
   {
    "duration": 20,
    "start_time": "2022-04-09T13:47:37.032Z"
   },
   {
    "duration": 20,
    "start_time": "2022-04-09T13:47:43.697Z"
   },
   {
    "duration": 894,
    "start_time": "2022-04-12T10:16:33.833Z"
   },
   {
    "duration": 414,
    "start_time": "2022-04-12T10:16:34.729Z"
   },
   {
    "duration": 75,
    "start_time": "2022-04-12T10:16:35.145Z"
   },
   {
    "duration": 4,
    "start_time": "2022-04-12T10:16:35.222Z"
   },
   {
    "duration": 80,
    "start_time": "2022-04-12T10:16:35.229Z"
   },
   {
    "duration": 60,
    "start_time": "2022-04-12T10:16:35.311Z"
   },
   {
    "duration": 62,
    "start_time": "2022-04-12T10:16:35.373Z"
   },
   {
    "duration": 33,
    "start_time": "2022-04-12T10:16:35.437Z"
   },
   {
    "duration": 59,
    "start_time": "2022-04-12T10:16:35.472Z"
   },
   {
    "duration": 13,
    "start_time": "2022-04-12T10:16:35.547Z"
   },
   {
    "duration": 3,
    "start_time": "2022-04-12T10:16:35.562Z"
   },
   {
    "duration": 60,
    "start_time": "2022-04-12T10:16:35.566Z"
   },
   {
    "duration": 25,
    "start_time": "2022-04-12T10:16:35.648Z"
   },
   {
    "duration": 29,
    "start_time": "2022-04-12T10:16:35.676Z"
   },
   {
    "duration": 47,
    "start_time": "2022-04-12T10:16:35.706Z"
   },
   {
    "duration": 31,
    "start_time": "2022-04-12T10:16:35.755Z"
   },
   {
    "duration": 14,
    "start_time": "2022-04-12T10:16:35.788Z"
   },
   {
    "duration": 1678,
    "start_time": "2022-04-12T10:16:35.805Z"
   },
   {
    "duration": 1370,
    "start_time": "2022-04-12T10:16:37.485Z"
   },
   {
    "duration": 934,
    "start_time": "2022-04-12T10:16:38.857Z"
   },
   {
    "duration": 2,
    "start_time": "2022-04-12T10:16:39.793Z"
   },
   {
    "duration": 53,
    "start_time": "2022-04-12T10:16:39.797Z"
   },
   {
    "duration": 12,
    "start_time": "2022-04-12T10:16:39.852Z"
   },
   {
    "duration": 84,
    "start_time": "2022-04-12T10:16:39.866Z"
   },
   {
    "duration": 26,
    "start_time": "2022-04-12T10:16:39.952Z"
   },
   {
    "duration": 11,
    "start_time": "2022-04-12T10:16:39.980Z"
   },
   {
    "duration": 24,
    "start_time": "2022-04-12T10:16:39.993Z"
   },
   {
    "duration": 38,
    "start_time": "2022-04-12T10:16:40.019Z"
   },
   {
    "duration": 838,
    "start_time": "2022-04-12T10:18:11.898Z"
   },
   {
    "duration": 645,
    "start_time": "2022-04-12T10:18:17.541Z"
   },
   {
    "duration": 1504,
    "start_time": "2022-04-12T10:18:21.633Z"
   },
   {
    "duration": 965,
    "start_time": "2022-04-12T10:18:43.160Z"
   },
   {
    "duration": 1133,
    "start_time": "2022-04-12T10:19:10.591Z"
   },
   {
    "duration": 1090,
    "start_time": "2022-04-12T10:19:13.400Z"
   },
   {
    "duration": 645,
    "start_time": "2022-04-12T10:20:10.463Z"
   },
   {
    "duration": 320,
    "start_time": "2022-04-12T10:21:20.209Z"
   },
   {
    "duration": 168,
    "start_time": "2022-04-12T10:21:24.588Z"
   },
   {
    "duration": 198,
    "start_time": "2022-04-12T10:21:33.172Z"
   },
   {
    "duration": 164,
    "start_time": "2022-04-12T10:21:38.039Z"
   },
   {
    "duration": 199,
    "start_time": "2022-04-12T10:21:40.107Z"
   },
   {
    "duration": 3,
    "start_time": "2022-04-12T10:32:05.653Z"
   },
   {
    "duration": 424,
    "start_time": "2022-04-12T10:32:05.658Z"
   },
   {
    "duration": 69,
    "start_time": "2022-04-12T10:32:06.083Z"
   },
   {
    "duration": 4,
    "start_time": "2022-04-12T10:32:06.154Z"
   },
   {
    "duration": 63,
    "start_time": "2022-04-12T10:32:06.160Z"
   },
   {
    "duration": 46,
    "start_time": "2022-04-12T10:32:06.225Z"
   },
   {
    "duration": 53,
    "start_time": "2022-04-12T10:32:06.273Z"
   },
   {
    "duration": 34,
    "start_time": "2022-04-12T10:32:06.328Z"
   },
   {
    "duration": 33,
    "start_time": "2022-04-12T10:32:06.364Z"
   },
   {
    "duration": 11,
    "start_time": "2022-04-12T10:32:06.399Z"
   },
   {
    "duration": 3,
    "start_time": "2022-04-12T10:32:06.411Z"
   },
   {
    "duration": 67,
    "start_time": "2022-04-12T10:32:06.415Z"
   },
   {
    "duration": 19,
    "start_time": "2022-04-12T10:32:06.483Z"
   },
   {
    "duration": 44,
    "start_time": "2022-04-12T10:32:06.504Z"
   },
   {
    "duration": 20,
    "start_time": "2022-04-12T10:32:06.550Z"
   },
   {
    "duration": 21,
    "start_time": "2022-04-12T10:32:06.572Z"
   },
   {
    "duration": 10,
    "start_time": "2022-04-12T10:32:06.595Z"
   },
   {
    "duration": 846,
    "start_time": "2022-04-12T10:32:06.606Z"
   },
   {
    "duration": 305,
    "start_time": "2022-04-12T10:32:07.454Z"
   },
   {
    "duration": 906,
    "start_time": "2022-04-12T10:32:07.761Z"
   },
   {
    "duration": 928,
    "start_time": "2022-04-12T10:32:08.668Z"
   },
   {
    "duration": 2,
    "start_time": "2022-04-12T10:32:09.598Z"
   },
   {
    "duration": 54,
    "start_time": "2022-04-12T10:32:09.601Z"
   },
   {
    "duration": 12,
    "start_time": "2022-04-12T10:32:09.658Z"
   },
   {
    "duration": 45,
    "start_time": "2022-04-12T10:32:09.672Z"
   },
   {
    "duration": 43,
    "start_time": "2022-04-12T10:32:09.719Z"
   },
   {
    "duration": 12,
    "start_time": "2022-04-12T10:32:09.763Z"
   },
   {
    "duration": 20,
    "start_time": "2022-04-12T10:32:09.777Z"
   },
   {
    "duration": 10,
    "start_time": "2022-04-12T10:32:09.799Z"
   },
   {
    "duration": 3,
    "start_time": "2022-04-12T10:34:39.741Z"
   },
   {
    "duration": 395,
    "start_time": "2022-04-12T10:34:39.745Z"
   },
   {
    "duration": 66,
    "start_time": "2022-04-12T10:34:40.142Z"
   },
   {
    "duration": 3,
    "start_time": "2022-04-12T10:34:40.211Z"
   },
   {
    "duration": 55,
    "start_time": "2022-04-12T10:34:40.216Z"
   },
   {
    "duration": 35,
    "start_time": "2022-04-12T10:34:40.273Z"
   },
   {
    "duration": 50,
    "start_time": "2022-04-12T10:34:40.310Z"
   },
   {
    "duration": 18,
    "start_time": "2022-04-12T10:34:40.361Z"
   },
   {
    "duration": 34,
    "start_time": "2022-04-12T10:34:40.380Z"
   },
   {
    "duration": 32,
    "start_time": "2022-04-12T10:34:40.417Z"
   },
   {
    "duration": 2,
    "start_time": "2022-04-12T10:34:40.451Z"
   },
   {
    "duration": 38,
    "start_time": "2022-04-12T10:34:40.455Z"
   },
   {
    "duration": 19,
    "start_time": "2022-04-12T10:34:40.495Z"
   },
   {
    "duration": 23,
    "start_time": "2022-04-12T10:34:40.547Z"
   },
   {
    "duration": 21,
    "start_time": "2022-04-12T10:34:40.571Z"
   },
   {
    "duration": 19,
    "start_time": "2022-04-12T10:34:40.593Z"
   },
   {
    "duration": 35,
    "start_time": "2022-04-12T10:34:40.614Z"
   },
   {
    "duration": 646,
    "start_time": "2022-04-12T10:34:40.650Z"
   },
   {
    "duration": 208,
    "start_time": "2022-04-12T10:34:41.298Z"
   },
   {
    "duration": 926,
    "start_time": "2022-04-12T10:34:41.507Z"
   },
   {
    "duration": 731,
    "start_time": "2022-04-12T10:34:42.435Z"
   },
   {
    "duration": 2,
    "start_time": "2022-04-12T10:34:43.168Z"
   },
   {
    "duration": 240,
    "start_time": "2022-04-12T10:34:43.172Z"
   },
   {
    "duration": 11,
    "start_time": "2022-04-12T10:34:43.414Z"
   },
   {
    "duration": 60,
    "start_time": "2022-04-12T10:34:43.427Z"
   },
   {
    "duration": 21,
    "start_time": "2022-04-12T10:34:43.489Z"
   },
   {
    "duration": 10,
    "start_time": "2022-04-12T10:34:43.512Z"
   },
   {
    "duration": 22,
    "start_time": "2022-04-12T10:34:43.547Z"
   },
   {
    "duration": 11,
    "start_time": "2022-04-12T10:34:43.571Z"
   },
   {
    "duration": 14,
    "start_time": "2022-04-12T10:40:43.448Z"
   },
   {
    "duration": 15,
    "start_time": "2022-04-12T10:40:56.710Z"
   },
   {
    "duration": 3,
    "start_time": "2022-04-12T10:47:24.300Z"
   },
   {
    "duration": 370,
    "start_time": "2022-04-12T10:47:24.304Z"
   },
   {
    "duration": 68,
    "start_time": "2022-04-12T10:47:24.676Z"
   },
   {
    "duration": 4,
    "start_time": "2022-04-12T10:47:24.746Z"
   },
   {
    "duration": 53,
    "start_time": "2022-04-12T10:47:24.752Z"
   },
   {
    "duration": 44,
    "start_time": "2022-04-12T10:47:24.807Z"
   },
   {
    "duration": 42,
    "start_time": "2022-04-12T10:47:24.853Z"
   },
   {
    "duration": 16,
    "start_time": "2022-04-12T10:47:24.897Z"
   },
   {
    "duration": 52,
    "start_time": "2022-04-12T10:47:24.916Z"
   },
   {
    "duration": 9,
    "start_time": "2022-04-12T10:47:24.969Z"
   },
   {
    "duration": 2,
    "start_time": "2022-04-12T10:47:24.980Z"
   },
   {
    "duration": 41,
    "start_time": "2022-04-12T10:47:24.983Z"
   },
   {
    "duration": 36,
    "start_time": "2022-04-12T10:47:25.026Z"
   },
   {
    "duration": 23,
    "start_time": "2022-04-12T10:47:25.064Z"
   },
   {
    "duration": 19,
    "start_time": "2022-04-12T10:47:25.089Z"
   },
   {
    "duration": 49,
    "start_time": "2022-04-12T10:47:25.110Z"
   },
   {
    "duration": 12,
    "start_time": "2022-04-12T10:47:25.160Z"
   },
   {
    "duration": 667,
    "start_time": "2022-04-12T10:47:25.174Z"
   },
   {
    "duration": 206,
    "start_time": "2022-04-12T10:47:25.843Z"
   },
   {
    "duration": 740,
    "start_time": "2022-04-12T10:47:26.051Z"
   },
   {
    "duration": 939,
    "start_time": "2022-04-12T10:47:26.793Z"
   },
   {
    "duration": 2,
    "start_time": "2022-04-12T10:47:27.734Z"
   },
   {
    "duration": 41,
    "start_time": "2022-04-12T10:47:27.747Z"
   },
   {
    "duration": 12,
    "start_time": "2022-04-12T10:47:27.791Z"
   },
   {
    "duration": 69,
    "start_time": "2022-04-12T10:47:27.804Z"
   },
   {
    "duration": 15,
    "start_time": "2022-04-12T10:47:27.875Z"
   },
   {
    "duration": 20,
    "start_time": "2022-04-12T10:47:27.891Z"
   },
   {
    "duration": 36,
    "start_time": "2022-04-12T10:47:27.912Z"
   },
   {
    "duration": 21,
    "start_time": "2022-04-12T10:47:27.949Z"
   },
   {
    "duration": 10,
    "start_time": "2022-04-12T10:47:27.971Z"
   }
  ],
  "kernelspec": {
   "display_name": "Python 3 (ipykernel)",
   "language": "python",
   "name": "python3"
  },
  "language_info": {
   "codemirror_mode": {
    "name": "ipython",
    "version": 3
   },
   "file_extension": ".py",
   "mimetype": "text/x-python",
   "name": "python",
   "nbconvert_exporter": "python",
   "pygments_lexer": "ipython3",
   "version": "3.9.12"
  },
  "toc": {
   "base_numbering": 1,
   "nav_menu": {},
   "number_sections": true,
   "sideBar": true,
   "skip_h1_title": true,
   "title_cell": "Table of Contents",
   "title_sidebar": "Contents",
   "toc_cell": false,
   "toc_position": {},
   "toc_section_display": true,
   "toc_window_display": false
  }
 },
 "nbformat": 4,
 "nbformat_minor": 5
}
